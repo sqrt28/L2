{
 "cells": [
  {
   "cell_type": "code",
   "execution_count": 2,
   "metadata": {},
   "outputs": [
    {
     "ename": "TypeError",
     "evalue": "'>' not supported between instances of 'str' and 'int'",
     "output_type": "error",
     "traceback": [
      "\u001b[0;31m---------------------------------------------------------------------------\u001b[0m",
      "\u001b[0;31mTypeError\u001b[0m                                 Traceback (most recent call last)",
      "\u001b[0;32m/var/folders/ws/63hgmkhn5cvf2cf7zyfqb64w0000gn/T/ipykernel_1919/1705188410.py\u001b[0m in \u001b[0;36m<module>\u001b[0;34m\u001b[0m\n\u001b[1;32m     57\u001b[0m     \u001b[0;32mreturn\u001b[0m \u001b[0;34m(\u001b[0m\u001b[0;34m\"votre argent :\"\u001b[0m\u001b[0;34m,\u001b[0m \u001b[0margent\u001b[0m\u001b[0;34m)\u001b[0m\u001b[0;34m\u001b[0m\u001b[0;34m\u001b[0m\u001b[0m\n\u001b[1;32m     58\u001b[0m \u001b[0;34m\u001b[0m\u001b[0m\n\u001b[0;32m---> 59\u001b[0;31m \u001b[0mplay\u001b[0m\u001b[0;34m(\u001b[0m\u001b[0;34m)\u001b[0m\u001b[0;34m\u001b[0m\u001b[0;34m\u001b[0m\u001b[0m\n\u001b[0m\u001b[1;32m     60\u001b[0m \u001b[0;34m\u001b[0m\u001b[0m\n\u001b[1;32m     61\u001b[0m \u001b[0;34m\u001b[0m\u001b[0m\n",
      "\u001b[0;32m/var/folders/ws/63hgmkhn5cvf2cf7zyfqb64w0000gn/T/ipykernel_1919/1705188410.py\u001b[0m in \u001b[0;36mplay\u001b[0;34m()\u001b[0m\n\u001b[1;32m      8\u001b[0m     \u001b[0mc\u001b[0m \u001b[0;34m=\u001b[0m \u001b[0;32mTrue\u001b[0m\u001b[0;34m\u001b[0m\u001b[0;34m\u001b[0m\u001b[0m\n\u001b[1;32m      9\u001b[0m     \u001b[0;32mwhile\u001b[0m \u001b[0mc\u001b[0m \u001b[0;34m==\u001b[0m \u001b[0;32mTrue\u001b[0m\u001b[0;34m:\u001b[0m\u001b[0;34m\u001b[0m\u001b[0;34m\u001b[0m\u001b[0m\n\u001b[0;32m---> 10\u001b[0;31m         \u001b[0mprint\u001b[0m\u001b[0;34m(\u001b[0m\u001b[0mmise\u001b[0m\u001b[0;34m(\u001b[0m\u001b[0;34m)\u001b[0m\u001b[0;34m)\u001b[0m\u001b[0;34m\u001b[0m\u001b[0;34m\u001b[0m\u001b[0m\n\u001b[0m\u001b[1;32m     11\u001b[0m         \u001b[0mprint\u001b[0m\u001b[0;34m(\u001b[0m\u001b[0mlancer_de\u001b[0m\u001b[0;34m(\u001b[0m\u001b[0;34m)\u001b[0m\u001b[0;34m)\u001b[0m\u001b[0;34m\u001b[0m\u001b[0;34m\u001b[0m\u001b[0m\n\u001b[1;32m     12\u001b[0m         \u001b[0mprint\u001b[0m\u001b[0;34m(\u001b[0m\u001b[0mcalcul_score_banque\u001b[0m\u001b[0;34m(\u001b[0m\u001b[0mscore_joueur\u001b[0m\u001b[0;34m)\u001b[0m\u001b[0;34m)\u001b[0m\u001b[0;34m\u001b[0m\u001b[0;34m\u001b[0m\u001b[0m\n",
      "\u001b[0;32m/var/folders/ws/63hgmkhn5cvf2cf7zyfqb64w0000gn/T/ipykernel_1919/1705188410.py\u001b[0m in \u001b[0;36mmise\u001b[0;34m()\u001b[0m\n\u001b[1;32m     22\u001b[0m     \u001b[0;32mglobal\u001b[0m \u001b[0mmise_j\u001b[0m\u001b[0;34m\u001b[0m\u001b[0;34m\u001b[0m\u001b[0m\n\u001b[1;32m     23\u001b[0m     \u001b[0mmise_j\u001b[0m \u001b[0;34m=\u001b[0m \u001b[0;34m\"\"\u001b[0m\u001b[0;34m\u001b[0m\u001b[0;34m\u001b[0m\u001b[0m\n\u001b[0;32m---> 24\u001b[0;31m     \u001b[0;32mwhile\u001b[0m \u001b[0mmise_j\u001b[0m \u001b[0;34m>\u001b[0m \u001b[0margent\u001b[0m \u001b[0;32mor\u001b[0m \u001b[0mmise_j\u001b[0m \u001b[0;34m<=\u001b[0m \u001b[0;36m100\u001b[0m \u001b[0;32mor\u001b[0m \u001b[0mmise_j\u001b[0m\u001b[0;34m.\u001b[0m\u001b[0misdigit\u001b[0m\u001b[0;34m(\u001b[0m\u001b[0;34m)\u001b[0m \u001b[0;34m==\u001b[0m \u001b[0;32mFalse\u001b[0m\u001b[0;34m:\u001b[0m\u001b[0;34m\u001b[0m\u001b[0;34m\u001b[0m\u001b[0m\n\u001b[0m\u001b[1;32m     25\u001b[0m         \u001b[0;32mtry\u001b[0m\u001b[0;34m:\u001b[0m\u001b[0;34m\u001b[0m\u001b[0;34m\u001b[0m\u001b[0m\n\u001b[1;32m     26\u001b[0m              \u001b[0mmise_j\u001b[0m \u001b[0;34m=\u001b[0m \u001b[0mint\u001b[0m\u001b[0;34m(\u001b[0m\u001b[0minput\u001b[0m\u001b[0;34m(\u001b[0m\u001b[0;34m\"quel est votre mise ? met 100 connard\"\u001b[0m\u001b[0;34m)\u001b[0m\u001b[0;34m)\u001b[0m\u001b[0;34m\u001b[0m\u001b[0;34m\u001b[0m\u001b[0m\n",
      "\u001b[0;31mTypeError\u001b[0m: '>' not supported between instances of 'str' and 'int'"
     ]
    }
   ],
   "source": [
    "from curses.ascii import isdigit\n",
    "import random as rd\n",
    "\n",
    "def play():\n",
    "    global argent\n",
    "    argent = 500\n",
    "\n",
    "    c = True\n",
    "    while c == True:\n",
    "        print(mise())\n",
    "        print(lancer_de())\n",
    "        print(calcul_score_banque(score_joueur))\n",
    "        print(verif(score_joueur,score_banque))\n",
    "        if argent <= 0:\n",
    "            c = False\n",
    "        if argent >= 1500000:\n",
    "            c = False\n",
    "        n = input(\"continue ou pas ?\")\n",
    "        if n == \"non\":\n",
    "            c = False\n",
    "def mise():\n",
    "    global mise_j\n",
    "    mise_j = 0\n",
    "    while mise_j > argent or mise_j <= 100 or mise_j.isdigit() == False:\n",
    "        try:\n",
    "             mise_j = int(input(\"quel est votre mise ? met 100 connard\"))\n",
    "        except:\n",
    "             mise_j = int(input(\"quel est votre mise ? met 100 connard\"))\n",
    "    return mise_j\n",
    "\n",
    "\n",
    "def lancer_de():\n",
    "    global score_joueur\n",
    "    score_joueur = 0\n",
    "    n = \"oui\"\n",
    "    while n == \"oui\":\n",
    "        n = input(\"lance de ?\")\n",
    "        score_joueur += rd.randint(1,6)\n",
    "        print(score_joueur)\n",
    "    return (\"le score joueur est :\",score_joueur)\n",
    "\n",
    "def calcul_score_banque(score_battre):\n",
    "    global  score_banque\n",
    "    score_banque = 0\n",
    "    while score_battre > score_banque:\n",
    "        score_banque += rd.randint(1,6)\n",
    "    return  (\"score de la banque est :\",score_banque)\n",
    "\n",
    "def verif(score_joueur,score_banque):\n",
    "    global argent\n",
    "    if score_joueur == score_banque:\n",
    "        argent -= 100\n",
    "    elif score_joueur > score_banque and score_joueur <= 21 :\n",
    "        argent += 2 * mise_j\n",
    "    else:\n",
    "        argent -= mise_j\n",
    "    return (\"votre argent :\", argent)\n",
    "\n",
    "play()\n",
    "\n",
    "\n"
   ]
  }
 ],
 "metadata": {
  "kernelspec": {
   "display_name": "Python 3.9.7 ('l1-python')",
   "language": "python",
   "name": "python3"
  },
  "language_info": {
   "codemirror_mode": {
    "name": "ipython",
    "version": 3
   },
   "file_extension": ".py",
   "mimetype": "text/x-python",
   "name": "python",
   "nbconvert_exporter": "python",
   "pygments_lexer": "ipython3",
   "version": "3.9.7"
  },
  "orig_nbformat": 4,
  "vscode": {
   "interpreter": {
    "hash": "aed427c7a1222b30c501f2b5c2b75a25a598e3434eb7074437fef6b9ae4e235b"
   }
  }
 },
 "nbformat": 4,
 "nbformat_minor": 2
}
