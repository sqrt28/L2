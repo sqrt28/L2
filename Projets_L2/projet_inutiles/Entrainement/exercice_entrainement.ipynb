{
 "cells": [
  {
   "cell_type": "code",
   "execution_count": 4,
   "metadata": {},
   "outputs": [
    {
     "ename": "SyntaxError",
     "evalue": "invalid syntax (1724622598.py, line 3)",
     "output_type": "error",
     "traceback": [
      "\u001b[0;36m  File \u001b[0;32m\"/var/folders/ws/63hgmkhn5cvf2cf7zyfqb64w0000gn/T/ipykernel_5329/1724622598.py\"\u001b[0;36m, line \u001b[0;32m3\u001b[0m\n\u001b[0;31m    a = 10 + 10A\u001b[0m\n\u001b[0m               ^\u001b[0m\n\u001b[0;31mSyntaxError\u001b[0m\u001b[0;31m:\u001b[0m invalid syntax\n"
     ]
    }
   ],
   "source": [
    "print(3+3,6-1,5*5,8/2)\n",
    "print(\"CodeTonExo.com\")\n",
    "a = 10 + 10\n",
    "print(\"le résultat est de\", a)"
   ]
  },
  {
   "cell_type": "code",
   "execution_count": 6,
   "metadata": {},
   "outputs": [
    {
     "name": "stdout",
     "output_type": "stream",
     "text": [
      "SALUT MEC\n",
      "salut mec\n"
     ]
    }
   ],
   "source": [
    "c = input(\"écrire une phrase\")\n",
    "print(c.upper())\n",
    "print(c.lower())\n",
    "\n"
   ]
  },
  {
   "cell_type": "code",
   "execution_count": 12,
   "metadata": {},
   "outputs": [
    {
     "name": "stdout",
     "output_type": "stream",
     "text": [
      "[0, 7, 14, 21, 28, 35, 42, 49, 56, 63, 70]\n"
     ]
    }
   ],
   "source": [
    "\n",
    "\n",
    "a = int(input(\"quel table de multiplication ?\"))\n",
    "l = [a*i for i in range(11)]\n",
    "print(l)"
   ]
  },
  {
   "cell_type": "code",
   "execution_count": 15,
   "metadata": {},
   "outputs": [
    {
     "data": {
      "text/plain": [
       "'ce sont des anagrammes'"
      ]
     },
     "execution_count": 15,
     "metadata": {},
     "output_type": "execute_result"
    }
   ],
   "source": [
    "def anagramme(a,b):\n",
    "    liste1 = list(a)\n",
    "    liste2 = list(b)\n",
    "    liste1.sort()\n",
    "    liste2.sort()\n",
    "    if liste1 == liste2:\n",
    "        return \"ce sont des anagrammes\"\n",
    "    else:\n",
    "        return \"ce ne sont pas des anagrammes\"\n",
    "    \n",
    "\n",
    "anagramme(\"louer\",\"roule\")\n",
    "    \n"
   ]
  },
  {
   "cell_type": "code",
   "execution_count": 21,
   "metadata": {},
   "outputs": [
    {
     "name": "stdout",
     "output_type": "stream",
     "text": [
      "ok\n"
     ]
    }
   ],
   "source": [
    "c = input(\"chaine\")\n",
    "c.join(\" \")\n",
    "print(c)"
   ]
  },
  {
   "cell_type": "code",
   "execution_count": 35,
   "metadata": {},
   "outputs": [
    {
     "name": "stdout",
     "output_type": "stream",
     "text": [
      "[' '] | [' '] | [' ']      1 | 2 | 3\n",
      "[' '] | [' '] | [' ']      4 | 5 | 6\n",
      "[' '] | [' '] | [' ']      7 | 8 | 9\n"
     ]
    }
   ],
   "source": [
    "def newboard():\n",
    "    global liste_jeu\n",
    "    liste_jeu =[[' '], [' '], [' '],\n",
    "                 [' '], [' '], [' '],\n",
    "                  [' '], [' '], [' ']]\n",
    "    liste_nombre = [[1], [2], [3],\n",
    "                    [4], [5], [6],\n",
    "                    [7], [8], [9]]\n",
    "    return (liste_jeu, liste_nombre)\n",
    "\n",
    "def affichage():\n",
    "    print(liste_jeu[0], '|', liste_jeu[1], '|', liste_jeu[2], '     1 | 2 | 3')\n",
    "    print(liste_jeu[3], '|', liste_jeu[4], '|', liste_jeu[5], '     4 | 5 | 6')\n",
    "    print(liste_jeu[6], '|', liste_jeu[7], '|', liste_jeu[8], '     7 | 8 | 9')\n",
    "\n",
    "def jouer():\n",
    "    global liste_jeu,res\n",
    "    alternance = True\n",
    "    nbr = 9\n",
    "    \n",
    "    for i in range(nbr):\n",
    "            if alternance == True:\n",
    "                if res ==0:\n",
    "                    print(\"Joueur croix à vous de jouer:\")\n",
    "                    c = int(input(\"Joueur Croix : choisir une Case: entrer 1,2,3,4,5,6,7,8,9\"))\n",
    "                    if liste_jeu[c-1][0] == \"X\" or liste_jeu[c-1] == \"O\":\n",
    "                        c = int(input(\"recommencer svp Joueur Croix : choisir une Case: entrer 1,2,3,4,5,6,7,8,9\"))\n",
    "                        liste_jeu[c-1][0] = \"X\"\n",
    "                    \n",
    "                    else:\n",
    "                        liste_jeu[c-1][0] = \"X\"\n",
    "                    \n",
    "                    alternance = False\n",
    "                    print(liste_jeu[0], '|', liste_jeu[1], '|', liste_jeu[2], '     1 | 2 | 3')\n",
    "                    print(liste_jeu[3], '|', liste_jeu[4], '|', liste_jeu[5], '     4 | 5 | 6')\n",
    "                    print(liste_jeu[6], '|', liste_jeu[7], '|', liste_jeu[8], '     7 | 8 | 9')\n",
    "                    gagner()\n",
    "            else :\n",
    "                if res == 0:\n",
    "                    print(\"Joueur ronds à vous de jouer:\")\n",
    "                    c = int(input(\"Joeur Cercle : choisir une Case: entrer 1,2,3,4,5,6,7,8,9\"))\n",
    "            \n",
    "                    if liste_jeu[c-1][0] == \"X\" or liste_jeu[c-1][0] == \"O\":\n",
    "                        c = int(input(\"recommencer svp Joueur Croix : choisir une Case: entrer 1,2,3,4,5,6,7,8,9\"))\n",
    "                        liste_jeu[c-1][0] = \"O\"\n",
    "                  \n",
    "                    else:\n",
    "                        liste_jeu[c-1][0] = \"O\"\n",
    "                    \n",
    "                    alternance = True\n",
    "                    print(liste_jeu[0], '|', liste_jeu[1], '|', liste_jeu[2], '     1 | 2 | 3')\n",
    "                    print(liste_jeu[3], '|', liste_jeu[4], '|', liste_jeu[5], '     4 | 5 | 6')\n",
    "                    print(liste_jeu[6], '|', liste_jeu[7], '|', liste_jeu[8], '     7 | 8 | 9')\n",
    "                    gagner()\n",
    "    \n",
    "   \n",
    "\n",
    "def gagner():\n",
    "    global liste_jeu, res\n",
    "    res = 0\n",
    "\n",
    "    if [[\"X\"],[\"X\"],[\"X\"]] ==   [liste_jeu[0],liste_jeu[1],liste_jeu[2]] or [[\"X\"],[\"X\"],[\"X\"]] ==   [liste_jeu[3],liste_jeu[4],liste_jeu[5]] or [[\"X\"],[\"X\"],[\"X\"]] ==   [liste_jeu[6],liste_jeu[7],liste_jeu[8]] :\n",
    "        res +=1\n",
    "        return \"gagner pour joeur croix (3 croix en ligne)\"\n",
    "    \n",
    "    if [[\"X\"],[\"X\"],[\"X\"]] ==   [liste_jeu[0],liste_jeu[3],liste_jeu[6]] or [[\"X\"],[\"X\"],[\"X\"]] ==   [liste_jeu[1],liste_jeu[4],liste_jeu[7]] or [[\"X\"],[\"X\"],[\"X\"]] ==   [liste_jeu[2],liste_jeu[5],liste_jeu[8]] :\n",
    "        res +=1\n",
    "        return \"gagner pour joeur croix (3 croix en colonne)\"\n",
    "    \n",
    "    if [[\"0\"],[\"X\"],[\"X\"]] ==   [liste_jeu[0],liste_jeu[4],liste_jeu[8]] or [[\"X\"],[\"X\"],[\"X\"]] ==   [liste_jeu[6],liste_jeu[4],liste_jeu[2]] :\n",
    "        res +=1\n",
    "        return \"gagner pour joeur croix (3 croix en diagonale)\"\n",
    "    \n",
    "    \n",
    "    \n",
    "    \n",
    "    if [[\"O\"],[\"O\"],[\"O\"]] ==   [liste_jeu[0],liste_jeu[1],liste_jeu[2]] or [[\"O\"],[\"O\"],[\"O\"]] ==   [liste_jeu[3],liste_jeu[4],liste_jeu[5]] or [[\"O\"],[\"O\"],[\"O\"]] ==   [liste_jeu[6],liste_jeu[7],liste_jeu[8]] :\n",
    "        res +=1\n",
    "        return \"gagner pour joeur rond(3 rond en ligne)\"\n",
    "    \n",
    "    if [[\"O\"],[\"O\"],[\"O\"]] ==   [liste_jeu[0],liste_jeu[3],liste_jeu[6]] or [[\"O\"],[\"O\"],[\"O\"]] ==   [liste_jeu[1],liste_jeu[4],liste_jeu[7]] or [[\"O\"],[\"O\"],[\"O\"]] ==   [liste_jeu[2],liste_jeu[5],liste_jeu[8]] :\n",
    "        res +=1\n",
    "        return \"gagner pour joeur rond (3 rond en colonne)\"\n",
    "    \n",
    "    if [[\"O\"],[\"O\"],[\"O\"]] ==   [liste_jeu[0],liste_jeu[4],liste_jeu[8]] or [[\"O\"],[\"O\"],[\"O\"]] ==   [liste_jeu[6],liste_jeu[4],liste_jeu[2]] :\n",
    "        res +=1\n",
    "        return \"gagner pour joeur rond (3 rond en diagonale)\"\n",
    "    \n",
    "    \n",
    "    \n",
    "    \n",
    "    \n",
    "    \n",
    "    \n",
    "\n",
    "newboard()\n",
    "affichage()\n",
    "jouer()\n",
    "\n",
    "\n",
    "\n",
    "\n"
   ]
  },
  {
   "cell_type": "code",
   "execution_count": null,
   "metadata": {},
   "outputs": [],
   "source": []
  },
  {
   "cell_type": "code",
   "execution_count": null,
   "metadata": {},
   "outputs": [],
   "source": []
  }
 ],
 "metadata": {
  "interpreter": {
   "hash": "aed427c7a1222b30c501f2b5c2b75a25a598e3434eb7074437fef6b9ae4e235b"
  },
  "kernelspec": {
   "display_name": "Python 3.9.7 ('l1-python')",
   "language": "python",
   "name": "python3"
  },
  "language_info": {
   "codemirror_mode": {
    "name": "ipython",
    "version": 3
   },
   "file_extension": ".py",
   "mimetype": "text/x-python",
   "name": "python",
   "nbconvert_exporter": "python",
   "pygments_lexer": "ipython3",
   "version": "3.9.7"
  },
  "orig_nbformat": 4
 },
 "nbformat": 4,
 "nbformat_minor": 2
}
