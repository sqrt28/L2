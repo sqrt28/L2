{
 "cells": [
  {
   "cell_type": "code",
   "execution_count": 1,
   "metadata": {},
   "outputs": [
    {
     "name": "stdout",
     "output_type": "stream",
     "text": [
      "{'device': 'laptop', 'constructeur': 'acer', 'ram': '8G', 'processeur': 'Intel core i5', 'stockage': '750 G'}\n",
      "device laptop\n",
      "constructeur acer\n",
      "ram 8G\n",
      "processeur Intel core i5\n",
      "stockage 750 G\n",
      "{'device': 'laptop', 'constructeur': 'acer', 'ram': '8G', 'processeur': 'Intel core i5', 'stockage': '750 G', \"Système d'exploitation\": 'Window 10'}\n"
     ]
    }
   ],
   "source": [
    "#exercice 1\n",
    "mydict = {\"device\": \"laptop\" , \"constructeur\": \"acer\" , \"ram\": \"8G\" ,\"processeur\": \"Intel core i5\", \"stockage\": \"500 G\"}\n",
    "mydict[\"stockage\"] = \"750 G\"\n",
    "print(mydict)\n",
    "\n",
    "for key, value in mydict.items():\n",
    "    print(key,value)\n",
    "\n",
    "mydict[\"Système d'exploitation\"] = \"Window 10\"\n",
    "print(mydict)"
   ]
  },
  {
   "cell_type": "code",
   "execution_count": 30,
   "metadata": {},
   "outputs": [
    {
     "name": "stdout",
     "output_type": "stream",
     "text": [
      "{'HP': 11, 'Acer': 7, 'Lenovo': 17, 'Del': 23, 'Sumsung': 15, 'Iphone': 9, 'Other': 13}\n"
     ]
    }
   ],
   "source": [
    "#exercice 2\n",
    "dicPC={\"HP\": 11 , \"Acer\": 7 , \"Lenovo\": 17 , \"Del\": 23}\n",
    "dicPhone={\"Sumsung\": 22 , \"Iphone\": 9 , \"Other\": 13 }\n",
    "dicTablette = {\"Sumsung\": 15 , \"Other\": 13}\n",
    "dicTotal = {}\n",
    "dicTotal.update(dicPC)\n",
    "dicTotal.update(dicPhone)\n",
    "dicTotal.update(dicTablette)\n",
    "print(dicTotal)\n"
   ]
  },
  {
   "cell_type": "code",
   "execution_count": 35,
   "metadata": {},
   "outputs": [
    {
     "name": "stdout",
     "output_type": "stream",
     "text": [
      "{'etudiant_3': 9, 'etudiant_5': 8, 'etudiant_112': 9, 'etudiant_13': 10, 'etudiant_16': 7, 'etudiant_19': 9} {'etudiant_1': 13, 'etudiant_2': 17, 'etudiant_4': 15, 'etudiant_6': 14, 'etudiant_7': 16, 'etudiant_8': 12, 'etudiant_9': 13, 'etudiant_10': 15, 'etudiant_11': 14, 'etudiant_14': 12, 'etudiant_15': 13, 'etudiant_17': 12, 'etudiant_18': 15, 'etudiant_20': 17}\n"
     ]
    }
   ],
   "source": [
    "#exercice 3\n",
    "etudiants = {\"etudiant_1\" : 13 , \"etudiant_2\" : 17 , \"etudiant_3\" : 9 , \"etudiant_4\" : 15 , \n",
    "\t\t\t \"etudiant_5\" : 8 , \"etudiant_6\" : 14 , \"etudiant_7\" : 16 , \"etudiant_8\" : 12 , \n",
    "\t\t\t \"etudiant_9\" : 13 , \"etudiant_10\" : 15 , \"etudiant_11\" : 14 , \"etudiant_112\" : 9 , \n",
    "\t\t\t \"etudiant_13\" : 10 , \"etudiant_14\" : 12 , \"etudiant_15\" : 13 , \"etudiant_16\" : 7 ,\n",
    "\t\t\t \"etudiant_17\" : 12 , \"etudiant_18\" : 15 , \"etudiant_19\" : 9 , \"etudiant_20\" : 17 ,}\n",
    "\n",
    "dico1 = {}\n",
    "dico2 = {}\n",
    "for key,value in etudiants.items():\n",
    "    if value <= 10:\n",
    "        dico1[key] = value\n",
    "    else:\n",
    "        dico2[key] = value\n",
    "print(dico1,dico2)"
   ]
  },
  {
   "cell_type": "code",
   "execution_count": 38,
   "metadata": {},
   "outputs": [
    {
     "name": "stdout",
     "output_type": "stream",
     "text": [
      "{1: 1, 2: 4, 3: 9, 4: 16, 5: 25, 6: 36, 7: 49}\n"
     ]
    }
   ],
   "source": [
    "#exercice 4\n",
    "#{1: 1, 2: 4, 3: 9, 4: 16, 5: 25 , 6: 36 , 7: 49}\n",
    "dico = {}\n",
    "n = int(input(\"saississez un chiffre\"))\n",
    "for i in range(1,n+1):\n",
    "    dico[i] = i**2\n",
    "print(dico)\n",
    "\n",
    "\n"
   ]
  },
  {
   "cell_type": "code",
   "execution_count": 48,
   "metadata": {},
   "outputs": [
    {
     "name": "stdout",
     "output_type": "stream",
     "text": [
      "{'h': 1, 'e': 1, 'l': 2, 'o': 1}\n"
     ]
    }
   ],
   "source": [
    "#exercice 5\n",
    "mot = input(\"saississez un mot\")\n",
    "dico_cpt = {}\n",
    "for c in mot:\n",
    "    dico_cpt[c]= mot.count(c)\n",
    "print(dico_cpt)"
   ]
  },
  {
   "cell_type": "code",
   "execution_count": 54,
   "metadata": {},
   "outputs": [
    {
     "data": {
      "text/plain": [
       "{0: 'pair', 2: 'pair', 7: 'impair', 10: 'pair', 11: 'impair'}"
      ]
     },
     "execution_count": 54,
     "metadata": {},
     "output_type": "execute_result"
    }
   ],
   "source": [
    "#exercice 6\n",
    "def pair_impair(l):\n",
    "    dico = {}\n",
    "    for i in l:\n",
    "        if i % 2 == 0:\n",
    "            dico[i] = \"pair\"\n",
    "        else:\n",
    "            dico[i] = \"impair\"\n",
    "    return dico\n",
    "pair_impair([0,2,7,10,11])"
   ]
  },
  {
   "cell_type": "code",
   "execution_count": 5,
   "metadata": {},
   "outputs": [
    {
     "ename": "ValueError",
     "evalue": "invalid literal for int() with base 10: ''",
     "output_type": "error",
     "traceback": [
      "\u001b[0;31m---------------------------------------------------------------------------\u001b[0m",
      "\u001b[0;31mValueError\u001b[0m                                Traceback (most recent call last)",
      "\u001b[0;32m/var/folders/ws/63hgmkhn5cvf2cf7zyfqb64w0000gn/T/ipykernel_6170/2512213588.py\u001b[0m in \u001b[0;36m<module>\u001b[0;34m\u001b[0m\n\u001b[1;32m      2\u001b[0m \u001b[0mdico7\u001b[0m \u001b[0;34m=\u001b[0m  \u001b[0;34m{\u001b[0m\u001b[0;34m}\u001b[0m\u001b[0;34m\u001b[0m\u001b[0;34m\u001b[0m\u001b[0m\n\u001b[1;32m      3\u001b[0m \u001b[0;32mfor\u001b[0m \u001b[0mi\u001b[0m \u001b[0;32min\u001b[0m \u001b[0mrange\u001b[0m\u001b[0;34m(\u001b[0m\u001b[0;36m1\u001b[0m\u001b[0;34m)\u001b[0m\u001b[0;34m:\u001b[0m\u001b[0;34m\u001b[0m\u001b[0;34m\u001b[0m\u001b[0m\n\u001b[0;32m----> 4\u001b[0;31m     \u001b[0mn\u001b[0m \u001b[0;34m=\u001b[0m \u001b[0mint\u001b[0m\u001b[0;34m(\u001b[0m\u001b[0minput\u001b[0m\u001b[0;34m(\u001b[0m\u001b[0;34m\"nombre?\"\u001b[0m\u001b[0;34m)\u001b[0m\u001b[0;34m)\u001b[0m\u001b[0;34m\u001b[0m\u001b[0;34m\u001b[0m\u001b[0m\n\u001b[0m\u001b[1;32m      5\u001b[0m     \u001b[0;32mif\u001b[0m  \u001b[0mn\u001b[0m \u001b[0;34m%\u001b[0m \u001b[0;36m2\u001b[0m\u001b[0;34m==\u001b[0m \u001b[0;36m0\u001b[0m \u001b[0;32mor\u001b[0m \u001b[0mn\u001b[0m \u001b[0;34m%\u001b[0m\u001b[0;36m3\u001b[0m\u001b[0;34m==\u001b[0m \u001b[0;36m0\u001b[0m \u001b[0;32mor\u001b[0m \u001b[0mn\u001b[0m \u001b[0;34m%\u001b[0m\u001b[0;36m4\u001b[0m\u001b[0;34m==\u001b[0m \u001b[0;36m0\u001b[0m \u001b[0;32mor\u001b[0m \u001b[0mn\u001b[0m \u001b[0;34m%\u001b[0m \u001b[0;36m5\u001b[0m\u001b[0;34m==\u001b[0m \u001b[0;36m0\u001b[0m \u001b[0;32mor\u001b[0m \u001b[0mn\u001b[0m\u001b[0;34m%\u001b[0m\u001b[0;36m6\u001b[0m\u001b[0;34m==\u001b[0m \u001b[0;36m0\u001b[0m \u001b[0;32mor\u001b[0m \u001b[0mn\u001b[0m \u001b[0;34m%\u001b[0m\u001b[0;36m7\u001b[0m\u001b[0;34m==\u001b[0m \u001b[0;36m0\u001b[0m \u001b[0;32mor\u001b[0m \u001b[0mn\u001b[0m \u001b[0;34m%\u001b[0m\u001b[0;36m8\u001b[0m\u001b[0;34m==\u001b[0m \u001b[0;36m0\u001b[0m \u001b[0;32mor\u001b[0m \u001b[0mn\u001b[0m \u001b[0;34m%\u001b[0m \u001b[0;36m9\u001b[0m\u001b[0;34m==\u001b[0m \u001b[0;36m0\u001b[0m \u001b[0;32mor\u001b[0m \u001b[0mn\u001b[0m\u001b[0;34m%\u001b[0m\u001b[0;36m10\u001b[0m \u001b[0;34m==\u001b[0m \u001b[0;36m0\u001b[0m \u001b[0;34m:\u001b[0m\u001b[0;34m\u001b[0m\u001b[0;34m\u001b[0m\u001b[0m\n\u001b[1;32m      6\u001b[0m         \u001b[0mdico7\u001b[0m\u001b[0;34m[\u001b[0m\u001b[0mn\u001b[0m\u001b[0;34m]\u001b[0m \u001b[0;34m=\u001b[0m \u001b[0;34m\"non premier\"\u001b[0m\u001b[0;34m\u001b[0m\u001b[0;34m\u001b[0m\u001b[0m\n",
      "\u001b[0;31mValueError\u001b[0m: invalid literal for int() with base 10: ''"
     ]
    }
   ],
   "source": [
    "#exercice 7  # ne fonctionne pas\n",
    "dico7 =  {}\n",
    "for i in range(1):\n",
    "    n = int(input(\"nombre?\"))\n",
    "    if  n % 2== 0 or n %3== 0 or n %4== 0 or n % 5== 0 or n%6== 0 or n %7== 0 or n %8== 0 or n % 9== 0 or n%10 == 0 :\n",
    "        dico7[n] = \"non premier\"\n",
    "    else:\n",
    "        dico7[n] = \"premier\"\n",
    "print(dico7)"
   ]
  },
  {
   "cell_type": "code",
   "execution_count": 6,
   "metadata": {},
   "outputs": [
    {
     "name": "stdout",
     "output_type": "stream",
     "text": [
      "ej\n"
     ]
    }
   ],
   "source": [
    "l = [\"e\",\"j\"]\n",
    "a = \"\"\n",
    "for i in l:\n",
    "    a+=i\n",
    "print(a)"
   ]
  },
  {
   "cell_type": "code",
   "execution_count": 1,
   "metadata": {},
   "outputs": [
    {
     "data": {
      "text/plain": [
       "4"
      ]
     },
     "execution_count": 1,
     "metadata": {},
     "output_type": "execute_result"
    }
   ],
   "source": [
    "def fct(x):\n",
    "    return x * x\n",
    "\n",
    "fct(2)"
   ]
  },
  {
   "cell_type": "code",
   "execution_count": null,
   "metadata": {},
   "outputs": [],
   "source": []
  }
 ],
 "metadata": {
  "kernelspec": {
   "display_name": "Python 3.9.5 ('base')",
   "language": "python",
   "name": "python3"
  },
  "language_info": {
   "codemirror_mode": {
    "name": "ipython",
    "version": 3
   },
   "file_extension": ".py",
   "mimetype": "text/x-python",
   "name": "python",
   "nbconvert_exporter": "python",
   "pygments_lexer": "ipython3",
   "version": "3.9.5 (default, May 18 2021, 12:31:01) \n[Clang 10.0.0 ]"
  },
  "orig_nbformat": 4,
  "vscode": {
   "interpreter": {
    "hash": "34adaf33f4013e9f044ea830c8728ae8511d15c3ab9eca41e9d19329c6e63e34"
   }
  }
 },
 "nbformat": 4,
 "nbformat_minor": 2
}
