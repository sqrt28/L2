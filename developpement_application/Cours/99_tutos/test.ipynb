{
 "cells": [
  {
   "cell_type": "code",
   "execution_count": 2,
   "metadata": {},
   "outputs": [
    {
     "name": "stdout",
     "output_type": "stream",
     "text": [
      "False\n"
     ]
    }
   ],
   "source": [
    "import Kholle_module as km # import Kholle_module.py as t\n",
    "print(km.annee_bix(2003))\n",
    "\n"
   ]
  },
  {
   "cell_type": "code",
   "execution_count": 2,
   "metadata": {},
   "outputs": [
    {
     "name": "stdout",
     "output_type": "stream",
     "text": [
      "Help on module Kholle_module:\n",
      "\n",
      "NAME\n",
      "    Kholle_module - fcts pour la kholle (si besoin)\n",
      "\n",
      "FUNCTIONS\n",
      "    annee_bix(a)\n",
      "        renvoie  vraie si annee est bix sinon faux\n",
      "    \n",
      "    liste_alphabet(a)\n",
      "        créer une liste qui contient les lettres de l'alphabet en minuscule ou majujucle selon la demande\n",
      "    \n",
      "    moy_min_max()\n",
      "        renvoie le max, le mix, la somme et la moyenne des nombres rentrés par user\n",
      "\n",
      "FILE\n",
      "    /Users/sambarbosa/Visual_studio_code/L2/developpement_application/Cours/99_tutos/Kholle_module.py\n",
      "\n",
      "\n"
     ]
    }
   ],
   "source": [
    "help(km)"
   ]
  },
  {
   "cell_type": "code",
   "execution_count": 3,
   "metadata": {},
   "outputs": [
    {
     "name": "stdout",
     "output_type": "stream",
     "text": [
      "('le max est', 100, 'le min est', 2, 'la somme est de', 211, 'la moyenne est de', 42.2)\n"
     ]
    }
   ],
   "source": [
    "print(km.moy_min_max())"
   ]
  },
  {
   "cell_type": "code",
   "execution_count": 1,
   "metadata": {},
   "outputs": [
    {
     "data": {
      "text/plain": [
       "(5, 4, 0)"
      ]
     },
     "execution_count": 1,
     "metadata": {},
     "output_type": "execute_result"
    }
   ],
   "source": [
    "from psutil import cpu_times\n",
    "l = [0,1,2,3,4]\n",
    "\n",
    "def nbr_elements_liste(liste):\n",
    "    cpt = 0\n",
    "    max = l[0]\n",
    "    min = l[0]\n",
    "    for i in liste: # complexité  O(n) éléments\n",
    "        cpt += 1\n",
    "        if max < l[i]:\n",
    "            max = l[i]\n",
    "        if min > l[i]:\n",
    "            min = l[i]\n",
    "    return cpt, max, min\n",
    "\n",
    "nbr_elements_liste(l)"
   ]
  },
  {
   "cell_type": "code",
   "execution_count": 1,
   "metadata": {},
   "outputs": [
    {
     "ename": "TypeError",
     "evalue": "unsupported operand type(s) for +: 'int' and 'NoneType'",
     "output_type": "error",
     "traceback": [
      "\u001b[0;31m---------------------------------------------------------------------------\u001b[0m",
      "\u001b[0;31mTypeError\u001b[0m                                 Traceback (most recent call last)",
      "\u001b[1;32m/Users/sambarbosa/visual_studio_code/L2/developpement_application/Cours/99_tutos/test.ipynb Cell 5\u001b[0m in \u001b[0;36m<cell line: 5>\u001b[0;34m()\u001b[0m\n\u001b[1;32m      <a href='vscode-notebook-cell:/Users/sambarbosa/visual_studio_code/L2/developpement_application/Cours/99_tutos/test.ipynb#W4sZmlsZQ%3D%3D?line=2'>3</a>\u001b[0m     \u001b[39mif\u001b[39;00m a \u001b[39m<\u001b[39m b:\n\u001b[1;32m      <a href='vscode-notebook-cell:/Users/sambarbosa/visual_studio_code/L2/developpement_application/Cours/99_tutos/test.ipynb#W4sZmlsZQ%3D%3D?line=3'>4</a>\u001b[0m         \u001b[39mreturn\u001b[39;00m a \u001b[39m*\u001b[39m a \u001b[39m+\u001b[39m somme_carre(a \u001b[39m+\u001b[39m \u001b[39m1\u001b[39m, b)\n\u001b[0;32m----> <a href='vscode-notebook-cell:/Users/sambarbosa/visual_studio_code/L2/developpement_application/Cours/99_tutos/test.ipynb#W4sZmlsZQ%3D%3D?line=4'>5</a>\u001b[0m \u001b[39mprint\u001b[39m(somme_carre(\u001b[39m2\u001b[39;49m,\u001b[39m3\u001b[39;49m))\n",
      "\u001b[1;32m/Users/sambarbosa/visual_studio_code/L2/developpement_application/Cours/99_tutos/test.ipynb Cell 5\u001b[0m in \u001b[0;36msomme_carre\u001b[0;34m(a, b)\u001b[0m\n\u001b[1;32m      <a href='vscode-notebook-cell:/Users/sambarbosa/visual_studio_code/L2/developpement_application/Cours/99_tutos/test.ipynb#W4sZmlsZQ%3D%3D?line=1'>2</a>\u001b[0m \u001b[39m\"\"\"retourne la somme des carré entre a et b\"\"\"\u001b[39;00m\n\u001b[1;32m      <a href='vscode-notebook-cell:/Users/sambarbosa/visual_studio_code/L2/developpement_application/Cours/99_tutos/test.ipynb#W4sZmlsZQ%3D%3D?line=2'>3</a>\u001b[0m \u001b[39mif\u001b[39;00m a \u001b[39m<\u001b[39m b:\n\u001b[0;32m----> <a href='vscode-notebook-cell:/Users/sambarbosa/visual_studio_code/L2/developpement_application/Cours/99_tutos/test.ipynb#W4sZmlsZQ%3D%3D?line=3'>4</a>\u001b[0m     \u001b[39mreturn\u001b[39;00m a \u001b[39m*\u001b[39;49m a \u001b[39m+\u001b[39;49m somme_carre(a \u001b[39m+\u001b[39;49m \u001b[39m1\u001b[39;49m, b)\n",
      "\u001b[0;31mTypeError\u001b[0m: unsupported operand type(s) for +: 'int' and 'NoneType'"
     ]
    }
   ],
   "source": [
    "def somme_carre(a,b):\n",
    "    \"\"\"retourne la somme des carré entre a et b\"\"\"\n",
    "    if a < b:\n",
    "        return a * a + somme_carre(a + 1, b)\n",
    "print(somme_carre(2,3))\n",
    "    "
   ]
  },
  {
   "cell_type": "code",
   "execution_count": null,
   "metadata": {},
   "outputs": [],
   "source": []
  }
 ],
 "metadata": {
  "kernelspec": {
   "display_name": "Python 3.9.5 ('base')",
   "language": "python",
   "name": "python3"
  },
  "language_info": {
   "codemirror_mode": {
    "name": "ipython",
    "version": 3
   },
   "file_extension": ".py",
   "mimetype": "text/x-python",
   "name": "python",
   "nbconvert_exporter": "python",
   "pygments_lexer": "ipython3",
   "version": "3.9.5"
  },
  "orig_nbformat": 4,
  "vscode": {
   "interpreter": {
    "hash": "34adaf33f4013e9f044ea830c8728ae8511d15c3ab9eca41e9d19329c6e63e34"
   }
  }
 },
 "nbformat": 4,
 "nbformat_minor": 2
}
