{
 "cells": [
  {
   "cell_type": "code",
   "execution_count": 2,
   "metadata": {},
   "outputs": [],
   "source": [
    "#programmation orientée object"
   ]
  },
  {
   "cell_type": "code",
   "execution_count": 3,
   "metadata": {},
   "outputs": [],
   "source": [
    "#trèssssss inmportant\n",
    "# on utilise une classe pour construire un objet\n",
    "#ex class etudiant  genre des objets stepahne, louis etcc avec des informations sur les objets numéros de tel, age, formation etc..\n"
   ]
  },
  {
   "cell_type": "code",
   "execution_count": 4,
   "metadata": {},
   "outputs": [],
   "source": [
    "#une classe définit des objets qui sont des instances(des réprésentants ) de la classe"
   ]
  },
  {
   "cell_type": "code",
   "execution_count": 21,
   "metadata": {},
   "outputs": [
    {
     "data": {
      "text/plain": [
       "('la couleur du citron est ', 'bleu', ' et sa saveur est ', 'acide')"
      ]
     },
     "execution_count": 21,
     "metadata": {},
     "output_type": "execute_result"
    }
   ],
   "source": [
    "class Citron:\n",
    "    def __init__(self, couleur, saveur):\n",
    "        self.couleur = couleur\n",
    "        self.saveur = saveur\n",
    "        \n",
    "    def affichage(self):\n",
    "        return (\"la couleur du citron est \",self.couleur,\" et sa saveur est \",self.saveur)\n",
    "\n",
    "c1 = Citron(\"bleu\",\"acide\")\n",
    "c1.affichage()\n",
    "    \n",
    "                "
   ]
  },
  {
   "cell_type": "code",
   "execution_count": 14,
   "metadata": {},
   "outputs": [
    {
     "name": "stdout",
     "output_type": "stream",
     "text": [
      "<class '__main__.Citron'>\n"
     ]
    }
   ],
   "source": [
    "print(type(c1))"
   ]
  },
  {
   "cell_type": "code",
   "execution_count": 15,
   "metadata": {},
   "outputs": [
    {
     "data": {
      "text/plain": [
       "True"
      ]
     },
     "execution_count": 15,
     "metadata": {},
     "output_type": "execute_result"
    }
   ],
   "source": [
    "isinstance(c1,Citron)"
   ]
  },
  {
   "cell_type": "code",
   "execution_count": 11,
   "metadata": {},
   "outputs": [
    {
     "data": {
      "text/plain": [
       "['__class__',\n",
       " '__delattr__',\n",
       " '__dict__',\n",
       " '__dir__',\n",
       " '__doc__',\n",
       " '__eq__',\n",
       " '__format__',\n",
       " '__ge__',\n",
       " '__getattribute__',\n",
       " '__gt__',\n",
       " '__hash__',\n",
       " '__init__',\n",
       " '__init_subclass__',\n",
       " '__le__',\n",
       " '__lt__',\n",
       " '__module__',\n",
       " '__ne__',\n",
       " '__new__',\n",
       " '__reduce__',\n",
       " '__reduce_ex__',\n",
       " '__repr__',\n",
       " '__setattr__',\n",
       " '__sizeof__',\n",
       " '__str__',\n",
       " '__subclasshook__',\n",
       " '__weakref__',\n",
       " 'affichage',\n",
       " 'couleur',\n",
       " 'saveur']"
      ]
     },
     "execution_count": 11,
     "metadata": {},
     "output_type": "execute_result"
    }
   ],
   "source": [
    "dir(c1)"
   ]
  },
  {
   "cell_type": "code",
   "execution_count": 18,
   "metadata": {},
   "outputs": [],
   "source": [
    "# del pour supprimer un (objet/instance)"
   ]
  },
  {
   "cell_type": "code",
   "execution_count": 30,
   "metadata": {},
   "outputs": [
    {
     "name": "stdout",
     "output_type": "stream",
     "text": [
      "BAC\n",
      "BAC\n"
     ]
    }
   ],
   "source": [
    "class Etudiant:\n",
    "    diplome = \"BAC\"\n",
    "\n",
    "e1 = Etudiant()\n",
    "e2 = Etudiant()\n",
    "print(e1.diplome)\n",
    "print(e2.diplome)"
   ]
  },
  {
   "cell_type": "code",
   "execution_count": 43,
   "metadata": {},
   "outputs": [
    {
     "name": "stdout",
     "output_type": "stream",
     "text": [
      "Je m'appelle pierre et j'ai  24 ans et suis dans l'école uvsq\n"
     ]
    }
   ],
   "source": [
    "class Etudiant:\n",
    "    diplome = \"BAC\"\n",
    "\n",
    "    def __init__(self, name, age, ecole = \"uvsq\"):\n",
    "        self.name = name\n",
    "        self.age = age\n",
    "        self.ecole = ecole\n",
    "    \n",
    "    def presentation(self):\n",
    "        print(\"Je m'appelle\", self.name,\"et j'ai \", self.age,\"ans\",\"et suis dans l'école\", self.ecole)\n",
    "\n",
    "if __name__ == '__main__':\n",
    "    e1 = Etudiant(\"pierre\",24)\n",
    "    e1.presentation()\n",
    "\n",
    "        \n",
    "        "
   ]
  },
  {
   "cell_type": "code",
   "execution_count": 44,
   "metadata": {},
   "outputs": [],
   "source": [
    "class Calcul:\n",
    "    def __init__(self,x1,x2):\n",
    "        self.x1 = x1\n",
    "        self.x2 = x2\n",
    "    \n",
    "    def somme(self):\n",
    "        return self.x1 + self.x2\n",
    "    \n",
    "    def produit(self):\n",
    "        return self.x1 * self.x2\n",
    "\n",
    "if __name__ == '__main__':\n",
    "    res = Calcul(4,6)\n",
    "    res.produit()\n",
    "    res.somme()"
   ]
  },
  {
   "cell_type": "code",
   "execution_count": null,
   "metadata": {},
   "outputs": [],
   "source": []
  }
 ],
 "metadata": {
  "kernelspec": {
   "display_name": "Python 3.9.5 ('base')",
   "language": "python",
   "name": "python3"
  },
  "language_info": {
   "codemirror_mode": {
    "name": "ipython",
    "version": 3
   },
   "file_extension": ".py",
   "mimetype": "text/x-python",
   "name": "python",
   "nbconvert_exporter": "python",
   "pygments_lexer": "ipython3",
   "version": "3.9.5"
  },
  "orig_nbformat": 4,
  "vscode": {
   "interpreter": {
    "hash": "34adaf33f4013e9f044ea830c8728ae8511d15c3ab9eca41e9d19329c6e63e34"
   }
  }
 },
 "nbformat": 4,
 "nbformat_minor": 2
}
