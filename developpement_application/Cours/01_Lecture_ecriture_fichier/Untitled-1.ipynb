{
 "cells": [
  {
   "cell_type": "code",
   "execution_count": 1,
   "metadata": {},
   "outputs": [],
   "source": [
    "###LECTURE DANS UN FICHIER###"
   ]
  },
  {
   "cell_type": "code",
   "execution_count": 2,
   "metadata": {},
   "outputs": [],
   "source": [
    "#méthode readlines()\n"
   ]
  },
  {
   "cell_type": "code",
   "execution_count": 5,
   "metadata": {},
   "outputs": [],
   "source": [
    "filin = open(\"zoo.txt\", 'r')"
   ]
  },
  {
   "cell_type": "code",
   "execution_count": 6,
   "metadata": {},
   "outputs": [
    {
     "data": {
      "text/plain": [
       "<_io.TextIOWrapper name='zoo.txt' mode='r' encoding='UTF-8'>"
      ]
     },
     "execution_count": 6,
     "metadata": {},
     "output_type": "execute_result"
    }
   ],
   "source": [
    "filin"
   ]
  },
  {
   "cell_type": "code",
   "execution_count": 7,
   "metadata": {},
   "outputs": [
    {
     "data": {
      "text/plain": [
       "['Girafe\\n', 'Crocodile\\n', 'Singe\\n']"
      ]
     },
     "execution_count": 7,
     "metadata": {},
     "output_type": "execute_result"
    }
   ],
   "source": [
    "filin.readlines()"
   ]
  },
  {
   "cell_type": "code",
   "execution_count": 8,
   "metadata": {},
   "outputs": [],
   "source": [
    "filin.close()\n"
   ]
  },
  {
   "cell_type": "code",
   "execution_count": null,
   "metadata": {},
   "outputs": [],
   "source": [
    "#si le fichier est ferné on ne peut pas faire realines()"
   ]
  },
  {
   "cell_type": "code",
   "execution_count": 9,
   "metadata": {},
   "outputs": [
    {
     "data": {
      "text/plain": [
       "['Girafe\\n', 'Crocodile\\n', 'Singe\\n']"
      ]
     },
     "execution_count": 9,
     "metadata": {},
     "output_type": "execute_result"
    }
   ],
   "source": [
    "filin = open(\"zoo.txt\", 'r')\n",
    "lignes = filin.readlines()\n",
    "lignes"
   ]
  },
  {
   "cell_type": "code",
   "execution_count": 10,
   "metadata": {},
   "outputs": [
    {
     "name": "stdout",
     "output_type": "stream",
     "text": [
      "Girafe\n",
      "\n",
      "Crocodile\n",
      "\n",
      "Singe\n",
      "\n"
     ]
    }
   ],
   "source": [
    "for ligne in lignes:\n",
    "    print(ligne)"
   ]
  },
  {
   "cell_type": "code",
   "execution_count": null,
   "metadata": {},
   "outputs": [],
   "source": [
    "filin.close() #toujours fermer le fichier"
   ]
  },
  {
   "cell_type": "code",
   "execution_count": 12,
   "metadata": {},
   "outputs": [
    {
     "name": "stdout",
     "output_type": "stream",
     "text": [
      "Girafe\n",
      "\n",
      "Crocodile\n",
      "\n",
      "Singe\n",
      "\n"
     ]
    }
   ],
   "source": [
    "with open(\"zoo.txt\", \"r\") as filin:\n",
    "    lignes = filin.readlines()\n",
    "    for ligne in lignes:\n",
    "        print(ligne)"
   ]
  },
  {
   "cell_type": "code",
   "execution_count": 13,
   "metadata": {},
   "outputs": [],
   "source": [
    "with open(\"zoo.txt\", \"r\") as filin:\n",
    "    filin.read()\n"
   ]
  },
  {
   "cell_type": "code",
   "execution_count": 14,
   "metadata": {},
   "outputs": [
    {
     "name": "stdout",
     "output_type": "stream",
     "text": [
      "Girafe\n",
      "\n",
      "Crocodile\n",
      "\n",
      "Singe\n",
      "\n"
     ]
    }
   ],
   "source": [
    "with open(\"zoo.txt\", \"r\") as filin: #on ne récupère pas tout le fichier d'un coup\n",
    "    ligne = filin.readline()\n",
    "    while ligne != \"\":\n",
    "        print(ligne)\n",
    "        ligne = filin.readline()"
   ]
  },
  {
   "cell_type": "code",
   "execution_count": 15,
   "metadata": {},
   "outputs": [
    {
     "name": "stdout",
     "output_type": "stream",
     "text": [
      "Girafe\n",
      "\n",
      "Crocodile\n",
      "\n",
      "Singe\n",
      "\n"
     ]
    }
   ],
   "source": [
    "#moyen pour faciliter la  vie\n",
    "with open(\"zoo.txt\", \"r\") as filin:\n",
    "    for ligne in filin:\n",
    "        print(ligne)"
   ]
  },
  {
   "cell_type": "code",
   "execution_count": null,
   "metadata": {},
   "outputs": [],
   "source": []
  },
  {
   "cell_type": "code",
   "execution_count": null,
   "metadata": {},
   "outputs": [],
   "source": []
  },
  {
   "cell_type": "code",
   "execution_count": null,
   "metadata": {},
   "outputs": [],
   "source": []
  },
  {
   "cell_type": "code",
   "execution_count": null,
   "metadata": {},
   "outputs": [],
   "source": []
  }
 ],
 "metadata": {
  "kernelspec": {
   "display_name": "Python 3.9.7 ('l1-python')",
   "language": "python",
   "name": "python3"
  },
  "language_info": {
   "codemirror_mode": {
    "name": "ipython",
    "version": 3
   },
   "file_extension": ".py",
   "mimetype": "text/x-python",
   "name": "python",
   "nbconvert_exporter": "python",
   "pygments_lexer": "ipython3",
   "version": "3.9.7"
  },
  "orig_nbformat": 4,
  "vscode": {
   "interpreter": {
    "hash": "aed427c7a1222b30c501f2b5c2b75a25a598e3434eb7074437fef6b9ae4e235b"
   }
  }
 },
 "nbformat": 4,
 "nbformat_minor": 2
}
