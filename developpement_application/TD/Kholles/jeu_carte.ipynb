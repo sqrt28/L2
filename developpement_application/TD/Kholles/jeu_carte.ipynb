{
 "cells": [
  {
   "cell_type": "code",
   "execution_count": 20,
   "metadata": {},
   "outputs": [],
   "source": [
    "cartes = [\"As\",\"2\",\"3\",\"4\",\"5\",\"6\",\"7\",\"8\",\"9\",\"10\", \"Valet\", \"Dame\" ,\"Roi\"]\n",
    "couleur = [\"Coeur\", \"Carreau\", \"Pique\", \"Trefle\"]"
   ]
  },
  {
   "cell_type": "code",
   "execution_count": 21,
   "metadata": {},
   "outputs": [
    {
     "data": {
      "text/plain": [
       "['As Coeur',\n",
       " '2 Coeur',\n",
       " '3 Coeur',\n",
       " '4 Coeur',\n",
       " '5 Coeur',\n",
       " '6 Coeur',\n",
       " '7 Coeur',\n",
       " '8 Coeur',\n",
       " '9 Coeur',\n",
       " '10 Coeur',\n",
       " 'Valet Coeur',\n",
       " 'Dame Coeur',\n",
       " 'Roi Coeur',\n",
       " <generator object jeu_cartes.<locals>.<genexpr> at 0x7fddc0d85890>,\n",
       " <generator object jeu_cartes.<locals>.<genexpr> at 0x7fddc0d85eb0>,\n",
       " <generator object jeu_cartes.<locals>.<genexpr> at 0x7fddc0d85e40>]"
      ]
     },
     "execution_count": 21,
     "metadata": {},
     "output_type": "execute_result"
    }
   ],
   "source": [
    "def jeu_cartes(cartes,couleur):\n",
    "    jeu_de_cartes = [cartes[i] + \" \" + couleur[0]for i in range(13)]\n",
    "    jeu_de_cartes.append(cartes[i] + \" \" + couleur[1]for i in range(13))\n",
    "    jeu_de_cartes.append(cartes[i] + \" \" + couleur[2]for i in range(13))\n",
    "    jeu_de_cartes.append(cartes[i] + \" \" + couleur[3]for i in range(13))\n",
    "    return jeu_de_cartes\n",
    "jeu_cartes(cartes, couleur)\n"
   ]
  }
 ],
 "metadata": {
  "kernelspec": {
   "display_name": "Python 3.9.7 ('l1-python')",
   "language": "python",
   "name": "python3"
  },
  "language_info": {
   "codemirror_mode": {
    "name": "ipython",
    "version": 3
   },
   "file_extension": ".py",
   "mimetype": "text/x-python",
   "name": "python",
   "nbconvert_exporter": "python",
   "pygments_lexer": "ipython3",
   "version": "3.9.7"
  },
  "orig_nbformat": 4,
  "vscode": {
   "interpreter": {
    "hash": "aed427c7a1222b30c501f2b5c2b75a25a598e3434eb7074437fef6b9ae4e235b"
   }
  }
 },
 "nbformat": 4,
 "nbformat_minor": 2
}
