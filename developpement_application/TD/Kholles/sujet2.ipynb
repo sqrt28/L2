{
 "cells": [
  {
   "cell_type": "code",
   "execution_count": 2,
   "metadata": {},
   "outputs": [
    {
     "name": "stdout",
     "output_type": "stream",
     "text": [
      "([2, 1, 6, 4, 5, 3, 7, 8, 4, 3, 4, 3], [1, 3, 6, 10, 4, 1, 9, 7, 9, 8, 6, 5])\n"
     ]
    }
   ],
   "source": [
    "import random as rd\n",
    "import string\n",
    "\n",
    "# question1\n",
    "def genere_nom():\n",
    "    \"\"\"focntion qui renvoie 6 lettres au hasard de l'alphabet\"\"\"\n",
    "    mot = string.ascii_lowercase\n",
    "    a,b,c,d,e,f = rd.randint(0,25), rd.randint(0,25), rd.randint(0,25),rd.randint(0,25), rd.randint(0,25), rd.randint(0,25)\n",
    "    return mot[a] + mot[b] + mot[c] + mot[d] + mot[e] + mot[f]\n",
    "    \n",
    "# question 2\n",
    "def pokedex1():\n",
    "    \"\"\"renvoie un dictionnaire contenant 6 pokemons\"\"\"\n",
    "    global dico_pokedex1\n",
    "    dico_pokedex1 = {}\n",
    "    for i in range(6):\n",
    "        nom_pokemeon = genere_nom()\n",
    "        dico_pokedex1[nom_pokemeon] = {\"atk\" : rd.randint(1,10),\"def\" : rd.randint(1,10)}\n",
    "    return dico_pokedex1\n",
    "pokedex1()\n",
    "\n",
    "def pokedex2():\n",
    "    global dico_pokedex2\n",
    "    \"\"\"renvoie un dictionnaire contenant 6 pokemons\"\"\"\n",
    "    dico_pokedex2 = {}\n",
    "    for i in range(6):\n",
    "        nom_pokemeon = genere_nom()\n",
    "        dico_pokedex2[nom_pokemeon] = {\"atk\" : rd.randint(1,10),\"def\" : rd.randint(1,10)}\n",
    "    return dico_pokedex2\n",
    "pokedex2()\n",
    "\n",
    "# question 3\n",
    "def combat(a1, d1, a2, d2): # prend en etrer deux tuples\n",
    "    \"\"\"simule un combat entre pokemon\"\"\"\n",
    "    while d1 >= 0 and d2 >= 0:\n",
    "        d2 -= a1\n",
    "    if d2 >= 0:\n",
    "        d1 -= a2\n",
    "    print(d2)\n",
    "    return (a1, d1, a2, d2)\n",
    "\n",
    "# question 4\n",
    "def combat_dresseur():\n",
    "    \n",
    "    l1 = []\n",
    "    l2 = []\n",
    "    a = 0\n",
    "    b = 1\n",
    "    #récupère les valeurs \"attaque\" et \"défense\"\n",
    "    for values in dico_pokedex1.values():\n",
    "        for i in values.values():\n",
    "            l1.append(i)\n",
    "    for values in dico_pokedex2.values():\n",
    "        for j in values.values():\n",
    "            l2.append(j)\n",
    "            \n",
    "    \"\"\"while (len(l1) >= 0) and (len(l2) >= 0):\n",
    "        combat(l1[a],l1[b],l2[a],l2[b])\n",
    "        if l1[b] < 0:\n",
    "            l1.remove[l1[b]]\n",
    "        if l2[b] < 0:\n",
    "            l2.remove[l2[b]]\"\"\"\n",
    "    return l1,l2\n",
    "    \n",
    "\n",
    "print(combat_dresseur())\n",
    "\n",
    "\n",
    "\n"
   ]
  }
 ],
 "metadata": {
  "kernelspec": {
   "display_name": "Python 3.9.7 ('l1-python')",
   "language": "python",
   "name": "python3"
  },
  "language_info": {
   "codemirror_mode": {
    "name": "ipython",
    "version": 3
   },
   "file_extension": ".py",
   "mimetype": "text/x-python",
   "name": "python",
   "nbconvert_exporter": "python",
   "pygments_lexer": "ipython3",
   "version": "3.9.7"
  },
  "orig_nbformat": 4,
  "vscode": {
   "interpreter": {
    "hash": "aed427c7a1222b30c501f2b5c2b75a25a598e3434eb7074437fef6b9ae4e235b"
   }
  }
 },
 "nbformat": 4,
 "nbformat_minor": 2
}
