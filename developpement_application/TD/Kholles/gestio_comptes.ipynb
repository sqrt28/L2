{
 "cells": [
  {
   "cell_type": "code",
   "execution_count": 2,
   "metadata": {},
   "outputs": [],
   "source": [
    "import random as rd\n",
    "import string"
   ]
  },
  {
   "cell_type": "code",
   "execution_count": 4,
   "metadata": {},
   "outputs": [
    {
     "name": "stdout",
     "output_type": "stream",
     "text": [
      "[(1, 'Paul'), (2, 'Ali'), (3, 'Julia'), (4, 'Noah'), (5, 'Janet')]\n",
      "[9989]\n"
     ]
    }
   ],
   "source": [
    "#question 1\n",
    "\n",
    "l_clients = [(1, \"Paul\"), (2, \"Ali\"), (3, \"Julia\"), (4, \"Noah\"), (5, \"Janet\")]\n",
    "l_compte_courant = [rd.randint(0,10000)]\n",
    "print(l_clients)\n",
    "print(l_compte_courant)"
   ]
  }
 ],
 "metadata": {
  "kernelspec": {
   "display_name": "Python 3.9.7 ('l1-python')",
   "language": "python",
   "name": "python3"
  },
  "language_info": {
   "codemirror_mode": {
    "name": "ipython",
    "version": 3
   },
   "file_extension": ".py",
   "mimetype": "text/x-python",
   "name": "python",
   "nbconvert_exporter": "python",
   "pygments_lexer": "ipython3",
   "version": "3.9.7"
  },
  "orig_nbformat": 4,
  "vscode": {
   "interpreter": {
    "hash": "aed427c7a1222b30c501f2b5c2b75a25a598e3434eb7074437fef6b9ae4e235b"
   }
  }
 },
 "nbformat": 4,
 "nbformat_minor": 2
}
