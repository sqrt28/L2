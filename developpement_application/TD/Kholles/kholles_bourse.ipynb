{
 "cells": [
  {
   "cell_type": "code",
   "execution_count": 59,
   "metadata": {},
   "outputs": [],
   "source": [
    "#question1\n",
    "import string\n",
    "import random as rd\n",
    "portefeuille = {}\n",
    "capital = 100000"
   ]
  },
  {
   "cell_type": "code",
   "execution_count": 60,
   "metadata": {},
   "outputs": [
    {
     "data": {
      "text/plain": [
       "'KQQ'"
      ]
     },
     "execution_count": 60,
     "metadata": {},
     "output_type": "execute_result"
    }
   ],
   "source": [
    "#question2\n",
    "def genere_titre():\n",
    "    global n\n",
    "    noms = \"ABCDEFGHIJKLMNOPQRSTUVWXYZ\"\n",
    "    liste = [char for char in noms]\n",
    "    a = rd.randint(0,26)\n",
    "    b = rd.randint(0,26)\n",
    "    c = rd.randint(0,26)\n",
    "    return liste[a] + liste[b] + liste[b]\n",
    "    \n",
    "genere_titre()\n"
   ]
  },
  {
   "cell_type": "code",
   "execution_count": 61,
   "metadata": {},
   "outputs": [
    {
     "data": {
      "text/plain": [
       "197.46317169331385"
      ]
     },
     "execution_count": 61,
     "metadata": {},
     "output_type": "execute_result"
    }
   ],
   "source": [
    "#question3\n",
    "def genere_cours():\n",
    "    return rd.uniform(0,500)\n",
    "\n",
    "genere_cours()"
   ]
  },
  {
   "cell_type": "code",
   "execution_count": 77,
   "metadata": {},
   "outputs": [
    {
     "name": "stdout",
     "output_type": "stream",
     "text": [
      "{'OII': {'nombre': 6, 'cours': 181.48661389834697}, 'IKK': {'nombre': 6, 'cours': 495.26896569299794}, 'OGG': {'nombre': 6, 'cours': 134.4361437925008}, 'ESS': {'nombre': 6, 'cours': 268.1617545038296}, 'MBB': {'nombre': 6, 'cours': 300.11560958671805}, 'FAA': {'nombre': 0, 'cours': 0}}\n",
      "38.736235118667665\n"
     ]
    }
   ],
   "source": [
    "#question4\n",
    "def achat(x):\n",
    "    global somme, capital, dico,n\n",
    "    dico = {\"nombre\": 0, \"cours\": 0}\n",
    "    somme = 0\n",
    "    n = genere_titre()\n",
    "    v = genere_cours()\n",
    "    if x * v < capital:\n",
    "        dico[\"nombre\"] += x\n",
    "        dico[\"cours\"] = v\n",
    "        somme += (x*v)\n",
    "        capital -= somme\n",
    "    return dico\n",
    "achat(6)\n",
    "portefeuille[n] = dico\n",
    "print(portefeuille)\n",
    "print(capital)"
   ]
  },
  {
   "cell_type": "code",
   "execution_count": 78,
   "metadata": {},
   "outputs": [
    {
     "ename": "TypeError",
     "evalue": "unsupported operand type(s) for *: 'dict' and 'float'",
     "output_type": "error",
     "traceback": [
      "\u001b[0;31m---------------------------------------------------------------------------\u001b[0m",
      "\u001b[0;31mTypeError\u001b[0m                                 Traceback (most recent call last)",
      "\u001b[0;32m/var/folders/ws/63hgmkhn5cvf2cf7zyfqb64w0000gn/T/ipykernel_2113/1017736198.py\u001b[0m in \u001b[0;36m<module>\u001b[0;34m\u001b[0m\n\u001b[1;32m      5\u001b[0m         \u001b[0mportefeuille\u001b[0m\u001b[0;34m[\u001b[0m\u001b[0mkey\u001b[0m\u001b[0;34m]\u001b[0m \u001b[0;34m=\u001b[0m \u001b[0mportefeuille\u001b[0m\u001b[0;34m.\u001b[0m\u001b[0mget\u001b[0m\u001b[0;34m(\u001b[0m\u001b[0mkey\u001b[0m\u001b[0;34m)\u001b[0m \u001b[0;34m*\u001b[0m \u001b[0mx\u001b[0m\u001b[0;34m\u001b[0m\u001b[0;34m\u001b[0m\u001b[0m\n\u001b[1;32m      6\u001b[0m     \u001b[0;32mreturn\u001b[0m \u001b[0mportefeuille\u001b[0m\u001b[0;34m\u001b[0m\u001b[0;34m\u001b[0m\u001b[0m\n\u001b[0;32m----> 7\u001b[0;31m \u001b[0mvariation\u001b[0m\u001b[0;34m(\u001b[0m\u001b[0;34m)\u001b[0m\u001b[0;34m\u001b[0m\u001b[0;34m\u001b[0m\u001b[0m\n\u001b[0m",
      "\u001b[0;32m/var/folders/ws/63hgmkhn5cvf2cf7zyfqb64w0000gn/T/ipykernel_2113/1017736198.py\u001b[0m in \u001b[0;36mvariation\u001b[0;34m()\u001b[0m\n\u001b[1;32m      3\u001b[0m     \u001b[0mx\u001b[0m \u001b[0;34m=\u001b[0m \u001b[0mrd\u001b[0m\u001b[0;34m.\u001b[0m\u001b[0muniform\u001b[0m\u001b[0;34m(\u001b[0m\u001b[0;36m0.5\u001b[0m\u001b[0;34m,\u001b[0m\u001b[0;36m2\u001b[0m\u001b[0;34m)\u001b[0m\u001b[0;34m\u001b[0m\u001b[0;34m\u001b[0m\u001b[0m\n\u001b[1;32m      4\u001b[0m     \u001b[0;32mfor\u001b[0m \u001b[0mkey\u001b[0m \u001b[0;32min\u001b[0m \u001b[0mportefeuille\u001b[0m\u001b[0;34m:\u001b[0m\u001b[0;34m\u001b[0m\u001b[0;34m\u001b[0m\u001b[0m\n\u001b[0;32m----> 5\u001b[0;31m         \u001b[0mportefeuille\u001b[0m\u001b[0;34m[\u001b[0m\u001b[0mkey\u001b[0m\u001b[0;34m]\u001b[0m \u001b[0;34m=\u001b[0m \u001b[0mportefeuille\u001b[0m\u001b[0;34m.\u001b[0m\u001b[0mget\u001b[0m\u001b[0;34m(\u001b[0m\u001b[0mkey\u001b[0m\u001b[0;34m)\u001b[0m \u001b[0;34m*\u001b[0m \u001b[0mx\u001b[0m\u001b[0;34m\u001b[0m\u001b[0;34m\u001b[0m\u001b[0m\n\u001b[0m\u001b[1;32m      6\u001b[0m     \u001b[0;32mreturn\u001b[0m \u001b[0mportefeuille\u001b[0m\u001b[0;34m\u001b[0m\u001b[0;34m\u001b[0m\u001b[0m\n\u001b[1;32m      7\u001b[0m \u001b[0mvariation\u001b[0m\u001b[0;34m(\u001b[0m\u001b[0;34m)\u001b[0m\u001b[0;34m\u001b[0m\u001b[0;34m\u001b[0m\u001b[0m\n",
      "\u001b[0;31mTypeError\u001b[0m: unsupported operand type(s) for *: 'dict' and 'float'"
     ]
    }
   ],
   "source": [
    "#question5\n",
    "def variation():\n",
    "    x = rd.uniform(0.5,2)\n",
    "    for key in portefeuille:\n",
    "        portefeuille[key] = portefeuille.get(key) * x  # problème dictionnaire dans un dictionnaire\n",
    "    return portefeuille\n",
    "variation()"
   ]
  },
  {
   "cell_type": "code",
   "execution_count": null,
   "metadata": {},
   "outputs": [],
   "source": [
    "def valeur():\n",
    "    pass"
   ]
  },
  {
   "cell_type": "code",
   "execution_count": 79,
   "metadata": {},
   "outputs": [
    {
     "name": "stdout",
     "output_type": "stream",
     "text": [
      "{'clé1': 2, 'clé2': 4}\n"
     ]
    }
   ],
   "source": [
    "\n",
    "#test\n",
    "dico = {\"clé1\" : 1, \"clé2\" : 2}\n",
    "for key in dico:\n",
    "    dico[key] = dico.get(key) * 2\n",
    "print(dico)\n"
   ]
  },
  {
   "cell_type": "code",
   "execution_count": 83,
   "metadata": {},
   "outputs": [
    {
     "name": "stdout",
     "output_type": "stream",
     "text": [
      "OII\n",
      "IKK\n",
      "OGG\n",
      "ESS\n",
      "MBB\n",
      "FAA\n",
      "{'nombre': 6, 'cours': 181.48661389834697}\n",
      "{'nombre': 6, 'cours': 495.26896569299794}\n",
      "{'nombre': 6, 'cours': 134.4361437925008}\n",
      "{'nombre': 6, 'cours': 268.1617545038296}\n",
      "{'nombre': 6, 'cours': 300.11560958671805}\n",
      "{'nombre': 0, 'cours': 0}\n"
     ]
    }
   ],
   "source": [
    "\n",
    "for key in portefeuille.keys():\n",
    "    print(key)\n",
    "\n",
    "for value in portefeuille.values():\n",
    "    print(value)"
   ]
  }
 ],
 "metadata": {
  "kernelspec": {
   "display_name": "Python 3.9.7 ('l1-python')",
   "language": "python",
   "name": "python3"
  },
  "language_info": {
   "codemirror_mode": {
    "name": "ipython",
    "version": 3
   },
   "file_extension": ".py",
   "mimetype": "text/x-python",
   "name": "python",
   "nbconvert_exporter": "python",
   "pygments_lexer": "ipython3",
   "version": "3.9.7"
  },
  "orig_nbformat": 4,
  "vscode": {
   "interpreter": {
    "hash": "aed427c7a1222b30c501f2b5c2b75a25a598e3434eb7074437fef6b9ae4e235b"
   }
  }
 },
 "nbformat": 4,
 "nbformat_minor": 2
}
