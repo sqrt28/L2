{
 "cells": [
  {
   "cell_type": "markdown",
   "metadata": {
    "collapsed": true,
    "pycharm": {
     "name": "#%% md\n"
    }
   },
   "source": [
    "# TD 3 \\& TD 4 : Fonctions récursives, liste en compréhension, dictionnaires"
   ]
  },
  {
   "cell_type": "markdown",
   "metadata": {
    "collapsed": false,
    "pycharm": {
     "name": "#%% md\n"
    }
   },
   "source": [
    "---\n",
    "## Exo1 : Les fonctions récursives"
   ]
  },
  {
   "cell_type": "markdown",
   "metadata": {
    "collapsed": false,
    "pycharm": {
     "name": "#%% md\n"
    }
   },
   "source": [
    "1. En mathématiques, la suite de Fibonacci est une suite d'entiers dans laquelle chaque terme est\n",
    "la somme des deux termes qui le précèdent :\n",
    "𝑈 0 = 0\n",
    "𝑈 1 = 1\n",
    "𝑈 𝑛 = 𝑈 (𝑛−1) + 𝑈 (𝑛−2) pour tout 𝑛 ≥ 2\n",
    "\n",
    "Dans la suite, penser à utiliser des « assert » pour tester les pré-conditions de vos fonctions."
   ]
  },
  {
   "cell_type": "markdown",
   "metadata": {
    "collapsed": false
   },
   "source": [
    "1-1. En utilisant la boucle « for », écrire une fonction affichant le terme d’ordre « n » de la suite de\n",
    "Fibonacci."
   ]
  },
  {
   "cell_type": "code",
   "execution_count": 1,
   "metadata": {
    "collapsed": false,
    "pycharm": {
     "name": "#%%\n"
    }
   },
   "outputs": [
    {
     "name": "stdout",
     "output_type": "stream",
     "text": [
      "[0, 1, 0, 0, 0, 0, 0, 0]\n",
      "[0, 1, 1, 2, 3, 5, 8, 13]\n",
      "13\n"
     ]
    }
   ],
   "source": [
    "from traceback import print_tb\n",
    "\n",
    "def fibonacci(n):\n",
    "    \n",
    "    if (n == 0):\n",
    "        return 0\n",
    "    if (n == 1):\n",
    "        return 1\n",
    "\n",
    "    val_fibo = [0] * n\n",
    "    val_fibo[1] = 1\n",
    "    print(val_fibo)\n",
    "\n",
    "    for i in range(2,n):\n",
    "        val_fibo[i] = val_fibo[i-1] + val_fibo[i-2]\n",
    "\n",
    "    print(val_fibo)\n",
    "    return val_fibo[n-1]\n",
    "\n",
    "print(fibonacci(8))"
   ]
  },
  {
   "cell_type": "markdown",
   "metadata": {
    "collapsed": false
   },
   "source": [
    "1-2. En utilisant la boucle « while », écrire une fonction retournant la liste des termes de la suite de\n",
    "Fibonacci jusqu’au terme d’ordre« n »."
   ]
  },
  {
   "cell_type": "code",
   "execution_count": 2,
   "metadata": {
    "collapsed": false,
    "pycharm": {
     "name": "#%%\n"
    }
   },
   "outputs": [
    {
     "name": "stdout",
     "output_type": "stream",
     "text": [
      "[0, 1, 1, 2, 3, 5, 8, 13, 21, 34]\n"
     ]
    }
   ],
   "source": [
    "def termes_fibonacci(n):\n",
    "\n",
    "    assert n > 0, \"n doit être strictement postif !\"\n",
    "\n",
    "    val_fibo = [0] * n\n",
    "    if(n>1):\n",
    "        val_fibo[1] = 1\n",
    "    i = 2\n",
    "\n",
    "    while i < n:\n",
    "        val_fibo[i] = val_fibo[i-1] + val_fibo[i-2]\n",
    "        i+=1\n",
    "\n",
    "    return val_fibo\n",
    "\n",
    "print(termes_fibonacci(10))"
   ]
  },
  {
   "cell_type": "markdown",
   "metadata": {
    "collapsed": false,
    "pycharm": {
     "name": "#%% md\n"
    }
   },
   "source": [
    "1-3. Écrire une fonction récursive pour le calcul du terme d’ordre « n » de la suite de Fibonacci."
   ]
  },
  {
   "cell_type": "code",
   "execution_count": 3,
   "metadata": {
    "collapsed": false,
    "pycharm": {
     "name": "#%%\n"
    }
   },
   "outputs": [
    {
     "name": "stdout",
     "output_type": "stream",
     "text": [
      "3\n"
     ]
    }
   ],
   "source": [
    "def recursive_fibonacci(n):\n",
    "    if n < 0:\n",
    "        return \"n cannot be negative\"\n",
    "    if n == 0:\n",
    "        return 0\n",
    "    elif n == 1:\n",
    "        return 1\n",
    "    else:\n",
    "        return recursive_fibonacci(n-1) + recursive_fibonacci(n-2)\n",
    "\n",
    "print(recursive_fibonacci(4))"
   ]
  },
  {
   "cell_type": "markdown",
   "metadata": {
    "collapsed": false,
    "pycharm": {
     "name": "#%% md\n"
    }
   },
   "source": [
    "2. Écrire une fonction récursive pour le calcul de la factorielle d’un nombre, rappel : 4! =\n",
    "4𝑥3𝑥2𝑥1 = 24."
   ]
  },
  {
   "cell_type": "code",
   "execution_count": 4,
   "metadata": {
    "collapsed": false,
    "pycharm": {
     "name": "#%%\n"
    }
   },
   "outputs": [
    {
     "name": "stdout",
     "output_type": "stream",
     "text": [
      "Début du programme !\n",
      "1  =  1  * recurisve_factorielle( 1 -1)\n",
      "2  =  2  * recurisve_factorielle( 2 -1)\n",
      "6  =  3  * recurisve_factorielle( 3 -1)\n",
      "24  =  4  * recurisve_factorielle( 4 -1)\n",
      "24\n"
     ]
    }
   ],
   "source": [
    "def recursive_factorielle(n):\n",
    "    if n == 1:\n",
    "        print(n, \" = \", n, \" * recurisve_factorielle(\",n,\"-1)\")\n",
    "        return 1\n",
    "    else:\n",
    "        val = n * recursive_factorielle(n-1)\n",
    "        print(val, \" = \", n, \" * recurisve_factorielle(\",n,\"-1)\")\n",
    "        return val\n",
    "\n",
    "print(\"Début du programme !\")\n",
    "print (recursive_factorielle(4))"
   ]
  },
  {
   "cell_type": "markdown",
   "metadata": {
    "collapsed": false,
    "pycharm": {
     "name": "#%% md\n"
    }
   },
   "source": [
    "3. Écrire une fonction récursive pour le calcul du plus grand commun diviseur entre deux entiers a\n",
    "et b."
   ]
  },
  {
   "cell_type": "code",
   "execution_count": 5,
   "metadata": {
    "collapsed": false,
    "pycharm": {
     "name": "#%%\n"
    }
   },
   "outputs": [
    {
     "name": "stdout",
     "output_type": "stream",
     "text": [
      "2\n"
     ]
    }
   ],
   "source": [
    "def recursive_PGCD(a, b):\n",
    "    if b==0:\n",
    "        return a\n",
    "    else:\n",
    "        r=a%b\n",
    "        return recursive_PGCD(b,r)\n",
    "\n",
    "print(recursive_PGCD(2,10))"
   ]
  },
  {
   "cell_type": "markdown",
   "metadata": {
    "collapsed": false,
    "pycharm": {
     "name": "#%% md\n"
    }
   },
   "source": [
    "4) Écrire une méthode récursive pyramide_inversee(n, s) qui écrit sur la première ligne, n fois la\n",
    "chaîne « s », sur la deuxième, n-1 fois la chaîne « s », et ainsi de suite jusqu’à la dernière ligne, où\n",
    "il y aura 1 fois la chaîne « s ».\n",
    "Ainsi pyramide(3,\"tot\") donnera:\n",
    "tottottot\n",
    "tottot\n",
    "tot"
   ]
  },
  {
   "cell_type": "code",
   "execution_count": 6,
   "metadata": {
    "collapsed": false,
    "pycharm": {
     "name": "#%%\n"
    }
   },
   "outputs": [
    {
     "name": "stdout",
     "output_type": "stream",
     "text": [
      "tottottot\n",
      "tottot\n",
      "tot\n"
     ]
    }
   ],
   "source": [
    "def pyramide_inversee(n,s):\n",
    "    if n < 1:\n",
    "        return None\n",
    "\n",
    "    for i in range(n):\n",
    "        print(s,end=\"\")\n",
    "\n",
    "    print()\n",
    "\n",
    "    return pyramide_inversee(n-1,s)\n",
    "\n",
    "pyramide_inversee(3,\"tot\")"
   ]
  },
  {
   "cell_type": "markdown",
   "metadata": {
    "collapsed": false
   },
   "source": [
    "5. Écrire une méthode récursive qui calcule x^n où x et n sont des entiers :"
   ]
  },
  {
   "cell_type": "markdown",
   "metadata": {
    "collapsed": false,
    "pycharm": {
     "name": "#%% md\n"
    }
   },
   "source": [
    "5-1. En utilisant la propriété x^n = x ∗ x^(n-1)"
   ]
  },
  {
   "cell_type": "code",
   "execution_count": 7,
   "metadata": {
    "collapsed": false,
    "pycharm": {
     "name": "#%%\n"
    }
   },
   "outputs": [
    {
     "name": "stdout",
     "output_type": "stream",
     "text": [
      "16\n"
     ]
    }
   ],
   "source": [
    "def puissance(x,n):\n",
    "    if n < 2:\n",
    "        return x\n",
    "    return x * puissance(x,n-1)\n",
    "\n",
    "print(puissance(2,4))"
   ]
  },
  {
   "cell_type": "markdown",
   "metadata": {
    "collapsed": false,
    "pycharm": {
     "name": "#%% md\n"
    }
   },
   "source": [
    "5-2. En utilisant l’exponentiation rapide qui repose sur les égalités :\n",
    "x^n = x^(n/2) * x^(n/2) si n est pair et\n",
    "x^n = x^(n-1/2) * x^(n-1/2) si n est impair."
   ]
  },
  {
   "cell_type": "code",
   "execution_count": 8,
   "metadata": {
    "collapsed": false,
    "pycharm": {
     "name": "#%%\n"
    }
   },
   "outputs": [
    {
     "name": "stdout",
     "output_type": "stream",
     "text": [
      "16\n"
     ]
    }
   ],
   "source": [
    "def puissance_rapide(x,n):\n",
    "    if n < 2:\n",
    "        return x\n",
    "\n",
    "    if n%2 == 0:\n",
    "        return puissance_rapide(x,n/2) * puissance_rapide(x,n/2)\n",
    "    else:\n",
    "        return puissance_rapide(x,(n-1)/2) * puissance_rapide(x,(n-1)/2)\n",
    "\n",
    "print(puissance_rapide(2,4))"
   ]
  },
  {
   "cell_type": "markdown",
   "metadata": {
    "collapsed": false,
    "pycharm": {
     "name": "#%% md\n"
    }
   },
   "source": [
    "## Exo2 : Manipulation d’un dictionnaire et liste en compréhension"
   ]
  },
  {
   "cell_type": "markdown",
   "metadata": {
    "collapsed": false,
    "pycharm": {
     "name": "#%% md\n"
    }
   },
   "source": [
    "**Rappel** : Les dictionnaires sont parfois présents dans d'autres langages sous le nom de\n",
    "« mémoires associatives » ou « tableaux associatifs ». À la différence des séquences (listes,\n",
    "tuples), qui sont indexées par des nombres, les dictionnaires sont indexés par des « clés », qui\n",
    "peuvent être de n'importe quel type immuable ; les chaînes de caractères et les nombres peuvent\n",
    "toujours être des clés. Un dictionnaire est constitué d’un ensemble d’item « clé : valeur », la clé\n",
    "doit être unique."
   ]
  },
  {
   "cell_type": "markdown",
   "metadata": {
    "collapsed": false,
    "pycharm": {
     "name": "#%% md\n"
    }
   },
   "source": [
    "1. Créer un dictionnaire vide. Ajoutez-y les items «’nom’ :‘toto’ » , « ‘prénom ‘ :’titi’ », « ‘age’:20»,\n",
    "« ‘adresse’:404 »."
   ]
  },
  {
   "cell_type": "code",
   "execution_count": 9,
   "metadata": {
    "collapsed": false,
    "pycharm": {
     "name": "#%%\n"
    }
   },
   "outputs": [
    {
     "name": "stdout",
     "output_type": "stream",
     "text": [
      "{'nom': 'toto', 'prénom': 'titi', 'age': 20, 'adresse': 404}\n"
     ]
    }
   ],
   "source": [
    "dico = dict()\n",
    "\n",
    "dico[\"nom\"] = \"toto\"\n",
    "dico[\"prénom\"] = \"titi\"\n",
    "dico[\"age\"] = 20\n",
    "dico[\"adresse\"] = 404\n",
    "\n",
    "print(dico)"
   ]
  },
  {
   "cell_type": "markdown",
   "metadata": {
    "collapsed": false,
    "pycharm": {
     "name": "#%% md\n"
    }
   },
   "source": [
    "2. Modifier puis supprimer l’âge."
   ]
  },
  {
   "cell_type": "code",
   "execution_count": 10,
   "metadata": {
    "collapsed": false,
    "pycharm": {
     "name": "#%%\n"
    }
   },
   "outputs": [
    {
     "name": "stdout",
     "output_type": "stream",
     "text": [
      "{'nom': 'toto', 'prénom': 'titi', 'age': 25, 'adresse': 404}\n",
      "{'nom': 'toto', 'prénom': 'titi', 'adresse': 404}\n"
     ]
    }
   ],
   "source": [
    "dico[\"age\"] = 25\n",
    "print(dico)\n",
    "dico.pop(\"age\")\n",
    "print(dico)"
   ]
  },
  {
   "cell_type": "markdown",
   "metadata": {
    "collapsed": false,
    "pycharm": {
     "name": "#%% md\n"
    }
   },
   "source": [
    "3. Écrire une instruction pour récupérer la valeur ‘toto’ à partir de la clé correspondante."
   ]
  },
  {
   "cell_type": "code",
   "execution_count": 11,
   "metadata": {
    "collapsed": false,
    "pycharm": {
     "name": "#%%\n"
    }
   },
   "outputs": [
    {
     "name": "stdout",
     "output_type": "stream",
     "text": [
      "toto\n"
     ]
    }
   ],
   "source": [
    "val = dico[\"nom\"]\n",
    "print(val)"
   ]
  },
  {
   "cell_type": "markdown",
   "metadata": {
    "collapsed": false,
    "pycharm": {
     "name": "#%% md\n"
    }
   },
   "source": [
    "4. Écrire une instruction qui vérifie l’existence de la clé ‘prénom ‘ et ‘age’ dans le dictionnaire."
   ]
  },
  {
   "cell_type": "code",
   "execution_count": 12,
   "metadata": {
    "collapsed": false,
    "pycharm": {
     "name": "#%%\n"
    }
   },
   "outputs": [
    {
     "name": "stdout",
     "output_type": "stream",
     "text": [
      "True\n",
      "False\n"
     ]
    }
   ],
   "source": [
    "print(\"prénom\" in dico)\n",
    "print(\"age\" in dico)"
   ]
  },
  {
   "cell_type": "markdown",
   "metadata": {
    "collapsed": false
   },
   "source": [
    "5. Écrire une instruction pour récupérer toutes les clés. Puis une deuxième instruction pour\n",
    "récupérer toutes les valeurs. Puis une troisième pour récupérer tous les items."
   ]
  },
  {
   "cell_type": "code",
   "execution_count": 13,
   "metadata": {
    "collapsed": false,
    "pycharm": {
     "name": "#%%\n"
    }
   },
   "outputs": [
    {
     "name": "stdout",
     "output_type": "stream",
     "text": [
      "dict_keys(['nom', 'prénom', 'adresse'])\n",
      "dict_values(['toto', 'titi', 404])\n",
      "dict_items([('nom', 'toto'), ('prénom', 'titi'), ('adresse', 404)])\n"
     ]
    }
   ],
   "source": [
    "print(dico.keys())\n",
    "print(dico.values())\n",
    "print(dico.items())"
   ]
  },
  {
   "cell_type": "markdown",
   "metadata": {
    "collapsed": false,
    "pycharm": {
     "name": "#%% md\n"
    }
   },
   "source": [
    "6. En utilisant les listes en compréhension, créez une liste de nombre entiers aléatoire de 0 à 10.\n",
    "Puis une deuxième liste d’entiers de -10 à -1."
   ]
  },
  {
   "cell_type": "code",
   "execution_count": 14,
   "metadata": {
    "collapsed": false,
    "pycharm": {
     "name": "#%%\n"
    }
   },
   "outputs": [
    {
     "name": "stdout",
     "output_type": "stream",
     "text": [
      "[2, 2, 7, 10, 2, 3, 1, 1, 6, 5]\n",
      "[-10, -9, -8, -7, -6, -5, -4, -3, -2, -1]\n"
     ]
    }
   ],
   "source": [
    "from random import randint\n",
    "\n",
    "new_list_rand = [randint(0,10) for x in range(10)]\n",
    "new_list_negatif = [-10+x for x in range(10)]\n",
    "print(new_list_rand)\n",
    "print(new_list_negatif)"
   ]
  },
  {
   "cell_type": "markdown",
   "metadata": {
    "collapsed": false,
    "pycharm": {
     "name": "#%% md\n"
    }
   },
   "source": [
    "7. Créer un nouveau dictionnaire, dans lequel vous associez la clé « positif » à liste des entiers\n",
    "positifs. Même traitement pour les entiers négatifs."
   ]
  },
  {
   "cell_type": "code",
   "execution_count": 15,
   "metadata": {
    "collapsed": false,
    "pycharm": {
     "name": "#%%\n"
    }
   },
   "outputs": [
    {
     "name": "stdout",
     "output_type": "stream",
     "text": [
      "{'positif': [2, 2, 7, 10, 2, 3, 1, 1, 6, 5], 'negatif': [-10, -9, -8, -7, -6, -5, -4, -3, -2, -1]}\n"
     ]
    }
   ],
   "source": [
    "dico = {}\n",
    "dico[\"positif\"] = new_list_rand\n",
    "dico[\"negatif\"] = new_list_negatif\n",
    "\n",
    "print(dico)"
   ]
  },
  {
   "cell_type": "markdown",
   "metadata": {
    "collapsed": false,
    "pycharm": {
     "name": "#%% md\n"
    }
   },
   "source": [
    "8. Créer une fonction qui prend en paramètre le dictionnaire de la question 7). La fonction tire un\n",
    "entier aléatoire entre -5 et 5, puis ajoute la valeur aléatoire dans le dictionnaire selon le signe de\n",
    "celle-ci. Exemple -2 sera ajouté à la liste des entiers négatifs dans le dictionnaire."
   ]
  },
  {
   "cell_type": "code",
   "execution_count": 16,
   "metadata": {
    "collapsed": false,
    "pycharm": {
     "name": "#%%\n"
    }
   },
   "outputs": [
    {
     "name": "stdout",
     "output_type": "stream",
     "text": [
      "{'positif': [2, 2, 7, 10, 2, 3, 1, 1, 6, 5, 4, 2], 'negatif': [-10, -9, -8, -7, -6, -5, -4, -3, -2, -1, -1]}\n"
     ]
    }
   ],
   "source": [
    "def ajoute_val(dico):\n",
    "\n",
    "    val = randint(-5,5)\n",
    "    if val < 0:\n",
    "        dico[\"negatif\"].append(val)\n",
    "    else:\n",
    "        dico[\"positif\"].append(val)\n",
    "\n",
    "ajoute_val(dico)\n",
    "ajoute_val(dico)\n",
    "ajoute_val(dico)\n",
    "\n",
    "print(dico)"
   ]
  },
  {
   "cell_type": "markdown",
   "metadata": {
    "collapsed": false
   },
   "source": [
    "9. Écrire une fonction qui élève au carré les éléments positifs dans le dictionnaire précédant, puis\n",
    "qui élève au cube les éléments négatifs. Utilisez les listes en compréhension."
   ]
  },
  {
   "cell_type": "code",
   "execution_count": 17,
   "metadata": {
    "collapsed": false,
    "pycharm": {
     "name": "#%%\n"
    }
   },
   "outputs": [
    {
     "name": "stdout",
     "output_type": "stream",
     "text": [
      "{'positif': [4, 4, 49, 100, 4, 9, 1, 1, 36, 25, 16, 4], 'negatif': [-1000, -729, -512, -343, -216, -125, -64, -27, -8, -1, -1]}\n"
     ]
    }
   ],
   "source": [
    "def carre_ou_cube(dico):\n",
    "\n",
    "    dico[\"positif\"] = [x ** 2 for x in dico[\"positif\"]]\n",
    "    dico[\"negatif\"] = [x ** 3 for x in dico[\"negatif\"]]\n",
    "\n",
    "carre_ou_cube(dico)\n",
    "print(dico)"
   ]
  },
  {
   "cell_type": "markdown",
   "metadata": {
    "collapsed": false,
    "pycharm": {
     "name": "#%% md\n"
    }
   },
   "source": [
    "## Exo3 : Utilisation d'un dictionnaire"
   ]
  },
  {
   "cell_type": "markdown",
   "metadata": {
    "collapsed": false,
    "pycharm": {
     "name": "#%% md\n"
    }
   },
   "source": [
    "1. Écrire une fonction « occurrence(chaîne) » qui construit un dictionnaire dans lequel les clés sont\n",
    "les caractères du mot « chaîne » et les valeurs sont les occurrences de chaque caractère dans le\n",
    "« mot »."
   ]
  },
  {
   "cell_type": "code",
   "execution_count": 18,
   "metadata": {
    "collapsed": false,
    "pycharm": {
     "name": "#%%\n"
    }
   },
   "outputs": [
    {
     "name": "stdout",
     "output_type": "stream",
     "text": [
      "{'A': 1, 'n': 3, 't': 1, 'a': 3, 'r': 1, 'i': 1, 'v': 1, 'o': 1}\n"
     ]
    }
   ],
   "source": [
    "def occurrence(chaine):\n",
    "\n",
    "    dico = dict()\n",
    "\n",
    "    for char in chaine:\n",
    "        dico[char] = chaine.count(char)\n",
    "\n",
    "    return dico\n",
    "\n",
    "print(occurrence(\"Antananarivo\"))"
   ]
  },
  {
   "cell_type": "markdown",
   "metadata": {
    "collapsed": false,
    "pycharm": {
     "name": "#%% md\n"
    }
   },
   "source": [
    "2-1. Saisir la liste de mots suivante :\n",
    "mots = ['eddard', 'catelyn', 'robb', 'sansa', 'arya', 'brandon', 'rickon', 'theon', 'rorbert', 'cersei', 'tywin',\n",
    "'jaime', 'tyrion', 'shae', 'bronn', 'lancel', 'joffrey', 'sandor', 'varys', 'renly']"
   ]
  },
  {
   "cell_type": "code",
   "execution_count": 19,
   "metadata": {
    "collapsed": false,
    "pycharm": {
     "name": "#%%\n"
    }
   },
   "outputs": [],
   "source": [
    "mots = ['eddard', 'catelyn', 'robb', 'sansa', 'arya', 'brandon', 'rickon', 'theon', 'robert', 'cersei', 'tywin',\n",
    "        'jaime', 'tyrion', 'shae', 'bronn', 'lancel', 'joffrey', 'sandor', 'varys', 'renly']"
   ]
  },
  {
   "cell_type": "markdown",
   "metadata": {
    "collapsed": false
   },
   "source": [
    "2-2. Écrire une fonction « mots_position1(liste, let, pos) » qui prend en paramètre une liste de\n",
    "mots, une lettre et une position. La fonction retourne la liste de mots dans « liste » possédant la\n",
    "lettre « let » à la position « pos »."
   ]
  },
  {
   "cell_type": "code",
   "execution_count": 20,
   "metadata": {
    "collapsed": false,
    "pycharm": {
     "name": "#%%\n"
    }
   },
   "outputs": [
    {
     "name": "stdout",
     "output_type": "stream",
     "text": [
      "['robb', 'rickon', 'robert', 'renly']\n"
     ]
    }
   ],
   "source": [
    "def mots_position1(liste, let, pos):\n",
    "\n",
    "    new_liste = []\n",
    "\n",
    "    for mot in liste:\n",
    "        if (pos <= len(mot)):\n",
    "            if mot[pos] == let:\n",
    "                new_liste.append(mot)\n",
    "\n",
    "    return new_liste\n",
    "\n",
    "print(mots_position1(mots,'r',0))"
   ]
  },
  {
   "cell_type": "markdown",
   "metadata": {
    "collapsed": false
   },
   "source": [
    "2-3. Écrire une fonction « mots_position2(liste, let, pos) » qui fait le même traitement que\n",
    "« mot_position1 » mais cette fois-ci en compréhension de liste."
   ]
  },
  {
   "cell_type": "code",
   "execution_count": 21,
   "metadata": {
    "collapsed": false,
    "pycharm": {
     "name": "#%%\n"
    }
   },
   "outputs": [
    {
     "name": "stdout",
     "output_type": "stream",
     "text": [
      "['arya']\n"
     ]
    }
   ],
   "source": [
    "def mots_position2(liste, let, pos):\n",
    "\n",
    "    new_liste = [mot for mot in liste if (pos < len(mot) and mot[pos] == let)]\n",
    "\n",
    "    return new_liste\n",
    "\n",
    "print(mots_position2(mots, 'a', 0))"
   ]
  },
  {
   "cell_type": "markdown",
   "metadata": {
    "collapsed": false,
    "pycharm": {
     "name": "#%% md\n"
    }
   },
   "source": [
    "3-1. Écrire une fonction « dictionnaire_new(liste) » qui construit un dictionnaire dont les clés sont\n",
    "de la forme (pos,let) et la valeur est la liste des mots ayant la lettre « let » à la position « pos »."
   ]
  },
  {
   "cell_type": "code",
   "execution_count": 22,
   "metadata": {
    "collapsed": false,
    "pycharm": {
     "name": "#%%\n"
    }
   },
   "outputs": [
    {
     "name": "stdout",
     "output_type": "stream",
     "text": [
      "{(0, 'e'): ['eddard'], (1, 'd'): ['eddard'], (2, 'd'): ['eddard'], (3, 'a'): ['eddard', 'arya'], (4, 'r'): ['eddard', 'robert', 'joffrey'], (5, 'd'): ['eddard'], (0, 'c'): ['catelyn', 'cersei'], (1, 'a'): ['catelyn', 'sansa', 'jaime', 'lancel', 'sandor', 'varys'], (2, 't'): ['catelyn'], (3, 'e'): ['catelyn', 'robert', 'shae'], (4, 'l'): ['catelyn'], (5, 'y'): ['catelyn'], (6, 'n'): ['catelyn', 'brandon'], (0, 'r'): ['robb', 'rickon', 'robert', 'renly'], (1, 'o'): ['robb', 'robert', 'joffrey'], (2, 'b'): ['robb', 'robert'], (3, 'b'): ['robb'], (0, 's'): ['sansa', 'shae', 'sandor'], (2, 'n'): ['sansa', 'lancel', 'sandor', 'renly'], (3, 's'): ['sansa', 'cersei'], (4, 'a'): ['sansa'], (0, 'a'): ['arya'], (1, 'r'): ['arya', 'brandon', 'bronn'], (2, 'y'): ['arya'], (0, 'b'): ['brandon', 'bronn'], (2, 'a'): ['brandon', 'shae'], (3, 'n'): ['brandon', 'bronn'], (4, 'd'): ['brandon'], (5, 'o'): ['brandon'], (1, 'i'): ['rickon'], (2, 'c'): ['rickon'], (3, 'k'): ['rickon'], (4, 'o'): ['rickon', 'tyrion', 'sandor'], (5, 'n'): ['rickon', 'tyrion'], (0, 't'): ['theon', 'tywin', 'tyrion'], (1, 'h'): ['theon', 'shae'], (2, 'e'): ['theon'], (3, 'o'): ['theon'], (4, 'n'): ['theon', 'tywin', 'bronn'], (5, 't'): ['robert'], (1, 'e'): ['cersei', 'renly'], (2, 'r'): ['cersei', 'tyrion', 'varys'], (4, 'e'): ['cersei', 'jaime', 'lancel'], (5, 'i'): ['cersei'], (1, 'y'): ['tywin', 'tyrion'], (2, 'w'): ['tywin'], (3, 'i'): ['tywin', 'tyrion'], (0, 'j'): ['jaime', 'joffrey'], (2, 'i'): ['jaime'], (3, 'm'): ['jaime'], (2, 'o'): ['bronn'], (0, 'l'): ['lancel'], (3, 'c'): ['lancel'], (5, 'l'): ['lancel'], (2, 'f'): ['joffrey'], (3, 'f'): ['joffrey'], (5, 'e'): ['joffrey'], (6, 'y'): ['joffrey'], (3, 'd'): ['sandor'], (5, 'r'): ['sandor'], (0, 'v'): ['varys'], (3, 'y'): ['varys'], (4, 's'): ['varys'], (3, 'l'): ['renly'], (4, 'y'): ['renly']}\n"
     ]
    }
   ],
   "source": [
    "def dictionnaire_new(liste):\n",
    "\n",
    "    dico = dict()\n",
    "    for mot in liste:\n",
    "        i = 0\n",
    "        for char in mot:\n",
    "            if (i,char) not in dico:\n",
    "                dico[(i,char)] = mots_position2(liste, char, i)\n",
    "            i+=1\n",
    "            \n",
    "    return dico\n",
    "\n",
    "dico_mots = dictionnaire_new(mots)\n",
    "print(dico_mots)"
   ]
  },
  {
   "cell_type": "markdown",
   "metadata": {
    "collapsed": false
   },
   "source": [
    "3-2. Écrire une fonction « mots_position3(dico, let, pos) » qui prend en paramètre le dictionnaire\n",
    "de la question 3-1), une lettre « let » et une position « pos ». La fonction retourne la liste des mots\n",
    "dans « dico» possédant la lettre « let » à la position « pos »."
   ]
  },
  {
   "cell_type": "code",
   "execution_count": 23,
   "metadata": {
    "collapsed": false,
    "pycharm": {
     "name": "#%%\n"
    }
   },
   "outputs": [
    {
     "name": "stdout",
     "output_type": "stream",
     "text": [
      "['catelyn', 'sansa', 'jaime', 'lancel', 'sandor', 'varys']\n"
     ]
    }
   ],
   "source": [
    "def mots_position3(dico, let, pos):\n",
    "\n",
    "    return dico[(pos,let)]\n",
    "\n",
    "print(mots_position3(dico_mots,'a',1))"
   ]
  },
  {
   "cell_type": "markdown",
   "metadata": {
    "collapsed": false,
    "pycharm": {
     "name": "#%% md\n"
    }
   },
   "source": [
    "## Exo4 : Slicing, listes et dictionnaire en compréhension"
   ]
  },
  {
   "cell_type": "markdown",
   "metadata": {
    "collapsed": false,
    "pycharm": {
     "name": "#%% md\n"
    }
   },
   "source": [
    "1. L'administration cherche à lister un groupe de 15 élèves dans un TD, quel est la meilleure\n",
    "structure de donnée pour les regrouper ?"
   ]
  },
  {
   "cell_type": "markdown",
   "metadata": {
    "collapsed": false
   },
   "source": [
    "La meilleur structure de donnée pour les regrouper est une liste.\n",
    "\n",
    "    Générer une liste de 15 élèves ayant chacun une lettre distincte."
   ]
  },
  {
   "cell_type": "code",
   "execution_count": 24,
   "metadata": {
    "collapsed": false,
    "pycharm": {
     "name": "#%%\n"
    }
   },
   "outputs": [
    {
     "name": "stdout",
     "output_type": "stream",
     "text": [
      "['A', 'B', 'C', 'D', 'E', 'F', 'G', 'H', 'I', 'J', 'K', 'L', 'M', 'N', 'O']\n"
     ]
    }
   ],
   "source": [
    "noms = \"ABCDEFGHIJKLMNOPQRSTUVWXYZ\"\n",
    "\n",
    "liste_eleves = [char for char in noms if noms.index(char) < 15]\n",
    "\n",
    "print(liste_eleves)"
   ]
  },
  {
   "cell_type": "markdown",
   "metadata": {
    "collapsed": false,
    "pycharm": {
     "name": "#%% md\n"
    }
   },
   "source": [
    "2. Importer la librairie « string » et utiliser la variable ascii_lowercase qui liste l'ensemble des\n",
    "lettres minuscules. Comment obtenir les 15 premiers éléments à partir d'une notation type slice ?"
   ]
  },
  {
   "cell_type": "code",
   "execution_count": 25,
   "metadata": {
    "collapsed": false,
    "pycharm": {
     "name": "#%%\n"
    }
   },
   "outputs": [
    {
     "name": "stdout",
     "output_type": "stream",
     "text": [
      "abcdefghijklmno\n"
     ]
    }
   ],
   "source": [
    "import string\n",
    "\n",
    "elements = string.ascii_lowercase[:15]\n",
    "\n",
    "print(elements)"
   ]
  },
  {
   "cell_type": "markdown",
   "metadata": {
    "collapsed": false,
    "pycharm": {
     "name": "#%% md\n"
    }
   },
   "source": [
    "3. On les divise en 5 sous-groupe pour un projet, comment peut-on adapter la structure de\n",
    "données pour organiser les élèves en sous-groupes ?"
   ]
  },
  {
   "cell_type": "markdown",
   "metadata": {
    "collapsed": false
   },
   "source": [
    "    On peut organiser les sous-groupes dans une liste à deux dimensions (une liste de liste)."
   ]
  },
  {
   "cell_type": "markdown",
   "metadata": {
    "collapsed": false,
    "pycharm": {
     "name": "#%% md\n"
    }
   },
   "source": [
    "Commencer par diviser les étudiants en 5 groupes consécutifs."
   ]
  },
  {
   "cell_type": "code",
   "execution_count": 26,
   "metadata": {
    "collapsed": false,
    "pycharm": {
     "name": "#%%\n"
    }
   },
   "outputs": [
    {
     "name": "stdout",
     "output_type": "stream",
     "text": [
      "[['A', 'B', 'C'], ['D', 'E', 'F'], ['G', 'H', 'I'], ['J', 'K', 'L'], ['M', 'N', 'O']]\n"
     ]
    }
   ],
   "source": [
    "size_groupe = len(liste_eleves) // 5\n",
    "liste_groupes_eleves = []\n",
    "i = 0\n",
    "while i+size_groupe <= len(liste_eleves):\n",
    "    liste_groupes_eleves.append(liste_eleves[i:i+size_groupe])\n",
    "    i += size_groupe\n",
    "\n",
    "print(liste_groupes_eleves)"
   ]
  },
  {
   "cell_type": "markdown",
   "metadata": {
    "collapsed": false,
    "pycharm": {
     "name": "#%% md\n"
    }
   },
   "source": [
    "Importer la librairie « random »."
   ]
  },
  {
   "cell_type": "code",
   "execution_count": 27,
   "metadata": {
    "collapsed": false,
    "pycharm": {
     "name": "#%%\n"
    }
   },
   "outputs": [],
   "source": [
    "import random"
   ]
  },
  {
   "cell_type": "markdown",
   "metadata": {
    "collapsed": false,
    "pycharm": {
     "name": "#%% md\n"
    }
   },
   "source": [
    "Utiliser la fonction « choice » pour développer une fonction qui prend la liste originale et qui renvoie 5 groupes aléatoires."
   ]
  },
  {
   "cell_type": "code",
   "execution_count": 28,
   "metadata": {
    "collapsed": false,
    "pycharm": {
     "name": "#%%\n"
    }
   },
   "outputs": [
    {
     "name": "stdout",
     "output_type": "stream",
     "text": [
      "[['H', 'E', 'B'], ['G', 'A', 'F'], ['D', 'M', 'I'], ['N', 'K', 'J'], ['L', 'C', 'O']]\n",
      "['A', 'B', 'C', 'D', 'E', 'F', 'G', 'H', 'I', 'J', 'K', 'L', 'M', 'N', 'O']\n"
     ]
    }
   ],
   "source": [
    "def create_groupes(liste):\n",
    "    size_groupe = len(liste) // 5\n",
    "    liste_groupes_eleves = []\n",
    "    copie_liste = liste.copy()\n",
    "    i = 0\n",
    "    while i+size_groupe <= len(liste):\n",
    "        sous_groupe = []\n",
    "        for j in range(size_groupe):\n",
    "            index_elem = copie_liste.index(random.choice(copie_liste))\n",
    "            sous_groupe.append(copie_liste.pop(index_elem))\n",
    "        liste_groupes_eleves.append(sous_groupe)\n",
    "        i += size_groupe\n",
    "\n",
    "    return liste_groupes_eleves\n",
    "\n",
    "print(create_groupes(liste_eleves))\n",
    "print(liste_eleves)"
   ]
  },
  {
   "cell_type": "markdown",
   "metadata": {
    "collapsed": false,
    "pycharm": {
     "name": "#%% md\n"
    }
   },
   "source": [
    "Utiliser la fonction « shuffle » pour organiser les groupes plus simplement.\n"
   ]
  },
  {
   "cell_type": "code",
   "execution_count": 29,
   "metadata": {
    "collapsed": false,
    "pycharm": {
     "name": "#%%\n"
    }
   },
   "outputs": [
    {
     "name": "stdout",
     "output_type": "stream",
     "text": [
      "[['H', 'N', 'F'], ['B', 'O', 'C'], ['E', 'A', 'D'], ['M', 'L', 'G'], ['J', 'I', 'K']]\n"
     ]
    }
   ],
   "source": [
    "liste_groupes_eleves = []\n",
    "i = 0\n",
    "random.shuffle(liste_eleves)\n",
    "while i+size_groupe <= len(liste_eleves):\n",
    "    liste_groupes_eleves.append(liste_eleves[i:i+size_groupe])\n",
    "    i += size_groupe\n",
    "\n",
    "print(liste_groupes_eleves)"
   ]
  },
  {
   "cell_type": "markdown",
   "metadata": {
    "collapsed": false
   },
   "source": [
    "4. Réorganiser la liste d'étudiants en 5 sous-groupes dans un dictionnaire en réutilisant la variable\n",
    "originale."
   ]
  },
  {
   "cell_type": "code",
   "execution_count": 30,
   "metadata": {
    "collapsed": false,
    "pycharm": {
     "name": "#%%\n"
    }
   },
   "outputs": [
    {
     "name": "stdout",
     "output_type": "stream",
     "text": [
      "{'Groupe_1': ['H', 'K', 'O'], 'Groupe_2': ['G', 'D', 'F'], 'Groupe_3': ['I', 'B', 'A'], 'Groupe_4': ['C', 'L', 'N'], 'Groupe_5': ['M', 'J', 'E']}\n"
     ]
    }
   ],
   "source": [
    "dico_groupes_eleves = {}\n",
    "\n",
    "i = 0\n",
    "j = 1\n",
    "random.shuffle(liste_eleves)\n",
    "while i+size_groupe <= len(liste_eleves):\n",
    "    dico_groupes_eleves[\"Groupe_\"+str(j)] = liste_eleves[i:i+size_groupe]\n",
    "    i += size_groupe\n",
    "    j += 1\n",
    "\n",
    "print(dico_groupes_eleves)"
   ]
  },
  {
   "cell_type": "markdown",
   "metadata": {
    "collapsed": false
   },
   "source": [
    "5. On veut maintenant réorganiser le dictionnaire pour assigner une note à chacun des\n",
    "étudiants du sous-groupe. Le nouveau dictionnaire contient le numéro de groupe comme clé et la\n",
    "valeur correspond à un dictionnaire {liste_groupe : liste_notes}."
   ]
  },
  {
   "cell_type": "markdown",
   "metadata": {
    "collapsed": false,
    "pycharm": {
     "name": "#%% md\n"
    }
   },
   "source": [
    "    Comme les listes sont des objets mutables, on ne peut pas se servir d'elles comme d'une clée.\n",
    "    Par conséquent, on transforme d'abord notre liste en objet immutable (Tuple ou String)."
   ]
  },
  {
   "cell_type": "code",
   "execution_count": 31,
   "metadata": {
    "collapsed": false,
    "pycharm": {
     "name": "#%%\n"
    }
   },
   "outputs": [
    {
     "name": "stdout",
     "output_type": "stream",
     "text": [
      "dico_groupes_eleves {'Groupe_1': ['H', 'K', 'O'], 'Groupe_2': ['G', 'D', 'F'], 'Groupe_3': ['I', 'B', 'A'], 'Groupe_4': ['C', 'L', 'N'], 'Groupe_5': ['M', 'J', 'E']}\n",
      "\n",
      "dico_notes_eleves {'Groupe_1': [19, 2, 9], 'Groupe_2': [1, 4, 2], 'Groupe_3': [10, 1, 5], 'Groupe_4': [17, 5, 12], 'Groupe_5': [13, 20, 9]}\n",
      "\n",
      "dico_notes_groupes_eleves {'Groupe_1': {('H', 'K', 'O'): [19, 2, 9]}, 'Groupe_2': {('G', 'D', 'F'): [1, 4, 2]}, 'Groupe_3': {('I', 'B', 'A'): [10, 1, 5]}, 'Groupe_4': {('C', 'L', 'N'): [17, 5, 12]}, 'Groupe_5': {('M', 'J', 'E'): [13, 20, 9]}}\n"
     ]
    }
   ],
   "source": [
    "size_groupe = len(liste_eleves) // 5\n",
    "liste_notes = []\n",
    "for index in range(len(liste_eleves)):\n",
    "    liste_notes.append(randint(0,20))\n",
    "\n",
    "dico_notes_eleves = {}\n",
    "i = 0\n",
    "j = 1\n",
    "while i+size_groupe <= len(liste_eleves):\n",
    "    dico_notes_eleves[\"Groupe_\"+str(j)] = liste_notes[i:i+size_groupe]\n",
    "    i += size_groupe\n",
    "    j += 1\n",
    "\n",
    "print(\"dico_groupes_eleves\", dico_groupes_eleves)\n",
    "print()\n",
    "print(\"dico_notes_eleves\", dico_notes_eleves)\n",
    "dico_notes_groupes_eleves = {key:{tuple(dico_groupes_eleves[key]):dico_notes_eleves[key]} for (key,value) in dico_groupes_eleves.items()}\n",
    "print()\n",
    "print(\"dico_notes_groupes_eleves\",dico_notes_groupes_eleves)"
   ]
  },
  {
   "cell_type": "markdown",
   "metadata": {
    "collapsed": false,
    "pycharm": {
     "name": "#%% md\n"
    }
   },
   "source": [
    "6. Ajouter une clé 'moyenne' à chaque dictionnaire contenant les notes. Comment arrondir la\n",
    "moyenne à deux décimales ?."
   ]
  },
  {
   "cell_type": "markdown",
   "metadata": {
    "collapsed": false,
    "pycharm": {
     "name": "#%% md\n"
    }
   },
   "source": [
    "    Pour arrondir la moyenne à deux décimale on utilise la fonction round(n,m) qui arrondie le nombre n à m chiffres après la virgule.\n",
    "\n",
    "    On force une copie des items du dictionnaire que l'on modifie en parcourant car on ne peut pas ajouter ou retirer des élèments dans un dictionnaire pendant que l'on itère dessus."
   ]
  },
  {
   "cell_type": "code",
   "execution_count": 32,
   "metadata": {
    "collapsed": false,
    "pycharm": {
     "name": "#%%\n"
    }
   },
   "outputs": [
    {
     "name": "stdout",
     "output_type": "stream",
     "text": [
      "{'Groupe_1': {('H', 'K', 'O'): [19, 2, 9], 'Moyenne': 10.0}, 'Groupe_2': {('G', 'D', 'F'): [1, 4, 2], 'Moyenne': 2.33}, 'Groupe_3': {('I', 'B', 'A'): [10, 1, 5], 'Moyenne': 5.33}, 'Groupe_4': {('C', 'L', 'N'): [17, 5, 12], 'Moyenne': 11.33}, 'Groupe_5': {('M', 'J', 'E'): [13, 20, 9], 'Moyenne': 14.0}}\n"
     ]
    }
   ],
   "source": [
    "def moyenne(liste_note):\n",
    "    return sum(liste_note)/len(liste_note)\n",
    "\n",
    "\n",
    "for dico_notes_groupes_eleves_key,dico_notes_groupes_eleves_value in dico_notes_groupes_eleves.items():\n",
    "    for(dico_notes_eleves_key, dico_notes_eleves_value) in list(dico_notes_groupes_eleves_value.items()):\n",
    "        dico_notes_groupes_eleves_value[\"Moyenne\"] = round(moyenne(dico_notes_eleves_value), 2)\n",
    "\n",
    "print(dico_notes_groupes_eleves)"
   ]
  },
  {
   "cell_type": "markdown",
   "metadata": {
    "collapsed": false,
    "pycharm": {
     "name": "#%% md\n"
    }
   },
   "source": [
    "7. Ecrire les instructions permettant de mélanger les items du dictionnaire construit dans la\n",
    "question 6) (pensez à appliquer un « shuffle » sur les clés)."
   ]
  },
  {
   "cell_type": "markdown",
   "metadata": {
    "collapsed": false,
    "pycharm": {
     "name": "#%% md\n"
    }
   },
   "source": [
    "    Pour mélanger les items d'un dictionnaire, on recupère d'abord les clés sous forme de liste, on mélange et ensuite on ajoute les clés que l'on vient\n",
    "    de mélanger dans un nouveau dictionnaire."
   ]
  },
  {
   "cell_type": "code",
   "execution_count": 33,
   "metadata": {
    "collapsed": false,
    "pycharm": {
     "name": "#%%\n"
    }
   },
   "outputs": [
    {
     "name": "stdout",
     "output_type": "stream",
     "text": [
      "Dictionnaire avant avoir mélangé :\n",
      "{'Groupe_1': {('H', 'K', 'O'): [19, 2, 9], 'Moyenne': 10.0}, 'Groupe_2': {('G', 'D', 'F'): [1, 4, 2], 'Moyenne': 2.33}, 'Groupe_3': {('I', 'B', 'A'): [10, 1, 5], 'Moyenne': 5.33}, 'Groupe_4': {('C', 'L', 'N'): [17, 5, 12], 'Moyenne': 11.33}, 'Groupe_5': {('M', 'J', 'E'): [13, 20, 9], 'Moyenne': 14.0}}\n",
      "Dictionnaire après avoir mélangé :\n",
      "{'Groupe_5': {('M', 'J', 'E'): [13, 20, 9], 'Moyenne': 14.0}, 'Groupe_4': {('C', 'L', 'N'): [17, 5, 12], 'Moyenne': 11.33}, 'Groupe_2': {('G', 'D', 'F'): [1, 4, 2], 'Moyenne': 2.33}, 'Groupe_3': {('I', 'B', 'A'): [10, 1, 5], 'Moyenne': 5.33}, 'Groupe_1': {('H', 'K', 'O'): [19, 2, 9], 'Moyenne': 10.0}}\n"
     ]
    }
   ],
   "source": [
    "print(\"Dictionnaire avant avoir mélangé :\")\n",
    "print(dico_notes_groupes_eleves)\n",
    "\n",
    "key_list = list(dico_notes_groupes_eleves.keys())\n",
    "random.shuffle(key_list)\n",
    "\n",
    "shuffled_dico_notes_groupes_eleves = dict()\n",
    "\n",
    "for key in key_list:\n",
    "    shuffled_dico_notes_groupes_eleves[key] = dico_notes_groupes_eleves[key]\n",
    "\n",
    "print(\"Dictionnaire après avoir mélangé :\")\n",
    "print(shuffled_dico_notes_groupes_eleves)"
   ]
  },
  {
   "cell_type": "markdown",
   "metadata": {
    "collapsed": false,
    "pycharm": {
     "name": "#%% md\n"
    }
   },
   "source": [
    "8. Trouver un moyen de déterminer le groupe avec la moyenne minimale, maximale ?"
   ]
  },
  {
   "cell_type": "code",
   "execution_count": 34,
   "metadata": {
    "collapsed": false,
    "pycharm": {
     "name": "#%%\n"
    }
   },
   "outputs": [
    {
     "name": "stdout",
     "output_type": "stream",
     "text": [
      "Groupe_1 {('H', 'K', 'O'): [19, 2, 9], 'Moyenne': 10.0}\n",
      "Groupe_2 {('G', 'D', 'F'): [1, 4, 2], 'Moyenne': 2.33}\n",
      "Groupe_3 {('I', 'B', 'A'): [10, 1, 5], 'Moyenne': 5.33}\n",
      "Groupe_4 {('C', 'L', 'N'): [17, 5, 12], 'Moyenne': 11.33}\n",
      "Groupe_5 {('M', 'J', 'E'): [13, 20, 9], 'Moyenne': 14.0}\n",
      "Groupe_2\n",
      "Groupe_5\n"
     ]
    }
   ],
   "source": [
    "def find_groupe_min(dico):\n",
    "    min = 20\n",
    "\n",
    "    for key, value in dico.items():\n",
    "        if value[\"Moyenne\"] <= min:\n",
    "            min = value[\"Moyenne\"]\n",
    "            groupe = key\n",
    "\n",
    "    return groupe\n",
    "\n",
    "def find_groupe_max(dico):\n",
    "    max = 0\n",
    "\n",
    "    for key, value in dico.items():\n",
    "        if value[\"Moyenne\"] >= max:\n",
    "            max = value[\"Moyenne\"]\n",
    "            groupe = key\n",
    "\n",
    "    return groupe\n",
    "\n",
    "for k, v in dico_notes_groupes_eleves.items():\n",
    "    print(k, v)\n",
    "\n",
    "print(find_groupe_min(dico_notes_groupes_eleves))\n",
    "print(find_groupe_max(dico_notes_groupes_eleves))"
   ]
  }
 ],
 "metadata": {
  "kernelspec": {
   "display_name": "Python 3.9.7 ('l1-python')",
   "language": "python",
   "name": "python3"
  },
  "language_info": {
   "codemirror_mode": {
    "name": "ipython",
    "version": 3
   },
   "file_extension": ".py",
   "mimetype": "text/x-python",
   "name": "python",
   "nbconvert_exporter": "python",
   "pygments_lexer": "ipython3",
   "version": "3.9.7"
  },
  "vscode": {
   "interpreter": {
    "hash": "aed427c7a1222b30c501f2b5c2b75a25a598e3434eb7074437fef6b9ae4e235b"
   }
  }
 },
 "nbformat": 4,
 "nbformat_minor": 0
}
