{
 "cells": [
  {
   "cell_type": "code",
   "execution_count": 35,
   "metadata": {},
   "outputs": [],
   "source": [
    "# TD5 et TD6 : lecture et écriture dans un fichier\n",
    "\n",
    "\n"
   ]
  },
  {
   "cell_type": "code",
   "execution_count": 36,
   "metadata": {},
   "outputs": [
    {
     "name": "stdout",
     "output_type": "stream",
     "text": [
      "None\n"
     ]
    }
   ],
   "source": [
    "#exercice1\n",
    "def copierfichier(source, destination):\n",
    "    \"copie intégrale d'un fichier\"\n",
    "    fs = open(source, \"r\")\n",
    "    fd = open(destination, \"w\")\n",
    "    while 1:\n",
    "        txt = fs.read(50)\n",
    "        if txt == \"\":\n",
    "            break\n",
    "        fd.write(txt)\n",
    "        \n",
    "    fs.close()  \n",
    "    fd.close()\n",
    "    return\n",
    "print(copierfichier(\"test1.txt\", \"test2.txt\"))\n",
    "\n"
   ]
  },
  {
   "cell_type": "code",
   "execution_count": 37,
   "metadata": {},
   "outputs": [],
   "source": [
    "#exercice 2\n",
    "def copierfichier2(source, destination):\n",
    "    \"copie un fichier sans les lignes commencent par #\"\n",
    "    fs = open(source, \"r\")\n",
    "    fd = open(destination, \"w\")\n",
    "    while 1:\n",
    "        txt = fs.readline()\n",
    "        if txt == \"\":\n",
    "            break\n",
    "        if txt[0] != \"#\":\n",
    "            fd.write(txt)\n",
    "    fs.close()  \n",
    "    fd.close()\n",
    "    return\n",
    "copierfichier2(\"test1.txt\", \"test3.txt\")"
   ]
  },
  {
   "cell_type": "code",
   "execution_count": 48,
   "metadata": {},
   "outputs": [],
   "source": [
    "#exercice 3\n",
    "\n",
    "def fichier():\n",
    "    fichier = input(\"quel est votre fichier ?  format = fichier.txt\")\n",
    "    choix = input(\" w : écrire dans le fichier ou r : lire le fichier\")\n",
    "    a = 0\n",
    "    with open(fichier, choix) as filin:\n",
    "        if choix == \"r\" :\n",
    "            lignes = filin.readlines()\n",
    "            for  ligne in lignes:\n",
    "                print(ligne)\n",
    "        if choix == \"w\" :\n",
    "            while a != \"-1\" :\n",
    "                ligne = input(\"écrivez votre ligne, -1 pour s'arréter\")\n",
    "                a = ligne\n",
    "                if ligne == \"\":\n",
    "                    filin.write(\"\\n\")\n",
    "                if ligne != \"-1\":\n",
    "                    filin.write(ligne)\n",
    "fichier()"
   ]
  },
  {
   "cell_type": "code",
   "execution_count": 39,
   "metadata": {},
   "outputs": [],
   "source": [
    "#exercice4\n",
    "\n",
    "def fichier_tables ():\n",
    "    with open(\"tables_multiplications\", \"w\") as filin:\n",
    "        for i in range(2,30):\n",
    "            filin.write(\"table de \" + str(i) + \": \" + \"\\n\")\n",
    "            for j in range(20):\n",
    "                filin.write( str(i)+\"*\"+str(j)+\"=\")\n",
    "                a = i * j\n",
    "                filin.write( str(a)+ \"\\n\")\n",
    "fichier_tables()\n"
   ]
  },
  {
   "cell_type": "code",
   "execution_count": 50,
   "metadata": {},
   "outputs": [],
   "source": [
    "#exercice 5\n",
    "def copie_triple_espace(source, destination):\n",
    "    \"copie un fichier en triplant les sous espaces\"\n",
    "    fs = open(source, \"r\")\n",
    "    fd = open(destination, \"w\")\n",
    "    while 1:\n",
    "        txt = fs.readline()\n",
    "        if txt == \"\":\n",
    "            break\n",
    "        for i in txt:\n",
    "            if i == \" \":\n",
    "                fd.write(\" \" + \" \" + \" \")\n",
    "            else :\n",
    "                fd.write(str(i))\n",
    "    fs.close()  \n",
    "    fd.close()\n",
    "    return\n",
    "copie_triple_espace(\"test1.txt\", \"test4.txt\")"
   ]
  },
  {
   "cell_type": "code",
   "execution_count": 6,
   "metadata": {},
   "outputs": [],
   "source": [
    "#exercie6\n",
    "\n",
    "def fct(source,destination):\n",
    "    fs = open(source, \"r\")\n",
    "    fd =  open(destination, \"w\")\n",
    "    lignes = fs.readlines()\n",
    "    for ligne in lignes:\n",
    "        fd.write(str(round(float(ligne[:-1])))+ \"\\n\") \n",
    "    fs.close()  \n",
    "    fd.close()\n",
    "fct(\"float.txt\",\"test5.txt\")\n",
    "\n"
   ]
  },
  {
   "cell_type": "code",
   "execution_count": 49,
   "metadata": {},
   "outputs": [
    {
     "name": "stdout",
     "output_type": "stream",
     "text": [
      "Ces 2 fichiers diffèrent à partir du caractère n 7\n"
     ]
    }
   ],
   "source": [
    "#exercice 7:\n",
    "from termios import FF1\n",
    "\n",
    "\n",
    "def compare(fichier1,fichier2):\n",
    "    f1 = open(fichier1, \"r\")\n",
    "    f2 = open(fichier2, \"r\")\n",
    "    lignes1 = f1.readlines()\n",
    "    lignes2 = f2.readlines()\n",
    "    if lignes1 != lignes2:\n",
    "        return False\n",
    "    else:\n",
    "        return True\n",
    "\n",
    "compare(\"test1.txt\", \"test2.txt\")\n",
    "\n",
    "\n",
    "# correction\n",
    "\n",
    "fich1 = input(\"nom du fichier:\")\n",
    "fich2 = input(\"nom du fichier:\")\n",
    "fil1 = open(fich1,\"r\")\n",
    "fil2 = open(fich2, \"r\")\n",
    "\n",
    "c,f = 0, 0\n",
    "while 1:\n",
    "    c+=1\n",
    "    car1 = fil1.read(1)\n",
    "    car2 = fil2.read(1)\n",
    "    if car1 == \"\" or car2 == \"\":\n",
    "        break\n",
    "    if car1 != car2 :\n",
    "        f = 1\n",
    "        break #différence trouvée\n",
    "\n",
    "fil1.close()\n",
    "fil2.close()\n",
    "\n",
    "print(\"Ces 2 fichiers\", end=\" \")\n",
    "if f == 1:\n",
    "    print(\"diffèrent à partir du caractère n\", c)\n",
    "else:\n",
    "    print(\"sont identiques.\")\n",
    "\n",
    "\n",
    "    "
   ]
  },
  {
   "cell_type": "code",
   "execution_count": 46,
   "metadata": {},
   "outputs": [],
   "source": [
    "#exercice8\n",
    "\n",
    "def creer_fichier_c(a,b,c):\n",
    "    f1 = open(a, \"r\")\n",
    "    f2 = open(b, \"r\")\n",
    "    f3 = open(c, \"w\")\n",
    "    lignes1 = f1.readlines()\n",
    "    lignes2 = f2.readlines()\n",
    "    for k,o in zip(lignes1,lignes2):\n",
    "        for i,j in zip(k,o):\n",
    "            f3.write(str(i))\n",
    "            f3.write(str(j))\n",
    "    return\n",
    "\n",
    "creer_fichier_c(\"test2.txt\",\"test1.txt\",\"filec.txt\")\n",
    "\n",
    "\n",
    "\n",
    "#correction\n",
    "\n",
    "fichA = input(\"nom du premier fichier:\")\n",
    "fichB = input(\"nom du second fichier:\")\n",
    "fichC = input(\"nom du fichier destinataire\")\n",
    "filA = open(fichA,\"r\")\n",
    "filB = open(fichB, \"r\")\n",
    "filC = open(fichC, \"w\")\n",
    "while 1:\n",
    "    ligneA = filA.readline()\n",
    "    ligneB = filB.readline()\n",
    "    if ligneA == \"\" and ligneB == \"\":\n",
    "        break\n",
    "    if ligneA != \"\":\n",
    "        filC.write(ligneA)\n",
    "    if ligneB !=\"\":\n",
    "        filC.write(ligneB)\n",
    "\n",
    "filA.close()\n",
    "filB.close()\n",
    "filC.close()\n",
    "\n",
    "\n",
    "    "
   ]
  },
  {
   "cell_type": "code",
   "execution_count": 6,
   "metadata": {},
   "outputs": [],
   "source": [
    "#exercise 9\n",
    "\n",
    "def encodage(nbr_personnes):\n",
    "    file = open(\"infos_clients.txt\",\"w\")\n",
    "    for i in range(nbr_personnes):\n",
    "        nom = input(\"saissisez nom\")\n",
    "        prenom = input(\"saissisez prénom\")\n",
    "        adresse = input(\"saissisez aderesse\")\n",
    "        code_postale = input(\"saississez codepostale\")\n",
    "        nu_tel = input(\"saississez numéro de tel\")\n",
    "        file.write(\"client\"+str(i+1)+\":\"+ \"\\n\")\n",
    "        file.write(nom + \"\\n\")\n",
    "        file.write(prenom+ \"\\n\")\n",
    "        file.write(adresse+ \"\\n\")\n",
    "        file.write(code_postale+ \"\\n\")\n",
    "        file.write(nu_tel+ \"\\n\")\n",
    "    file.close()\n",
    "\n",
    "encodage(2)\n",
    "\n",
    "\n"
   ]
  },
  {
   "cell_type": "code",
   "execution_count": 26,
   "metadata": {},
   "outputs": [],
   "source": [
    "#exercice10\n",
    "fil1 = open(\"infos_clients.txt\",\"r\")\n",
    "fil2 = open(\"infos_clients2.txt\",\"w\")\n",
    "lignes = fil1.readlines()\n",
    "i=1\n",
    "for ligne in lignes:\n",
    "    fil2.write(ligne)\n",
    "    if ligne == \"client\"+str(i)+\":\"+ \"\\n\":\n",
    "        a = input(\"sexe?\" + \"\\n\")\n",
    "        fil2.write(a + \"\\n\")\n",
    "        b = input(\"age?\"+ \"\\n\")\n",
    "        fil2.write(b + \"\\n\")\n",
    "        i+=1\n",
    "\n",
    "\n",
    "fil1.close()\n",
    "fil2.close()"
   ]
  },
  {
   "cell_type": "code",
   "execution_count": 29,
   "metadata": {},
   "outputs": [],
   "source": [
    "#exercice11\n",
    "def extraire(code_postale):\n",
    "    fil = open(\"infos_clients.txt\",\"r\")\n",
    "    fil2 = open(\"extraire.txt\",\"w\")\n",
    "    lignes = fil.readlines()\n",
    "    for ligne in lignes:\n",
    "        if ligne == code_postale+ \"\\n\":\n",
    "            fil2.write(ligne)\n",
    "    fil.close()\n",
    "    fil2.close()\n",
    "extraire(\"78450\") \n"
   ]
  }
 ],
 "metadata": {
  "kernelspec": {
   "display_name": "Python 3.9.7 ('l1-python')",
   "language": "python",
   "name": "python3"
  },
  "language_info": {
   "codemirror_mode": {
    "name": "ipython",
    "version": 3
   },
   "file_extension": ".py",
   "mimetype": "text/x-python",
   "name": "python",
   "nbconvert_exporter": "python",
   "pygments_lexer": "ipython3",
   "version": "3.9.7"
  },
  "orig_nbformat": 4,
  "vscode": {
   "interpreter": {
    "hash": "aed427c7a1222b30c501f2b5c2b75a25a598e3434eb7074437fef6b9ae4e235b"
   }
  }
 },
 "nbformat": 4,
 "nbformat_minor": 2
}
