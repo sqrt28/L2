{
 "cells": [
  {
   "cell_type": "code",
   "execution_count": 1,
   "metadata": {},
   "outputs": [],
   "source": [
    "import os\n",
    "\n",
    "\n"
   ]
  },
  {
   "cell_type": "code",
   "execution_count": 4,
   "metadata": {},
   "outputs": [
    {
     "name": "stdout",
     "output_type": "stream",
     "text": [
      "sclutc\n",
      "carton\n",
      "cahier \n",
      "6786655c\n",
      "dictionnaire\n",
      "\n"
     ]
    }
   ],
   "source": [
    "def file_cat(path_in):\n",
    "    with open(path_in, 'r') as fd:\n",
    "        print(fd.read())\n",
    "\n",
    "file_cat(\"/Users/sambarbosa/t1.txt\")"
   ]
  },
  {
   "cell_type": "code",
   "execution_count": 5,
   "metadata": {},
   "outputs": [],
   "source": [
    "def file_copy(path_in, path_out):\n",
    "    with open(path_in, 'rb') as file_in:\n",
    "        with open(path_out, 'wb') as file_out:\n",
    "            file_out.writelines(file_in.readlines())\n",
    "    \n",
    "file_copy(\"/Users/sambarbosa/test_os.txt\",\"/Users/sambarbosa/test_os1.txt\")"
   ]
  },
  {
   "cell_type": "code",
   "execution_count": 26,
   "metadata": {},
   "outputs": [],
   "source": [
    "def file_move(path_in, path_out):\n",
    "    os.rename(path_in,path_out)\n",
    "file_move(\"/Users/sambarbosa/test_os_mv.txt\",\"/Users/sambarbosa/test_os_rename.txt\")\n"
   ]
  },
  {
   "cell_type": "code",
   "execution_count": 10,
   "metadata": {},
   "outputs": [
    {
     "name": "stdout",
     "output_type": "stream",
     "text": [
      "/Users/sambarbosa/t1.txt\n"
     ]
    }
   ],
   "source": [
    "def file_find(path, filename):\n",
    "    for root, dirs, files in os.walk(path):\n",
    "        for name in files:\n",
    "            if name == filename:\n",
    "                print(os.path.join(root,name))\n",
    "        for name in dirs:\n",
    "            return file_find(os.path.join(root,name),filename)\n",
    "    \n",
    "file_find(\"/Users/sambarbosa\",\"t1.txt\")"
   ]
  },
  {
   "cell_type": "code",
   "execution_count": 77,
   "metadata": {},
   "outputs": [
    {
     "data": {
      "text/plain": [
       "True"
      ]
     },
     "execution_count": 77,
     "metadata": {},
     "output_type": "execute_result"
    }
   ],
   "source": [
    "def file_diff(path_a, path_b):\n",
    "    with open(path_a,\"r\") as fd:\n",
    "        text1 = fd.read()\n",
    "        \n",
    "    with open(path_b,\"r\") as fs:\n",
    "        text2 =fs.read()\n",
    "        \n",
    "    if text1 == text2 :\n",
    "        return True\n",
    "    else:\n",
    "        False\n",
    "     \n",
    "     \n",
    "    #with open(path_a, 'r') as file_a:\n",
    "       # with open(path_b, 'r') as file_b:\n",
    "           # return list(set(file_a.readlines()) - set(file_b.readlines()))\n",
    "   \n",
    "\n",
    "file_diff(\"/Users/sambarbosa/t1.txt\",\"/Users/sambarbosa/t2.txt\")\n",
    "        "
   ]
  },
  {
   "cell_type": "code",
   "execution_count": 26,
   "metadata": {},
   "outputs": [],
   "source": [
    "def file_sed_char(path, target, modif):\n",
    "    with open(path, 'r') as file:\n",
    "        contents = file.read()\n",
    "        contents = contents.replace(target, modif)\n",
    "    with open(path, 'w') as file:\n",
    "        file.write(contents)\n",
    "\n",
    "file_sed_char(\"/Users/sambarbosa/t1.txt\",\"a\",\"c\")"
   ]
  },
  {
   "cell_type": "code",
   "execution_count": null,
   "metadata": {},
   "outputs": [],
   "source": [
    "def file_sed_string(path, target, modif):\n",
    "    with open(path, 'r') as file:\n",
    "        contents = file.read()\n",
    "        contents = contents.replace(target, modif)\n",
    "    with open(path, 'w') as file:\n",
    "        file.write(contents)"
   ]
  },
  {
   "cell_type": "code",
   "execution_count": 56,
   "metadata": {},
   "outputs": [
    {
     "name": "stdout",
     "output_type": "stream",
     "text": [
      "2\n",
      "6\n",
      "8\n",
      "15\n",
      "30\n",
      "34\n"
     ]
    }
   ],
   "source": [
    "def file_grep_char(path_in, target):\n",
    "    with open(path_in,\"r\") as fd:\n",
    "        lignes = fd.readlines()\n",
    "        cpt = 0\n",
    "        for ligne in lignes:\n",
    "            for c in ligne:\n",
    "                if c == target:\n",
    "                    print(cpt+1)\n",
    "                cpt+=1\n",
    "\n",
    "file_grep_char(\"/Users/sambarbosa/t1.txt\",\"c\")"
   ]
  },
  {
   "cell_type": "code",
   "execution_count": 74,
   "metadata": {},
   "outputs": [
    {
     "data": {
      "text/plain": [
       "True"
      ]
     },
     "execution_count": 74,
     "metadata": {},
     "output_type": "execute_result"
    }
   ],
   "source": [
    "def file_grep_line(path_in, target):\n",
    "    with open(path_in,\"r\") as fd:\n",
    "        lignes = fd.readlines()\n",
    "        for ligne in lignes:\n",
    "            if target+\"\\n\" == ligne:\n",
    "                return True\n",
    "    return False\n",
    "            \n",
    "file_grep_line(\"/Users/sambarbosa/t1.txt\",\"carton\")"
   ]
  },
  {
   "cell_type": "code",
   "execution_count": 8,
   "metadata": {},
   "outputs": [
    {
     "name": "stdout",
     "output_type": "stream",
     "text": [
      "1 0\n",
      "2 0\n"
     ]
    }
   ],
   "source": [
    "def file_grep_string(path_in, target):\n",
    "   with open(path_in,\"r\") as fd:\n",
    "        lignes = fd.readlines()\n",
    "        cpt_line = 0\n",
    "        for ligne in lignes:\n",
    "            if target in ligne:\n",
    "                print(cpt_line,ligne.index(target))\n",
    "            cpt_line +=1\n",
    "\n",
    "file_grep_string(\"/Users/sambarbosa/t1.txt\",\"ca\")"
   ]
  },
  {
   "cell_type": "code",
   "execution_count": 22,
   "metadata": {},
   "outputs": [
    {
     "name": "stdout",
     "output_type": "stream",
     "text": [
      "le carré de 9 est 81\n"
     ]
    }
   ],
   "source": [
    "fct = lambda a : a ** 2\n",
    "n = int(input(\"le carré de quel nombre\"))\n",
    "print(\"le carré de\",n,\"est\",fct(n))"
   ]
  },
  {
   "cell_type": "code",
   "execution_count": 54,
   "metadata": {},
   "outputs": [
    {
     "name": "stdout",
     "output_type": "stream",
     "text": [
      "96\n"
     ]
    },
    {
     "ename": "TypeError",
     "evalue": "a bytes-like object is required, not 'str'",
     "output_type": "error",
     "traceback": [
      "\u001b[0;31m---------------------------------------------------------------------------\u001b[0m",
      "\u001b[0;31mTypeError\u001b[0m                                 Traceback (most recent call last)",
      "\u001b[1;32m/Users/sambarbosa/visual_studio_code/L2/systeme_exploitation/td3/test_os.ipynb Cell 13\u001b[0m in \u001b[0;36m<cell line: 5>\u001b[0;34m()\u001b[0m\n\u001b[1;32m      <a href='vscode-notebook-cell:/Users/sambarbosa/visual_studio_code/L2/systeme_exploitation/td3/test_os.ipynb#X15sZmlsZQ%3D%3D?line=2'>3</a>\u001b[0m file_txt \u001b[39m=\u001b[39m os\u001b[39m.\u001b[39mopen(\u001b[39m\"\u001b[39m\u001b[39m/Users/sambarbosa/documents/test_os_1.txt\u001b[39m\u001b[39m\"\u001b[39m,\u001b[39m0o511\u001b[39m)\n\u001b[1;32m      <a href='vscode-notebook-cell:/Users/sambarbosa/visual_studio_code/L2/systeme_exploitation/td3/test_os.ipynb#X15sZmlsZQ%3D%3D?line=3'>4</a>\u001b[0m \u001b[39mprint\u001b[39m(file_txt)\n\u001b[0;32m----> <a href='vscode-notebook-cell:/Users/sambarbosa/visual_studio_code/L2/systeme_exploitation/td3/test_os.ipynb#X15sZmlsZQ%3D%3D?line=4'>5</a>\u001b[0m os\u001b[39m.\u001b[39;49mwrite(file_txt,\u001b[39m\"\u001b[39;49m\u001b[39mslt\u001b[39;49m\u001b[39m\"\u001b[39;49m)\n\u001b[1;32m      <a href='vscode-notebook-cell:/Users/sambarbosa/visual_studio_code/L2/systeme_exploitation/td3/test_os.ipynb#X15sZmlsZQ%3D%3D?line=5'>6</a>\u001b[0m os\u001b[39m.\u001b[39mread(file_txt)\n",
      "\u001b[0;31mTypeError\u001b[0m: a bytes-like object is required, not 'str'"
     ]
    }
   ],
   "source": [
    "import os\n",
    "#systeme de fichier\n",
    "file_txt = os.open(\"/Users/sambarbosa/documents/test_os_1.txt\",0o511)\n",
    "print(file_txt)\n",
    "os.write(file_txt,\"slt\")\n",
    "os.read(file_txt)"
   ]
  },
  {
   "cell_type": "code",
   "execution_count": 19,
   "metadata": {},
   "outputs": [],
   "source": [
    "import os\n",
    "\n",
    "def create_file(fname, data=None):\n",
    "    fd = os.open(fname, os.O_CREAT | os.O_WRONLY, 0o666);\n",
    "    if data:\n",
    "        os.write(fd, data.encode());\n",
    "    os.close(fd)\n",
    "        \n",
    "create_file(\"test_fct\",\"Hello world\")"
   ]
  },
  {
   "cell_type": "code",
   "execution_count": 18,
   "metadata": {},
   "outputs": [
    {
     "data": {
      "text/plain": [
       "3"
      ]
     },
     "execution_count": 18,
     "metadata": {},
     "output_type": "execute_result"
    }
   ],
   "source": [
    "import os\n",
    "fd = os.open(\"test_control\",os.O_CREAT | os.O_WRONLY,0o777)\n",
    "#if os.path(\"/Users/sambarbosa/documents/test_os_1.txt\"):\n",
    "    #print(True)\n",
    "os.write(fd,\"ooo\".encode())\n"
   ]
  },
  {
   "cell_type": "code",
   "execution_count": 20,
   "metadata": {},
   "outputs": [
    {
     "data": {
      "text/plain": [
       "'/Users/sambarbosa/visual_studio_code/L2/systeme_exploitation/td3'"
      ]
     },
     "execution_count": 20,
     "metadata": {},
     "output_type": "execute_result"
    }
   ],
   "source": [
    "os.getcwd()"
   ]
  },
  {
   "cell_type": "code",
   "execution_count": 30,
   "metadata": {},
   "outputs": [],
   "source": [
    "os.mkdir(\"/Users/sambarbosa/visual_studio_code/L2/systeme_exploitation/td3/fichiers_crées\",0o444)"
   ]
  },
  {
   "cell_type": "code",
   "execution_count": 28,
   "metadata": {},
   "outputs": [],
   "source": [
    "os.chmod(\"test_fct\",0o666)\n"
   ]
  },
  {
   "cell_type": "code",
   "execution_count": 33,
   "metadata": {},
   "outputs": [
    {
     "data": {
      "text/plain": [
       "os.stat_result(st_mode=16676, st_ino=44420868, st_dev=16777234, st_nlink=2, st_uid=501, st_gid=20, st_size=64, st_atime=1678271475, st_mtime=1678271475, st_ctime=1678271475)"
      ]
     },
     "execution_count": 33,
     "metadata": {},
     "output_type": "execute_result"
    }
   ],
   "source": [
    "os.lstat(\"/Users/sambarbosa/visual_studio_code/L2/systeme_exploitation/td3/fichiers_crées\")"
   ]
  },
  {
   "cell_type": "code",
   "execution_count": 38,
   "metadata": {},
   "outputs": [
    {
     "name": "stdout",
     "output_type": "stream",
     "text": [
      "['td3_main.py', 'test_fct', 'filecore.py', 'fichiers_crées', '.ipynb_checkpoints', 'test_control', 'test_os.ipynb', 'td3.pdf']\n"
     ]
    }
   ],
   "source": [
    "pwd = os.getcwd()\n",
    "print(os.listdir(pwd))"
   ]
  },
  {
   "cell_type": "code",
   "execution_count": 47,
   "metadata": {},
   "outputs": [
    {
     "name": "stdout",
     "output_type": "stream",
     "text": [
      "7653\n",
      "non\n"
     ]
    }
   ],
   "source": [
    "#processus\n",
    "#print(os.getppid(),os.getpid())\n",
    "\n",
    "\n",
    "#invoquer un processus\n",
    "#os.fork()\n",
    "\n",
    "p = os.fork()\n",
    "if p!=0:\n",
    "    print(p)\n",
    "else:\n",
    "    print(\"non\")"
   ]
  },
  {
   "cell_type": "code",
   "execution_count": 4,
   "metadata": {},
   "outputs": [
    {
     "name": "stdout",
     "output_type": "stream",
     "text": [
      "hello\n"
     ]
    }
   ],
   "source": [
    "if True:\n",
    "    print(\"hello\")"
   ]
  },
  {
   "cell_type": "code",
   "execution_count": null,
   "metadata": {},
   "outputs": [],
   "source": [
    "print(f(\"test%{}\"%2))"
   ]
  },
  {
   "cell_type": "code",
   "execution_count": 17,
   "metadata": {},
   "outputs": [],
   "source": [
    "def file_cat(path_in):\n",
    "    with open(path_in, 'r') as fd:\n",
    "        for ligne in fd.read():\n",
    "            print(ligne, end='')\n",
    "\n",
    "def file_copy(path_in, path_out):\n",
    "    with open(path_in, 'rb') as file_in:\n",
    "        with open(path_out, 'wb') as file_out:\n",
    "            file_out.write(file_in.read())\n",
    "\n",
    "def file_move(path_in, path_out):\n",
    "    with open(path_in) as f_in:\n",
    "        lignes = f_in.readlines()\n",
    "    os.remove(path_in)\n",
    "    with open(path_out,\"w\") as f_out:\n",
    "        f_out.writelines(lignes)\n",
    "\n",
    "def file_find(path, filename):\n",
    "    for root, dirs, files in os.walk(path):\n",
    "        for name in files:\n",
    "            if name == filename:\n",
    "                print(os.path.join(root,name))\n",
    "        for name in dirs:\n",
    "            return file_find(os.path.join(root,name),filename)\n",
    "\n",
    "def file_diff(path_a, path_b):\n",
    "    with open(path_a,\"r\") as fd:\n",
    "        with open(path_b,\"r\") as fs:\n",
    "            return (fd.readlines()== fs.readlines())\n",
    "        \n",
    "\n",
    "\n",
    "def file_sed_char(path, target, modif):\n",
    "    with open(path, 'r') as file1:\n",
    "        contents = file1.read()\n",
    "        contents = contents.replace(target, modif)\n",
    "    with open(path, 'w') as file1:\n",
    "        file1.write(contents)\n",
    "\n",
    "def file_sed_string(path, target, modif):\n",
    "    with open(path, 'r') as file1:\n",
    "        contents = file1.read()\n",
    "        contents = contents.replace(target, modif)\n",
    "    with open(path, 'w') as file2:\n",
    "        file2.write(contents)\n",
    "\n",
    "def file_grep_char(path_in, target):\n",
    "     with open(path_in,\"r\") as fd:\n",
    "        lignes = fd.readlines()\n",
    "        cpt = 0\n",
    "        for ligne in lignes:\n",
    "            for c in ligne:\n",
    "                if c == target:\n",
    "                    print(cpt+1)\n",
    "                cpt+=1\n",
    "\n",
    "def file_grep_string(path_in, target):\n",
    "    with open(path_in,\"r\") as fd:\n",
    "        lignes = fd.readlines()\n",
    "        cpt_line = 0\n",
    "        for ligne in lignes:\n",
    "            cpt_line +=1\n",
    "            cpt_inline = 0\n",
    "            for c in ligne:\n",
    "                if c == target:\n",
    "                    print(cpt_line,cpt_inline)\n",
    "                cpt_inline+=1\n"
   ]
  },
  {
   "cell_type": "code",
   "execution_count": 24,
   "metadata": {},
   "outputs": [
    {
     "ename": "SyntaxError",
     "evalue": "invalid syntax (1834470878.py, line 8)",
     "output_type": "error",
     "traceback": [
      "\u001b[0;36m  Input \u001b[0;32mIn [24]\u001b[0;36m\u001b[0m\n\u001b[0;31m    os.\u001b[0m\n\u001b[0m       ^\u001b[0m\n\u001b[0;31mSyntaxError\u001b[0m\u001b[0;31m:\u001b[0m invalid syntax\n"
     ]
    }
   ],
   "source": [
    "import os\n",
    "def file_cat1(path_in):\n",
    "   fd = os.open(path_in,os.O_RDONLY)\n",
    "   print(os.read(fd,50))\n",
    "   os.close(fd)\n",
    "\n",
    "def file_copy(path_in, path_out):\n",
    "    os.\n",
    "\n",
    "def file_move(path_in, path_out):\n",
    "   pass\n",
    "\n",
    "def file_find(path, filename):\n",
    "    pass\n",
    "\n",
    "def file_diff(path_a, path_b):\n",
    "    pass\n",
    "\n",
    "\n",
    "def file_sed_char(path, target, modif):\n",
    "    pass\n",
    "\n",
    "def file_sed_string(path, target, modif):\n",
    "    pass\n",
    "\n",
    "def file_grep_char(path_in, target):\n",
    "    pass\n",
    "\n",
    "def file_grep_string(path_in, target):\n",
    "   pass\n",
    "\n",
    "def file_copy(path_in, path_out):\n",
    "    pass\n",
    "\n",
    "def file_move(path_in, path_out):\n",
    "    pass\n",
    "\n",
    "def file_find(path, filename):\n",
    "    pass\n",
    "\n",
    "def file_diff(path_a, path_b):\n",
    "    pass\n",
    "\n",
    "def file_sed_char(path, target, modif):\n",
    "    pass\n",
    "\n",
    "def file_sed_string(path, target, modif):\n",
    "    pass\n",
    "\n",
    "def file_grep_char(path_in, target):\n",
    "    pass\n",
    "\n",
    "def file_grep_string(path_in, target):\n",
    "    pass\n",
    "                \n",
    "file_cat1(\"/Users/sambarbosa/visual_studio_code/L2/systeme_exploitation/td3/test_fct\")       \n"
   ]
  },
  {
   "cell_type": "code",
   "execution_count": 10,
   "metadata": {},
   "outputs": [
    {
     "name": "stdout",
     "output_type": "stream",
     "text": [
      "b'hello\\ncomment tu vas\\nbien et toi?'\n"
     ]
    }
   ],
   "source": [
    "import os\n",
    "def file_cat(path_in):\n",
    "    fd = os.open(path_in,os.O_RDONLY)\n",
    "    print(os.read(fd,50))\n",
    "    os.close(fd)\n",
    "    \n",
    "path = os.getcwd()\n",
    "text =\"test_fct\"\n",
    "file_cat(os.path.join(path,text))"
   ]
  }
 ],
 "metadata": {
  "kernelspec": {
   "display_name": "L2",
   "language": "python",
   "name": "python3"
  },
  "language_info": {
   "codemirror_mode": {
    "name": "ipython",
    "version": 3
   },
   "file_extension": ".py",
   "mimetype": "text/x-python",
   "name": "python",
   "nbconvert_exporter": "python",
   "pygments_lexer": "ipython3",
   "version": "3.9.13"
  },
  "orig_nbformat": 4,
  "vscode": {
   "interpreter": {
    "hash": "8a5edab282632443219e051e4ade2d1d5bbc671c781051bf1437897cbdfea0f1"
   }
  }
 },
 "nbformat": 4,
 "nbformat_minor": 2
}
