{
 "cells": [
  {
   "cell_type": "code",
   "execution_count": 36,
   "metadata": {},
   "outputs": [],
   "source": [
    "#exercice 1:\n",
    "\n",
    "#question1\n",
    "def entiers(n):\n",
    "    for i in range(1,n):\n",
    "        yield i\n",
    "        \n",
    "        \n",
    "def carres(seq):\n",
    "    for ele in seq:\n",
    "        yield ele*ele \n",
    "        \n",
    "def negatifs(seq):\n",
    "    for ele in seq:\n",
    "        if ele < 0:\n",
    "            yield ele\n",
    "\n",
    "\n"
   ]
  },
  {
   "cell_type": "code",
   "execution_count": 49,
   "metadata": {},
   "outputs": [
    {
     "name": "stdout",
     "output_type": "stream",
     "text": [
      "<generator object negatifs at 0x7f8120da2120>\n"
     ]
    },
    {
     "ename": "StopIteration",
     "evalue": "",
     "output_type": "error",
     "traceback": [
      "\u001b[0;31m---------------------------------------------------------------------------\u001b[0m",
      "\u001b[0;31mStopIteration\u001b[0m                             Traceback (most recent call last)",
      "\u001b[1;32m/Users/sambarbosa/visual_studio_code/L2/Con_anv_prog/tds/td3_generateurs.ipynb Cell 2\u001b[0m in \u001b[0;36m<cell line: 6>\u001b[0;34m()\u001b[0m\n\u001b[1;32m      <a href='vscode-notebook-cell:/Users/sambarbosa/visual_studio_code/L2/Con_anv_prog/tds/td3_generateurs.ipynb#W1sZmlsZQ%3D%3D?line=2'>3</a>\u001b[0m flux \u001b[39m=\u001b[39m negatifs(carres(entiers(\u001b[39m9\u001b[39m)))\n\u001b[1;32m      <a href='vscode-notebook-cell:/Users/sambarbosa/visual_studio_code/L2/Con_anv_prog/tds/td3_generateurs.ipynb#W1sZmlsZQ%3D%3D?line=3'>4</a>\u001b[0m \u001b[39mprint\u001b[39m(flux)\n\u001b[0;32m----> <a href='vscode-notebook-cell:/Users/sambarbosa/visual_studio_code/L2/Con_anv_prog/tds/td3_generateurs.ipynb#W1sZmlsZQ%3D%3D?line=5'>6</a>\u001b[0m \u001b[39mnext\u001b[39;49m(flux)\n",
      "\u001b[0;31mStopIteration\u001b[0m: "
     ]
    }
   ],
   "source": [
    "#question2\n",
    "\n",
    "flux = negatifs(carres(entiers(9)))\n",
    "print(flux)\n",
    "\n",
    "next(flux)"
   ]
  },
  {
   "cell_type": "code",
   "execution_count": null,
   "metadata": {},
   "outputs": [],
   "source": [
    "#question3\n",
    "\n"
   ]
  },
  {
   "cell_type": "code",
   "execution_count": null,
   "metadata": {},
   "outputs": [],
   "source": [
    "#EXERICE 2\n",
    "\n",
    "#questions1\n",
    "\n",
    "\n",
    "\n"
   ]
  },
  {
   "cell_type": "code",
   "execution_count": null,
   "metadata": {},
   "outputs": [],
   "source": []
  },
  {
   "cell_type": "code",
   "execution_count": null,
   "metadata": {},
   "outputs": [],
   "source": []
  }
 ],
 "metadata": {
  "kernelspec": {
   "display_name": "base",
   "language": "python",
   "name": "python3"
  },
  "language_info": {
   "codemirror_mode": {
    "name": "ipython",
    "version": 3
   },
   "file_extension": ".py",
   "mimetype": "text/x-python",
   "name": "python",
   "nbconvert_exporter": "python",
   "pygments_lexer": "ipython3",
   "version": "3.9.5"
  },
  "orig_nbformat": 4,
  "vscode": {
   "interpreter": {
    "hash": "34adaf33f4013e9f044ea830c8728ae8511d15c3ab9eca41e9d19329c6e63e34"
   }
  }
 },
 "nbformat": 4,
 "nbformat_minor": 2
}
