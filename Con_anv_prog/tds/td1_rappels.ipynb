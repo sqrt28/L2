{
 "cells": [
  {
   "cell_type": "code",
   "execution_count": 70,
   "metadata": {},
   "outputs": [
    {
     "name": "stdout",
     "output_type": "stream",
     "text": [
      "19\n",
      "2\n"
     ]
    }
   ],
   "source": [
    "#exercice 1\n",
    "\n",
    "#a)\n",
    "ma_liste = [19,5,12,8,3,7,2,15]\n",
    "\n",
    "def max(l):\n",
    "    maximun = l[0]\n",
    "    for i in range(len(l)):\n",
    "        if l[i] > maximun:\n",
    "            maximun = l[i]\n",
    "    return maximun\n",
    "\n",
    "print(max(ma_liste))      \n",
    "\n",
    "def min(l):\n",
    "    minimum = l[0]\n",
    "    for i in range(len(l)):\n",
    "        if l[i] < minimum:\n",
    "            minimum = l[i]\n",
    "    return minimum\n",
    "\n",
    "print(min(ma_liste))\n",
    "    \n",
    "    "
   ]
  },
  {
   "cell_type": "code",
   "execution_count": 71,
   "metadata": {},
   "outputs": [
    {
     "data": {
      "text/plain": [
       "8.875"
      ]
     },
     "execution_count": 71,
     "metadata": {},
     "output_type": "execute_result"
    }
   ],
   "source": [
    "def moyenne(l):\n",
    "    somme = 0\n",
    "    for i in range(len(l)):\n",
    "        somme += l[i]\n",
    "    return (somme/len(l))\n",
    "\n",
    "moyenne(ma_liste)\n",
    "\n",
    "        "
   ]
  },
  {
   "cell_type": "code",
   "execution_count": 72,
   "metadata": {},
   "outputs": [
    {
     "data": {
      "text/plain": [
       "([19, 5, 3, 7, 15], [12, 8, 2])"
      ]
     },
     "execution_count": 72,
     "metadata": {},
     "output_type": "execute_result"
    }
   ],
   "source": [
    "def repartir(l):\n",
    "    global listeImpairs, listePairs\n",
    "    listePairs = list()\n",
    "    listeImpairs = list()\n",
    "    for i in range(len(l)):\n",
    "        if l[i] % 2 == 0:\n",
    "            listePairs.append(l[i])\n",
    "        else:\n",
    "            listeImpairs.append(l[i])\n",
    "    return listeImpairs,listePairs\n",
    "\n",
    "repartir(ma_liste)\n",
    "            "
   ]
  },
  {
   "cell_type": "code",
   "execution_count": 73,
   "metadata": {},
   "outputs": [
    {
     "data": {
      "text/plain": [
       "[12, 19, 8, 5, 2, 3, 7, 15]"
      ]
     },
     "execution_count": 73,
     "metadata": {},
     "output_type": "execute_result"
    }
   ],
   "source": [
    "def combiner(l1,l2):\n",
    "    global listeR\n",
    "    listeR = list()\n",
    "    if len(l1) > len(l2):\n",
    "        l = len(l1)\n",
    "    else:\n",
    "        l = len(l2)\n",
    "    for i in range(l):\n",
    "        try:\n",
    "            listeR.append(l1[i])\n",
    "        except:\n",
    "            pass\n",
    "        try:\n",
    "            listeR.append(l2[i])\n",
    "        except:\n",
    "            pass\n",
    "    return listeR\n",
    "\n",
    "combiner(listePairs,listeImpairs)"
   ]
  },
  {
   "cell_type": "code",
   "execution_count": 77,
   "metadata": {},
   "outputs": [
    {
     "name": "stdout",
     "output_type": "stream",
     "text": [
      "[12, 19, 8, 5, 2, 3, 7, 15]\n"
     ]
    }
   ],
   "source": [
    "#copie V1\n",
    "listeR2 = list()\n",
    "for i in range(len(listeR)):\n",
    "    listeR2.append(listeR[i])\n",
    "print(listeR2)\n",
    "\n",
    "#copieV2\n",
    "ListeR2 = listeR[:]\n",
    "\n",
    "#copieV3\n",
    "ListeR3 = listeR.copy()\n",
    "\n"
   ]
  },
  {
   "cell_type": "code",
   "execution_count": 87,
   "metadata": {},
   "outputs": [
    {
     "name": "stdout",
     "output_type": "stream",
     "text": [
      "ava\n",
      "[5, 7]\n",
      "('deux', 3)\n"
     ]
    }
   ],
   "source": [
    "#exercice 2\n",
    "\n",
    "#question a)\n",
    "S1 = \"Java, C et Python\"\n",
    "S2 = [2,3,5,7,11,13] \n",
    "S3 = (1,\"deux\",3,True,False)\n",
    "\n",
    "C = S1[:]\n",
    "L = S2[:]\n",
    "T = S3[:]\n",
    "\n",
    "print(C[1:4])\n",
    "print(L[2:4])\n",
    "print(T[1:3])\n"
   ]
  },
  {
   "cell_type": "code",
   "execution_count": 99,
   "metadata": {},
   "outputs": [
    {
     "name": "stdout",
     "output_type": "stream",
     "text": [
      "{'c', 'a', 'r', 'b', 'd'}\n"
     ]
    },
    {
     "data": {
      "text/plain": [
       "False"
      ]
     },
     "execution_count": 99,
     "metadata": {},
     "output_type": "execute_result"
    }
   ],
   "source": [
    "#question c)\n",
    "Str = \"abracadabra\"\n",
    "Ens = set(Str)\n",
    "print(Ens)\n",
    "len(Str) == len(Ens)\n"
   ]
  },
  {
   "cell_type": "code",
   "execution_count": 100,
   "metadata": {},
   "outputs": [
    {
     "name": "stdout",
     "output_type": "stream",
     "text": [
      "{'c', 'a', 'e', 'r', 'b', 'd'}\n"
     ]
    }
   ],
   "source": [
    "#question d)\n",
    "Ens.add(\"e\")\n",
    "print(Ens)\n"
   ]
  },
  {
   "cell_type": "code",
   "execution_count": 101,
   "metadata": {},
   "outputs": [
    {
     "name": "stdout",
     "output_type": "stream",
     "text": [
      "{1, 2, 'c', 3, 4, 5, 'a', 'e', 'r', 'b', 'd'}\n"
     ]
    }
   ],
   "source": [
    "Ens.update([1,2,3,4,5])\n",
    "print(Ens)"
   ]
  },
  {
   "cell_type": "code",
   "execution_count": 107,
   "metadata": {},
   "outputs": [
    {
     "name": "stdout",
     "output_type": "stream",
     "text": [
      "différence {'b', 'a'} {'d', 'e'}\n",
      "union {'b', 'c', 'a', 'd', 'e'}\n",
      "intersection {'c'}\n"
     ]
    }
   ],
   "source": [
    "#question e)\n",
    "E1 = {\"a\",\"b\",\"c\"}\n",
    "E2 = {\"c\",\"d\",\"e\"}\n",
    "print(\"différence\",E1 - E2,E2-E1) #différence\n",
    "print(\"union\", E1|E2) # union\n",
    "print(\"intersection\",E1 & E2) # intersection\n",
    "#dans les ensembles l'odre est aléatoire"
   ]
  },
  {
   "cell_type": "code",
   "execution_count": 132,
   "metadata": {},
   "outputs": [
    {
     "name": "stdout",
     "output_type": "stream",
     "text": [
      "['Iron man', 'Tintin', 'One piece']\n",
      "['Marvel', 'Casterman', 'Glenat']\n",
      "['Iron man', 'Marvel', 'Tintin', 'Casterman', 'One piece', 'Glenat']\n",
      "['Iron man', 'Tintin', 'One piece']\n",
      "['Marvel', 'Casterman', 'Glenat']\n",
      "[('Iron man', 'Marvel'), ('Tintin', 'Casterman'), ('One piece', 'Glenat')]\n"
     ]
    }
   ],
   "source": [
    "#exercice 3\n",
    "\n",
    "#question b)\n",
    "BD = {\"Iron man\" : \"Marvel\", \"Tintin\": \"Casterman\", \"One piece\" : \"Glenat\"}\n",
    "Cles = list()\n",
    "Vals = list()\n",
    "Items = list()\n",
    "for i,j in BD.items():\n",
    "    Cles.append(i)\n",
    "    Vals.append(j)\n",
    "    Items.append(i)\n",
    "    Items.append(j)\n",
    "print(Cles)\n",
    "print(Vals)\n",
    "print(Items)\n",
    "\n",
    "Cles1 = list(BD.keys())\n",
    "Vals1 = list(BD.values())\n",
    "Items1 = list(BD.items())\n",
    "\n",
    "print(Cles1)\n",
    "print(Vals1)\n",
    "print(Items1)"
   ]
  },
  {
   "cell_type": "code",
   "execution_count": 112,
   "metadata": {},
   "outputs": [
    {
     "name": "stdout",
     "output_type": "stream",
     "text": [
      "{'Iron man': 'Marvel', 'One piece': 'Glenat'}\n",
      "{'Iron man': 'Marvel', 'One piece': 'Glenat', 'Superman': 'DC Comics'}\n"
     ]
    }
   ],
   "source": [
    "#question c)\n",
    "del(BD[\"Tintin\"])\n",
    "print(BD)\n",
    "BD[\"Superman\"] = \"DC Comics\"\n",
    "print(BD)"
   ]
  },
  {
   "cell_type": "code",
   "execution_count": 1,
   "metadata": {},
   "outputs": [
    {
     "name": "stdout",
     "output_type": "stream",
     "text": [
      "{'l': 4, 'e': 6, 's': 15, ' ': 9, 'a': 4, 'u': 2, 'c': 3, 'i': 3, 't': 2, 'o': 3, 'n': 3, 'd': 1, 'r': 1}\n",
      "None\n"
     ]
    }
   ],
   "source": [
    "#exercice 4\n",
    "\n",
    "# ma version\n",
    "import string\n",
    "\n",
    "dico_alphabet = dict()\n",
    "text = \"les saucisses et les saucissons secs sont dans le saloir\"\n",
    "\n",
    "for i in text :\n",
    "    dico_alphabet[i] = text.count(i)\n",
    "\n",
    "#version corrigé\n",
    "\n",
    "Lettres = {}\n",
    "for c in text:\n",
    "    Lettres[c] = Lettres.get(c,0) + 1\n",
    "\n",
    "print(Lettres)\n",
    "\n",
    "#on ne peut pas trier un dico\n",
    "\n",
    "histogrammes = list(Lettres.items())\n",
    "\n",
    "histogrammes = histogrammes.sort()\n",
    "print(histogrammes)\n",
    "\n",
    " \n",
    " \n"
   ]
  },
  {
   "cell_type": "code",
   "execution_count": 15,
   "metadata": {},
   "outputs": [
    {
     "name": "stdout",
     "output_type": "stream",
     "text": [
      "[0, 1] ['e', 'oflf', {1, 3}]\n"
     ]
    }
   ],
   "source": [
    "\n",
    "liste = [0,\"e\",1,\"oflf\",{1,3}]\n",
    "list_entier = []\n",
    "list_reste = []\n",
    "for i in range(len(liste)):\n",
    "    if  type(liste[i]) is type(int()):\n",
    "        list_entier.append(liste[i])\n",
    "    else:\n",
    "        list_reste.append(liste[i])\n",
    "            \n",
    "print(list_entier,list_reste)"
   ]
  },
  {
   "cell_type": "code",
   "execution_count": 5,
   "metadata": {},
   "outputs": [
    {
     "data": {
      "text/plain": [
       "[0, 2, 4, 6, 8, 10, 12, 14, 16, 18, 20, 22, 24, 26, 28]"
      ]
     },
     "execution_count": 5,
     "metadata": {},
     "output_type": "execute_result"
    }
   ],
   "source": [
    "def liste_pairs(nbre):\n",
    "    return [i for i in range(nbre) if i % 2 == 0]\n",
    "liste_pairs(30)"
   ]
  }
 ],
 "metadata": {
  "kernelspec": {
   "display_name": "base",
   "language": "python",
   "name": "python3"
  },
  "language_info": {
   "codemirror_mode": {
    "name": "ipython",
    "version": 3
   },
   "file_extension": ".py",
   "mimetype": "text/x-python",
   "name": "python",
   "nbconvert_exporter": "python",
   "pygments_lexer": "ipython3",
   "version": "3.9.5"
  },
  "orig_nbformat": 4,
  "vscode": {
   "interpreter": {
    "hash": "34adaf33f4013e9f044ea830c8728ae8511d15c3ab9eca41e9d19329c6e63e34"
   }
  }
 },
 "nbformat": 4,
 "nbformat_minor": 2
}
