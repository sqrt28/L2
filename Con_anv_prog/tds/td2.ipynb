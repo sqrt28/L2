{
 "cells": [
  {
   "cell_type": "code",
   "execution_count": 165,
   "metadata": {},
   "outputs": [
    {
     "name": "stdout",
     "output_type": "stream",
     "text": [
      "1 vanille\n",
      "2 chocolat\n",
      "3 fraise\n",
      "4 noix de pecan\n"
     ]
    }
   ],
   "source": [
    "#TD2 \n",
    "\n",
    "#exercice 1\n",
    "\n",
    "liste_parfum = [\"vanille\",\"chocolat\",\"fraise\",\"noix de pecan\"]\n",
    "taille = len(liste_parfum)\n",
    "for i in range(taille):\n",
    "    print(i+1,liste_parfum[i])\n"
   ]
  },
  {
   "cell_type": "code",
   "execution_count": 166,
   "metadata": {},
   "outputs": [
    {
     "data": {
      "text/plain": [
       "(0, 'vanille')"
      ]
     },
     "execution_count": 166,
     "metadata": {},
     "output_type": "execute_result"
    }
   ],
   "source": [
    "a = enumerate(liste_parfum)\n",
    "next(a)\n"
   ]
  },
  {
   "cell_type": "code",
   "execution_count": 167,
   "metadata": {},
   "outputs": [
    {
     "name": "stdout",
     "output_type": "stream",
     "text": [
      "0 vanille\n",
      "1 chocolat\n",
      "2 fraise\n",
      "3 noix de pecan\n"
     ]
    }
   ],
   "source": [
    "for indice, parfum in enumerate(liste_parfum):\n",
    "    print(indice, parfum)\n",
    "\n"
   ]
  },
  {
   "cell_type": "code",
   "execution_count": 168,
   "metadata": {},
   "outputs": [
    {
     "name": "stdout",
     "output_type": "stream",
     "text": [
      "0 vanille\n",
      "1 chocolat\n",
      "2 fraise\n",
      "3 noix de pecan\n"
     ]
    }
   ],
   "source": [
    "#version plus optimisé\n",
    "iterateur = enumerate(liste_parfum)\n",
    "for indice, parfum in iterateur:\n",
    "    print(indice, parfum)"
   ]
  },
  {
   "cell_type": "code",
   "execution_count": 169,
   "metadata": {},
   "outputs": [
    {
     "name": "stdout",
     "output_type": "stream",
     "text": [
      "(1, 'vanille')\n",
      "(2, 'chocolat')\n",
      "(3, 'fraise')\n",
      "(4, 'noix de pecan')\n"
     ]
    }
   ],
   "source": [
    "for i in enumerate(liste_parfum, 1):\n",
    "    print(i)"
   ]
  },
  {
   "cell_type": "code",
   "execution_count": 170,
   "metadata": {},
   "outputs": [
    {
     "data": {
      "text/plain": [
       "[3, 5, 4]"
      ]
     },
     "execution_count": 170,
     "metadata": {},
     "output_type": "execute_result"
    }
   ],
   "source": [
    "#exercice 2:\n",
    "\n",
    "#Question1:\n",
    "liste_noms = [\"sam\",\"ethan\",\"théo\"]\n",
    "liste_longueurs= []\n",
    "for i in liste_noms:\n",
    "    liste_longueurs.append(len(i))\n",
    "liste_longueurs\n",
    "\n",
    "#ou liste en compréhension\n",
    "liste_longueurs = [len(noms) for noms in liste_noms]\n",
    "liste_longueurs\n",
    "\n"
   ]
  },
  {
   "cell_type": "code",
   "execution_count": 171,
   "metadata": {},
   "outputs": [
    {
     "data": {
      "text/plain": [
       "'ethan'"
      ]
     },
     "execution_count": 171,
     "metadata": {},
     "output_type": "execute_result"
    }
   ],
   "source": [
    "#question2:\n",
    "def longest_name(l_noms, liste_longueur):\n",
    "    \"\"\"en utilidant range()\"\"\"\n",
    "    maximum = liste_longueur[0]\n",
    "    indice_max = 0\n",
    "    for i in range(len(liste_longueur)):\n",
    "        if liste_longueur[i] > maximum:\n",
    "            maximum = liste_longueur[i]\n",
    "            indice_max = i\n",
    "    return l_noms[indice_max]\n",
    "longest_name(liste_noms,liste_longueurs)"
   ]
  },
  {
   "cell_type": "code",
   "execution_count": 172,
   "metadata": {},
   "outputs": [
    {
     "data": {
      "text/plain": [
       "'ethan'"
      ]
     },
     "execution_count": 172,
     "metadata": {},
     "output_type": "execute_result"
    }
   ],
   "source": [
    "#question 3:\n",
    "def longest_name_V2(l_noms, liste_longueur):\n",
    "    \"\"\"en utilisant enumerates()\"\"\"\n",
    "    maximum = liste_longueur[0]\n",
    "    indice_max = 0\n",
    "    iterateur = enumerate(liste_longueur)\n",
    "    for indice,val in iterateur:\n",
    "        if maximum < val:\n",
    "            maximum = val\n",
    "            indice_max = indice\n",
    "    return l_noms[indice_max]\n",
    "\n",
    "   \n",
    "   \n",
    "longest_name_V2(liste_noms,liste_longueurs) "
   ]
  },
  {
   "cell_type": "code",
   "execution_count": 180,
   "metadata": {},
   "outputs": [
    {
     "data": {
      "text/plain": [
       "0"
      ]
     },
     "execution_count": 180,
     "metadata": {},
     "output_type": "execute_result"
    }
   ],
   "source": [
    "#question 4:\n",
    "def longest_name_V3(l_noms,l_longueur):\n",
    "    \"\"\"en utilisant zip\"\"\"\n",
    "    maximum = l_longueur[0]\n",
    "    noms = 0\n",
    "    for i,j in zip(l_noms,l_longueur):\n",
    "        if maximum < j:\n",
    "            maximum = j\n",
    "            noms = i\n",
    "    \n",
    "    return noms\n",
    "        \n",
    "longest_name_V3(liste_noms,liste_longueurs)\n"
   ]
  },
  {
   "cell_type": "code",
   "execution_count": 191,
   "metadata": {},
   "outputs": [
    {
     "name": "stdout",
     "output_type": "stream",
     "text": [
      "cécilia 7\n",
      "lise 4\n",
      "marie 5\n",
      "Rosaline None\n"
     ]
    }
   ],
   "source": [
    "from itertools import zip_longest\n",
    "l1 = [\"cécilia\",\"lise\",\"marie\",\"Rosaline\"]\n",
    "l2 = [7,4,5]\n",
    "def longest_name_V4(l_noms,l_longueur):\n",
    "    \"\"\"avec zip_longest()\"\"\"\n",
    "    for i,j in zip_longest(l_noms,l_longueur):\n",
    "        print(i,j)\n",
    "longest_name_V4(l1,l2)"
   ]
  },
  {
   "cell_type": "code",
   "execution_count": 237,
   "metadata": {},
   "outputs": [
    {
     "name": "stdout",
     "output_type": "stream",
     "text": [
      "4\n",
      "4\n"
     ]
    }
   ],
   "source": [
    "#exercice 3\n",
    "textile = [18,20,22,25,30,35,40,45,50]\n",
    "industrie = [12,17,28,36,67,100]\n",
    "petrochimie = [22,23,24,28,30,33]\n",
    "construction = [12,17,20,25]\n",
    "\n",
    "#V1\n",
    "f = lambda a : a < 30\n",
    "cpt = 0\n",
    "for i in textile:\n",
    "    if f(i) == True:\n",
    "        cpt += 1\n",
    "print(cpt)\n",
    "\n",
    "#V2\n",
    "l_agesinf30 = (list(filter(lambda a : a < 30, textile)))\n",
    "print(len(l_agesinf30))"
   ]
  },
  {
   "cell_type": "code",
   "execution_count": 242,
   "metadata": {},
   "outputs": [],
   "source": [
    "\n",
    "\n",
    "l_liste = [[18,20,22,25,30,35,40,45,50],[12,17,28,36,67]]\n",
    "l_agesinf30 =[len(list((filter(lambda x : x < 30,l_ages)))) for l_ages in l_liste]"
   ]
  },
  {
   "cell_type": "code",
   "execution_count": 246,
   "metadata": {},
   "outputs": [],
   "source": [
    "f = lambda a : sum(a) // len(a)\n",
    "liste_age_moyen=(list(map(lambda a : sum(a) // len(a),l_liste)))\n"
   ]
  },
  {
   "cell_type": "code",
   "execution_count": 249,
   "metadata": {},
   "outputs": [
    {
     "name": "stdout",
     "output_type": "stream",
     "text": [
      "{'textile': (4, 31), 'industrie': (3, 32)}\n",
      "{'textile': (4, 31), 'industrie': (3, 32)}\n"
     ]
    }
   ],
   "source": [
    "dico = {}\n",
    "liste_secteurs = [\"textile\",'industrie']\n",
    "\n",
    "i = 0\n",
    "for j in zip(l_agesinf30,liste_age_moyen):    \n",
    "    dico[liste_secteurs[i]] = j\n",
    "    i += 1\n",
    "        \n",
    "print(dico)\n",
    "\n",
    "dico1 = {cle : valeur for cle, valeur in zip(liste_secteurs,zip(l_agesinf30,liste_age_moyen))}\n",
    "print(dico1)\n"
   ]
  }
 ],
 "metadata": {
  "kernelspec": {
   "display_name": "base",
   "language": "python",
   "name": "python3"
  },
  "language_info": {
   "codemirror_mode": {
    "name": "ipython",
    "version": 3
   },
   "file_extension": ".py",
   "mimetype": "text/x-python",
   "name": "python",
   "nbconvert_exporter": "python",
   "pygments_lexer": "ipython3",
   "version": "3.9.5"
  },
  "orig_nbformat": 4,
  "vscode": {
   "interpreter": {
    "hash": "34adaf33f4013e9f044ea830c8728ae8511d15c3ab9eca41e9d19329c6e63e34"
   }
  }
 },
 "nbformat": 4,
 "nbformat_minor": 2
}
