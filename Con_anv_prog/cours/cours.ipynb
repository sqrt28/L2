{
 "cells": [
  {
   "cell_type": "code",
   "execution_count": null,
   "metadata": {},
   "outputs": [],
   "source": [
    "# objt itérable = obj sur lequelle on peut appliquer une opération\n",
    "# les générateurs  = class spécial des fonctions\n"
   ]
  },
  {
   "cell_type": "code",
   "execution_count": 6,
   "metadata": {},
   "outputs": [
    {
     "data": {
      "text/plain": [
       "[97, 98, 99]"
      ]
     },
     "execution_count": 6,
     "metadata": {},
     "output_type": "execute_result"
    }
   ],
   "source": [
    "#liste en compréhension:\n",
    "# [expresssion ofr expr1 in sequence if condition]\n",
    "\n",
    "#exemple\n",
    "chainee = \"abc\"\n",
    "module = [ord(elem)for elem in chainee if ord(elem)<127]\n",
    "module"
   ]
  },
  {
   "cell_type": "code",
   "execution_count": 8,
   "metadata": {},
   "outputs": [
    {
     "data": {
      "text/plain": [
       "[0, 2, 4, 6, 8]"
      ]
     },
     "execution_count": 8,
     "metadata": {},
     "output_type": "execute_result"
    }
   ],
   "source": [
    "liste_pairs = [i for i in range(10) if i % 2 == 0]\n",
    "liste_pairs"
   ]
  },
  {
   "cell_type": "code",
   "execution_count": 13,
   "metadata": {},
   "outputs": [
    {
     "name": "stdout",
     "output_type": "stream",
     "text": [
      "4\n"
     ]
    }
   ],
   "source": [
    "f = lambda a : 2 * a\n",
    "print(f(2))\n"
   ]
  },
  {
   "cell_type": "code",
   "execution_count": 24,
   "metadata": {},
   "outputs": [
    {
     "name": "stdout",
     "output_type": "stream",
     "text": [
      "[0, 2, 4, 6, 8, 10]\n"
     ]
    }
   ],
   "source": [
    "\n",
    "l = [0,1,2,3,4,5]\n",
    "def map(fct,l):\n",
    "    liste = list()\n",
    "    for k in l:\n",
    "        liste.append(fct(k))\n",
    "    return liste\n",
    "\n",
    "print(map(f,l))"
   ]
  },
  {
   "cell_type": "code",
   "execution_count": 26,
   "metadata": {},
   "outputs": [
    {
     "name": "stdout",
     "output_type": "stream",
     "text": [
      "<generator object <genexpr> at 0x7fa368e50b30>\n"
     ]
    }
   ],
   "source": [
    "#expresssion génératrice : versione fainéante des liste en compréhension\n",
    "# la syntase est la meme sauf que sont des paranthèses\n",
    "\n",
    "a = (i for i in range(10) if i % 2 == 0)\n",
    "print(a)"
   ]
  },
  {
   "cell_type": "code",
   "execution_count": 27,
   "metadata": {},
   "outputs": [
    {
     "data": {
      "text/plain": [
       "(0, 2, 4, 6, 8)"
      ]
     },
     "execution_count": 27,
     "metadata": {},
     "output_type": "execute_result"
    }
   ],
   "source": [
    "tuple(a)"
   ]
  },
  {
   "cell_type": "code",
   "execution_count": 29,
   "metadata": {},
   "outputs": [
    {
     "name": "stdout",
     "output_type": "stream",
     "text": [
      "start\n",
      "continue\n",
      "end\n"
     ]
    },
    {
     "data": {
      "text/plain": [
       "['AAA', 'BBB']"
      ]
     },
     "execution_count": 29,
     "metadata": {},
     "output_type": "execute_result"
    }
   ],
   "source": [
    "def genere_AB():\n",
    "    print(\"start\")\n",
    "    yield 'A'\n",
    "    print(\"continue\")\n",
    "    yield \"B\"\n",
    "    print(\"end\")\n",
    "\n",
    "\n",
    "res1 = [x*3 for x in genere_AB()]\n",
    "res1\n"
   ]
  },
  {
   "cell_type": "code",
   "execution_count": 33,
   "metadata": {},
   "outputs": [
    {
     "data": {
      "text/plain": [
       "<generator object <genexpr> at 0x7fa368e26b30>"
      ]
     },
     "execution_count": 33,
     "metadata": {},
     "output_type": "execute_result"
    }
   ],
   "source": [
    "res2 = (x*3 for x in genere_AB()) \n",
    "res2"
   ]
  },
  {
   "cell_type": "code",
   "execution_count": 34,
   "metadata": {},
   "outputs": [
    {
     "name": "stdout",
     "output_type": "stream",
     "text": [
      "start\n",
      "AAA\n",
      "continue\n",
      "BBB\n",
      "end\n"
     ]
    }
   ],
   "source": [
    "for elem in res2:\n",
    "    print(elem)"
   ]
  },
  {
   "cell_type": "code",
   "execution_count": null,
   "metadata": {},
   "outputs": [],
   "source": [
    "#préférer les expressions génératrices dans les cas les plus simples à lire sinon utiliser les générateurs\n",
    "\n"
   ]
  },
  {
   "cell_type": "code",
   "execution_count": 47,
   "metadata": {},
   "outputs": [
    {
     "data": {
      "text/plain": [
       "{3, 4, 5, 6}"
      ]
     },
     "execution_count": 47,
     "metadata": {},
     "output_type": "execute_result"
    }
   ],
   "source": [
    "# compréhensions d'ensembles (set)\n",
    "a = {x for x in range(10) if 2 < x < 7}\n",
    "a\n"
   ]
  },
  {
   "cell_type": "code",
   "execution_count": 53,
   "metadata": {},
   "outputs": [
    {
     "name": "stdout",
     "output_type": "stream",
     "text": [
      "0\n",
      "2\n",
      "4\n",
      "6\n",
      "8\n"
     ]
    }
   ],
   "source": [
    "b = {x for x in range(0,10,2)}\n"
   ]
  },
  {
   "cell_type": "code",
   "execution_count": 59,
   "metadata": {},
   "outputs": [
    {
     "data": {
      "text/plain": [
       "{0: 'deux', 1: 'deux', 2: 'deux'}"
      ]
     },
     "execution_count": 59,
     "metadata": {},
     "output_type": "execute_result"
    }
   ],
   "source": [
    "# compréhensions de dictionnaire (dict())\n",
    "\n",
    "d_A = {chiffre : mot for chiffre in range(3) for mot in [\"zero\",\"un\",\"deux\"]}\n",
    "d_A"
   ]
  },
  {
   "cell_type": "code",
   "execution_count": 64,
   "metadata": {},
   "outputs": [
    {
     "data": {
      "text/plain": [
       "{0: 'zero', 1: 'un', 2: 'deux'}"
      ]
     },
     "execution_count": 64,
     "metadata": {},
     "output_type": "execute_result"
    }
   ],
   "source": [
    "#if faut donc utiliser ZIP\n",
    "d_A = {chiffre : mot for (chiffre,mot) in zip(range(3),[\"zero\",\"un\",\"deux\"])}\n",
    "d_A"
   ]
  },
  {
   "cell_type": "code",
   "execution_count": 68,
   "metadata": {},
   "outputs": [
    {
     "name": "stdout",
     "output_type": "stream",
     "text": [
      "<class 'set'>\n",
      "{'deux', 'zero'}\n"
     ]
    }
   ],
   "source": [
    "set_B = { mot for (cle,mot) in d_A.items() if cle % 2 == 0}\n",
    "print(type(set_B))\n",
    "print(set_B)"
   ]
  },
  {
   "cell_type": "code",
   "execution_count": 1,
   "metadata": {},
   "outputs": [
    {
     "name": "stdout",
     "output_type": "stream",
     "text": [
      "définition des objects de la classe\n",
      "La surface du rectangle est:  50\n",
      "La surface du rectangle est:  20\n",
      "bleu\n",
      "Le perimetre du rectangle est: 24\n"
     ]
    }
   ],
   "source": [
    "class Rectangle(object):\n",
    "    \"\"\"définition des objects de la classe\"\"\"\n",
    "    notification = \"un autre rectangle est crée\"\n",
    "    nombre_rectangle = 0\n",
    "    \n",
    "    \n",
    "    def __init__(self,largeur,longueur):\n",
    "        self.largeur = largeur\n",
    "        self.longueur = longueur\n",
    "    \n",
    "    def calcul_surface(self):\n",
    "        \"\"\"calcule la surface du rectangle\"\"\"\n",
    "        surface = self.largeur * self.longueur\n",
    "        print(\"La surface du rectangle est: \", surface)\n",
    "        \n",
    "    def perimetre(self):\n",
    "        \"\"\"calcule le perimètre du rectangle\"\"\"\n",
    "        perimetre = (self.longueur + self.largeur)*2\n",
    "        print(\"Le perimetre du rectangle est:\", perimetre)\n",
    "        \n",
    "Rectangle.__doc__\n",
    "Rectangle.longueur = 5\n",
    "print(Rectangle.__doc__)\n",
    "\n",
    "rec1 = Rectangle(10,5)\n",
    "rec1.calcul_surface()\n",
    "\n",
    "rec2 = Rectangle(10,2)\n",
    "rec2.calcul_surface()\n",
    "\n",
    "rec2.couleur = \"bleu\"\n",
    "print(rec2.couleur)\n",
    "\n",
    "rec2.perimetre()"
   ]
  },
  {
   "cell_type": "code",
   "execution_count": 12,
   "metadata": {},
   "outputs": [],
   "source": [
    "rec3 = Rectangle(10,4) #on peut suprrimer un objt\n",
    "del(rec3)"
   ]
  },
  {
   "cell_type": "code",
   "execution_count": 38,
   "metadata": {},
   "outputs": [
    {
     "name": "stdout",
     "output_type": "stream",
     "text": [
      "le diamètre est de 4 cm\n"
     ]
    }
   ],
   "source": [
    "#hiérachie des classes\n",
    "\n",
    "class Forme(object):\n",
    "    def __init__(self,x,y):\n",
    "        self.x = x\n",
    "        self.y = y\n",
    "        \n",
    "    def afficher(self):\n",
    "        return self.x,self.y\n",
    "    \n",
    "\n",
    "class Cercle(Forme):\n",
    "    def __init__(self,x,y,diametre):\n",
    "        super().__init__(x, y)\n",
    "        self.diametre = diametre\n",
    "    def afficher_diametre(self):\n",
    "        print(f\"le diamètre est de {self.diametre} cm\")\n",
    "    \n",
    "c1 = Cercle(2,2,4)\n",
    "c1.afficher()\n",
    "c1.afficher_diametre()\n",
    "    \n",
    "\n"
   ]
  },
  {
   "cell_type": "code",
   "execution_count": 36,
   "metadata": {},
   "outputs": [
    {
     "name": "stdout",
     "output_type": "stream",
     "text": [
      "la valeur de a est 2\n"
     ]
    }
   ],
   "source": [
    "a = 2\n",
    "print(f\"la valeur de a est {a}\")"
   ]
  },
  {
   "cell_type": "code",
   "execution_count": null,
   "metadata": {},
   "outputs": [],
   "source": [
    "class B(object):\n",
    "    pass\n",
    "class C(object):\n",
    "    pass\n",
    "class D(B,C): #attention à l'odre des classes\n",
    "    pass "
   ]
  },
  {
   "cell_type": "code",
   "execution_count": 51,
   "metadata": {},
   "outputs": [
    {
     "ename": "TypeError",
     "evalue": "descriptor '__init__' of 'super' object needs an argument",
     "output_type": "error",
     "traceback": [
      "\u001b[0;31m---------------------------------------------------------------------------\u001b[0m",
      "\u001b[0;31mTypeError\u001b[0m                                 Traceback (most recent call last)",
      "\u001b[1;32m/Users/sambarbosa/visual_studio_code/L2/Con_anv_prog/cours/cours.ipynb Cell 22\u001b[0m in \u001b[0;36m<cell line: 21>\u001b[0;34m()\u001b[0m\n\u001b[1;32m     <a href='vscode-notebook-cell:/Users/sambarbosa/visual_studio_code/L2/Con_anv_prog/cours/cours.ipynb#X30sZmlsZQ%3D%3D?line=17'>18</a>\u001b[0m \u001b[39mclass\u001b[39;00m \u001b[39mHero\u001b[39;00m(Voleur,Druide):\n\u001b[1;32m     <a href='vscode-notebook-cell:/Users/sambarbosa/visual_studio_code/L2/Con_anv_prog/cours/cours.ipynb#X30sZmlsZQ%3D%3D?line=18'>19</a>\u001b[0m     \u001b[39mpass\u001b[39;00m\n\u001b[0;32m---> <a href='vscode-notebook-cell:/Users/sambarbosa/visual_studio_code/L2/Con_anv_prog/cours/cours.ipynb#X30sZmlsZQ%3D%3D?line=20'>21</a>\u001b[0m h \u001b[39m=\u001b[39m Hero()\n\u001b[1;32m     <a href='vscode-notebook-cell:/Users/sambarbosa/visual_studio_code/L2/Con_anv_prog/cours/cours.ipynb#X30sZmlsZQ%3D%3D?line=21'>22</a>\u001b[0m h\u001b[39m.\u001b[39mafficher_talent()\n\u001b[1;32m     <a href='vscode-notebook-cell:/Users/sambarbosa/visual_studio_code/L2/Con_anv_prog/cours/cours.ipynb#X30sZmlsZQ%3D%3D?line=22'>23</a>\u001b[0m h\u001b[39m.\u001b[39mafficher_magie()\n",
      "\u001b[1;32m/Users/sambarbosa/visual_studio_code/L2/Con_anv_prog/cours/cours.ipynb Cell 22\u001b[0m in \u001b[0;36mVoleur.__init__\u001b[0;34m(self)\u001b[0m\n\u001b[1;32m     <a href='vscode-notebook-cell:/Users/sambarbosa/visual_studio_code/L2/Con_anv_prog/cours/cours.ipynb#X30sZmlsZQ%3D%3D?line=9'>10</a>\u001b[0m \u001b[39mdef\u001b[39;00m \u001b[39m__init__\u001b[39m(\u001b[39mself\u001b[39m):\n\u001b[0;32m---> <a href='vscode-notebook-cell:/Users/sambarbosa/visual_studio_code/L2/Con_anv_prog/cours/cours.ipynb#X30sZmlsZQ%3D%3D?line=10'>11</a>\u001b[0m     \u001b[39msuper\u001b[39;49m\u001b[39m.\u001b[39;49m\u001b[39m__init__\u001b[39;49m()\n\u001b[1;32m     <a href='vscode-notebook-cell:/Users/sambarbosa/visual_studio_code/L2/Con_anv_prog/cours/cours.ipynb#X30sZmlsZQ%3D%3D?line=11'>12</a>\u001b[0m     \u001b[39mself\u001b[39m\u001b[39m.\u001b[39mtalent \u001b[39m=\u001b[39m \u001b[39m5\u001b[39m\n",
      "\u001b[0;31mTypeError\u001b[0m: descriptor '__init__' of 'super' object needs an argument"
     ]
    }
   ],
   "source": [
    "\n",
    "#utiliser super dans l'héritage multiple\n",
    "class Druide(object):\n",
    "    def __init__(self):\n",
    "        super.__init__()\n",
    "        self.magie = 4\n",
    "        \n",
    "    def afficher_magie(self):\n",
    "        return self.magie\n",
    "    \n",
    "class Voleur(object):\n",
    "    def __init__(self):\n",
    "        super.__init__()\n",
    "        self.talent = 5\n",
    "        \n",
    "    def afficher_talent(self):\n",
    "        return self.talent\n",
    "    \n",
    "    \n",
    "class Hero(Voleur,Druide):\n",
    "    pass\n",
    "\n",
    "h = Hero()\n",
    "h.afficher_talent()\n",
    "h.afficher_magie()\n",
    "    "
   ]
  },
  {
   "cell_type": "code",
   "execution_count": 7,
   "metadata": {},
   "outputs": [
    {
     "name": "stdout",
     "output_type": "stream",
     "text": [
      "cercle\n"
     ]
    }
   ],
   "source": [
    "#classes abstraites\n",
    "\n",
    "from abc import ABCMeta, abstractclassmethod\n",
    "\n",
    "class Forme(metaclass =ABCMeta):\n",
    "    @abstractclassmethod\n",
    "    def perimetre(self):\n",
    "        print(\"calcul du perimètre\")\n",
    "\n",
    "class Cercle(Forme):\n",
    "    def __init__(self,rayon):\n",
    "        self.rayon = rayon\n",
    "    def perimetre(self):\n",
    "        print(\"cercle\")\n",
    "        \n",
    "c = Cercle(3)\n",
    "c.perimetre()\n",
    "class Etoile(Forme):\n",
    "    pass"
   ]
  },
  {
   "cell_type": "code",
   "execution_count": 14,
   "metadata": {},
   "outputs": [
    {
     "name": "stdout",
     "output_type": "stream",
     "text": [
      "impair\n",
      "3 est None\n"
     ]
    }
   ],
   "source": [
    "def pair_impair(n):\n",
    "    if n % 2 == 0:\n",
    "        print(\"paire\")\n",
    "    else:\n",
    "        print(\"impair\")\n",
    "n = 3\n",
    "print(f\"{n} est {pair_impair(n)}\")"
   ]
  },
  {
   "cell_type": "code",
   "execution_count": 28,
   "metadata": {},
   "outputs": [
    {
     "ename": "TypeError",
     "evalue": "'int' object is not callable",
     "output_type": "error",
     "traceback": [
      "\u001b[0;31m---------------------------------------------------------------------------\u001b[0m",
      "\u001b[0;31mTypeError\u001b[0m                                 Traceback (most recent call last)",
      "\u001b[1;32m/Users/sambarbosa/visual_studio_code/L2/Con_anv_prog/cours/cours.ipynb Cell 25\u001b[0m in \u001b[0;36m<cell line: 14>\u001b[0;34m()\u001b[0m\n\u001b[1;32m     <a href='vscode-notebook-cell:/Users/sambarbosa/visual_studio_code/L2/Con_anv_prog/cours/cours.ipynb#X33sZmlsZQ%3D%3D?line=10'>11</a>\u001b[0m         \u001b[39mself\u001b[39m\u001b[39m.\u001b[39mx \u001b[39m=\u001b[39m n\n\u001b[1;32m     <a href='vscode-notebook-cell:/Users/sambarbosa/visual_studio_code/L2/Con_anv_prog/cours/cours.ipynb#X33sZmlsZQ%3D%3D?line=12'>13</a>\u001b[0m vect \u001b[39m=\u001b[39m Vecteur2D(\u001b[39m1\u001b[39m,\u001b[39m2\u001b[39m)  \n\u001b[0;32m---> <a href='vscode-notebook-cell:/Users/sambarbosa/visual_studio_code/L2/Con_anv_prog/cours/cours.ipynb#X33sZmlsZQ%3D%3D?line=13'>14</a>\u001b[0m vect\u001b[39m.\u001b[39;49m_getx()      \n\u001b[1;32m     <a href='vscode-notebook-cell:/Users/sambarbosa/visual_studio_code/L2/Con_anv_prog/cours/cours.ipynb#X33sZmlsZQ%3D%3D?line=14'>15</a>\u001b[0m vect\u001b[39m.\u001b[39m\u001b[39m__dict__\u001b[39m\n\u001b[1;32m     <a href='vscode-notebook-cell:/Users/sambarbosa/visual_studio_code/L2/Con_anv_prog/cours/cours.ipynb#X33sZmlsZQ%3D%3D?line=15'>16</a>\u001b[0m vect\u001b[39m.\u001b[39m__set_x(\u001b[39m\"\u001b[39m\u001b[39mA\u001b[39m\u001b[39m\"\u001b[39m)\n",
      "\u001b[0;31mTypeError\u001b[0m: 'int' object is not callable"
     ]
    }
   ],
   "source": [
    "class Vecteur2D(object):\n",
    "    def __init__(self,x,y) -> None:\n",
    "        self.x = x\n",
    "        self.y = y\n",
    "    \n",
    "    @property\n",
    "    def _getx(self):\n",
    "        return self.x\n",
    "    @property\n",
    "    def __set_x(self,n):\n",
    "        self.x = n\n",
    "    \n",
    "vect = Vecteur2D(1,2)  \n",
    "vect._getx()      \n",
    "vect.__dict__\n",
    "vect.__set_x(\"A\")\n",
    "vect.__dict__\n"
   ]
  },
  {
   "cell_type": "code",
   "execution_count": 34,
   "metadata": {},
   "outputs": [
    {
     "ename": "TypeError",
     "evalue": "'_SpecialGenericAlias' object does not support item assignment",
     "output_type": "error",
     "traceback": [
      "\u001b[0;31m---------------------------------------------------------------------------\u001b[0m",
      "\u001b[0;31mTypeError\u001b[0m                                 Traceback (most recent call last)",
      "\u001b[1;32m/Users/sambarbosa/visual_studio_code/L2/Con_anv_prog/cours/cours.ipynb Cell 26\u001b[0m in \u001b[0;36m<cell line: 5>\u001b[0;34m()\u001b[0m\n\u001b[1;32m      <a href='vscode-notebook-cell:/Users/sambarbosa/visual_studio_code/L2/Con_anv_prog/cours/cours.ipynb#X34sZmlsZQ%3D%3D?line=2'>3</a>\u001b[0m \u001b[39mdef\u001b[39;00m \u001b[39mpremier\u001b[39m(conteneur : List[T])\u001b[39m-\u001b[39m\u001b[39m>\u001b[39mT:\n\u001b[1;32m      <a href='vscode-notebook-cell:/Users/sambarbosa/visual_studio_code/L2/Con_anv_prog/cours/cours.ipynb#X34sZmlsZQ%3D%3D?line=3'>4</a>\u001b[0m     \u001b[39mreturn\u001b[39;00m \u001b[39m\"\u001b[39m\u001b[39ma\u001b[39m\u001b[39m\"\u001b[39m\n\u001b[0;32m----> <a href='vscode-notebook-cell:/Users/sambarbosa/visual_studio_code/L2/Con_anv_prog/cours/cours.ipynb#X34sZmlsZQ%3D%3D?line=4'>5</a>\u001b[0m liste1 \u001b[39m=\u001b[39m List[\u001b[39mstr\u001b[39m]\u001b[39m=\u001b[39m[\u001b[39m\"\u001b[39m\u001b[39ma\u001b[39m\u001b[39m\"\u001b[39m,\u001b[39m\"\u001b[39m\u001b[39mb\u001b[39m\u001b[39m\"\u001b[39m,\u001b[39m\"\u001b[39m\u001b[39mc\u001b[39m\u001b[39m\"\u001b[39m]\n\u001b[1;32m      <a href='vscode-notebook-cell:/Users/sambarbosa/visual_studio_code/L2/Con_anv_prog/cours/cours.ipynb#X34sZmlsZQ%3D%3D?line=5'>6</a>\u001b[0m premier(liste1)\n",
      "\u001b[0;31mTypeError\u001b[0m: '_SpecialGenericAlias' object does not support item assignment"
     ]
    }
   ],
   "source": [
    "from typing import TypeVar,List\n",
    "T = TypeVar(\"T\")\n",
    "def premier(conteneur : List[T])->T:\n",
    "    return \"a\"\n",
    "liste1 = List[str]=[\"a\",\"b\",\"c\"]\n",
    "premier(liste1)"
   ]
  }
 ],
 "metadata": {
  "kernelspec": {
   "display_name": "base",
   "language": "python",
   "name": "python3"
  },
  "language_info": {
   "codemirror_mode": {
    "name": "ipython",
    "version": 3
   },
   "file_extension": ".py",
   "mimetype": "text/x-python",
   "name": "python",
   "nbconvert_exporter": "python",
   "pygments_lexer": "ipython3",
   "version": "3.9.5"
  },
  "orig_nbformat": 4,
  "vscode": {
   "interpreter": {
    "hash": "34adaf33f4013e9f044ea830c8728ae8511d15c3ab9eca41e9d19329c6e63e34"
   }
  }
 },
 "nbformat": 4,
 "nbformat_minor": 2
}
