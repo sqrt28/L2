{
 "cells": [
  {
   "cell_type": "code",
   "execution_count": 4,
   "metadata": {},
   "outputs": [],
   "source": [
    "import random as rd\n",
    "import time\n",
    "import matplotlib.pyplot as plt\n",
    "tab_test = [rd.randint(0,20) for i in range(20)]"
   ]
  },
  {
   "cell_type": "code",
   "execution_count": 5,
   "metadata": {},
   "outputs": [
    {
     "data": {
      "text/plain": [
       "[1, 4, 6, 6, 6, 7, 8, 8, 9, 9, 10, 10, 10, 12, 14, 14, 15, 16, 18, 18]"
      ]
     },
     "execution_count": 5,
     "metadata": {},
     "output_type": "execute_result"
    }
   ],
   "source": [
    "#tri par insertion\n",
    "def tri_insertion(tab):\n",
    "    for tc in range(0,len(tab)-1):\n",
    "        temp = tab[tc+1]\n",
    "        p = 0\n",
    "        while tab[p] < temp:\n",
    "            p += 1\n",
    "        for i in range(tc,p-1,-1):\n",
    "            tab[i+1] = tab[i]\n",
    "        tab[p] = temp\n",
    "    return tab\n",
    "tri_insertion(tab_test)"
   ]
  },
  {
   "cell_type": "code",
   "execution_count": 6,
   "metadata": {},
   "outputs": [
    {
     "data": {
      "text/plain": [
       "[1, 4, 6, 6, 6, 7, 8, 8, 9, 9, 10, 10, 10, 12, 14, 14, 15, 16, 18, 18]"
      ]
     },
     "execution_count": 6,
     "metadata": {},
     "output_type": "execute_result"
    }
   ],
   "source": [
    "#tri par permutation\n",
    "\n",
    "def tri_permutation(tab):\n",
    "    for tc in range(2,len(tab)+1):\n",
    "        for i in range(len(tab),tc-1,-1):\n",
    "            if tab[i-2] > tab[i-1]:\n",
    "                a = tab[i-1] \n",
    "                tab[i-1] = tab[i-2]\n",
    "                tab[i-2] = a\n",
    "    return tab\n",
    "tri_permutation(tab_test)"
   ]
  },
  {
   "cell_type": "code",
   "execution_count": 7,
   "metadata": {},
   "outputs": [],
   "source": [
    "def fusion(g, d):\n",
    "    \"fusionne deux tableau trié\"\n",
    "    i1, i2 = 0, 0\n",
    "    tableau_fusion = []\n",
    "    while len(g) > i1 and len(d) > i2: #tant qu'il y a des cases\n",
    "        if g[i1] < d[i2]:\n",
    "            tableau_fusion.append(g[i1])\n",
    "            i1 += 1\n",
    "        else :\n",
    "            tableau_fusion.append(d[i2])\n",
    "            i2 += 1\n",
    "    while len(g) > i1:\n",
    "        tableau_fusion.append(g[i1])\n",
    "        i1 +=1\n",
    "    while len(d) > i2:\n",
    "        tableau_fusion.append(d[i2])\n",
    "        i2 +=1\n",
    "    return tableau_fusion"
   ]
  },
  {
   "cell_type": "code",
   "execution_count": 8,
   "metadata": {},
   "outputs": [
    {
     "data": {
      "text/plain": [
       "[1, 4, 6, 6, 6, 7, 8, 8, 9, 9, 10, 10, 10, 12, 14, 14, 15, 16, 18, 18]"
      ]
     },
     "execution_count": 8,
     "metadata": {},
     "output_type": "execute_result"
    }
   ],
   "source": [
    "def tri_fusion(tab): \n",
    "    \"tri fusion\"\n",
    "    if len(tab) <= 1 :\n",
    "        return tab\n",
    "    r = len(tab) // 2\n",
    "    tab1 = tab[:r]\n",
    "    tab2 = tab[r:]\n",
    "    g = tri_fusion(tab1) # partie de gauche\n",
    "    d = tri_fusion(tab2) # partie de droite\n",
    "    tableau = fusion(g, d)\n",
    "    return tableau\n",
    "tri_fusion(tab_test)\n"
   ]
  },
  {
   "cell_type": "code",
   "execution_count": 9,
   "metadata": {},
   "outputs": [],
   "source": [
    "def partition(tab,g,d):\n",
    "    pivot = tab[g]\n",
    "    i=g+1\n",
    "    j=d\n",
    "    while i<=j:\n",
    "        while i<len(tab) and tab[i]<=pivot:\n",
    "            i=i+1\n",
    "        while tab[j]>pivot:\n",
    "            j=j-1\n",
    "        if i<j:\n",
    "            tab[i],tab[j] = tab[j],tab[i]\n",
    "            i=i+1\n",
    "            j=j-1\n",
    "    tab[g],tab[j]= tab[j],tab[g]\n",
    "    return j"
   ]
  },
  {
   "cell_type": "code",
   "execution_count": 10,
   "metadata": {},
   "outputs": [
    {
     "data": {
      "text/plain": [
       "[1, 4, 6, 6, 6, 7, 8, 8, 9, 9, 10, 10, 10, 12, 14, 14, 15, 16, 18, 18]"
      ]
     },
     "execution_count": 10,
     "metadata": {},
     "output_type": "execute_result"
    }
   ],
   "source": [
    "def tri_rapide(tab,g,d):\n",
    "    if g<d:\n",
    "        j = partition(tab,g,d)\n",
    "        tri_rapide(tab,g,j-1)\n",
    "        tri_rapide(tab,j+1,d)\n",
    "    return tab\n",
    "\n",
    "tri_rapide((tab_test),0,19)"
   ]
  },
  {
   "cell_type": "code",
   "execution_count": 11,
   "metadata": {},
   "outputs": [
    {
     "data": {
      "text/plain": [
       "2.193450927734375e-05"
      ]
     },
     "execution_count": 11,
     "metadata": {},
     "output_type": "execute_result"
    }
   ],
   "source": [
    "def duree(tab,algo):\n",
    "    \"\"\"renvoie la duréee de la fonction choisie\"\"\"\n",
    "    debut = time.time() \n",
    "    if algo == 1:\n",
    "        tri_insertion(tab)\n",
    "    elif algo == 2:\n",
    "        tri_permutation(tab)\n",
    "    fin = time.time() \n",
    "    return fin - debut \n",
    "duree(tab_test,2)"
   ]
  },
  {
   "cell_type": "code",
   "execution_count": null,
   "metadata": {},
   "outputs": [],
   "source": [
    "#algo tr par séléction\n",
    "def tri par"
   ]
  },
  {
   "cell_type": "code",
   "execution_count": 12,
   "metadata": {},
   "outputs": [
    {
     "data": {
      "image/png": "[encoded data removed]",
      "text/plain": [
       "<Figure size 432x288 with 1 Axes>"
      ]
     },
     "metadata": {
      "needs_background": "light"
     },
     "output_type": "display_data"
    }
   ],
   "source": [
    "# afficher une courbe\n",
    "x = []\n",
    "y = []\n",
    "for i in range(100,1000,10):\n",
    "    x.append(i)\n",
    "    y.append(i*i)\n",
    "fig = plt.figure()\n",
    "ax = plt.axes()\n",
    "plt.plot(x,y, \"r-\", label=\"insertion\")\n",
    "plt.plot(x,y, \"b-\", label=\"permutation\")\n",
    "plt.legend(loc=\"upper left\")\n",
    "plt.xlabel(\"Taille des tableaux à trier\")\n",
    "plt.ylabel(\"Temps en seconde\")\n",
    "plt.show()"
   ]
  }
 ],
 "metadata": {
  "kernelspec": {
   "display_name": "Python 3.9.7 ('l1-python')",
   "language": "python",
   "name": "python3"
  },
  "language_info": {
   "codemirror_mode": {
    "name": "ipython",
    "version": 3
   },
   "file_extension": ".py",
   "mimetype": "text/x-python",
   "name": "python",
   "nbconvert_exporter": "python",
   "pygments_lexer": "ipython3",
   "version": "3.9.7"
  },
  "orig_nbformat": 4,
  "vscode": {
   "interpreter": {
    "hash": "aed427c7a1222b30c501f2b5c2b75a25a598e3434eb7074437fef6b9ae4e235b"
   }
  }
 },
 "nbformat": 4,
 "nbformat_minor": 2
}
