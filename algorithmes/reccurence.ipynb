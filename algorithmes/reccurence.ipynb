{
 "cells": [
  {
   "cell_type": "code",
   "execution_count": 7,
   "metadata": {},
   "outputs": [
    {
     "data": {
      "text/plain": [
       "5"
      ]
     },
     "execution_count": 7,
     "metadata": {},
     "output_type": "execute_result"
    }
   ],
   "source": [
    "def fibo(n):\n",
    "    \"\"\"suite de fibonnaci\"\"\"\n",
    "    #fct qui n'est pas intéressante car elle coûte trop cher en temps (O(exponentielle).\n",
    "    if n ==0:\n",
    "        return 0\n",
    "    if n == 1:\n",
    "        return 1\n",
    "    else:\n",
    "        return fibo(n-1) + fibo(n-2)\n",
    "fibo(5)\n"
   ]
  },
  {
   "cell_type": "code",
   "execution_count": 8,
   "metadata": {},
   "outputs": [
    {
     "name": "stdout",
     "output_type": "stream",
     "text": [
      "55\n",
      "55\n"
     ]
    }
   ],
   "source": [
    "def somme(n):\n",
    "    \"\"\"renvoie la somme des chiffres de 0 à n\"\"\"\n",
    "    if n == 0:\n",
    "        return 0\n",
    "    else:\n",
    "        return  somme(n-1) + n\n",
    "        \n",
    "print(somme(10))\n",
    "\n",
    "\n",
    "def somme1(n):\n",
    "    s=0\n",
    "    for i in range(n+1):\n",
    "        s += i\n",
    "    return s\n",
    "print(somme1(10))"
   ]
  },
  {
   "cell_type": "code",
   "execution_count": 24,
   "metadata": {},
   "outputs": [
    {
     "name": "stdout",
     "output_type": "stream",
     "text": [
      "0\n"
     ]
    }
   ],
   "source": [
    "def carre(n):\n",
    "    \"\"\"renvoie le carré de n\"\"\"\n",
    "    if n == 0:\n",
    "        return 0\n",
    "    return (carre((n-1)**2) + 2*(n-1) -1)\n",
    "print(carre(2))"
   ]
  }
 ],
 "metadata": {
  "kernelspec": {
   "display_name": "Python 3.9.7 ('l1-python')",
   "language": "python",
   "name": "python3"
  },
  "language_info": {
   "codemirror_mode": {
    "name": "ipython",
    "version": 3
   },
   "file_extension": ".py",
   "mimetype": "text/x-python",
   "name": "python",
   "nbconvert_exporter": "python",
   "pygments_lexer": "ipython3",
   "version": "3.9.7"
  },
  "orig_nbformat": 4,
  "vscode": {
   "interpreter": {
    "hash": "aed427c7a1222b30c501f2b5c2b75a25a598e3434eb7074437fef6b9ae4e235b"
   }
  }
 },
 "nbformat": 4,
 "nbformat_minor": 2
}
